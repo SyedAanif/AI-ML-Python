{
 "cells": [
  {
   "cell_type": "markdown",
   "id": "59a0f63b",
   "metadata": {},
   "source": [
    "Here we will do a default implementation of the **Cosine Similarity**."
   ]
  },
  {
   "cell_type": "code",
   "execution_count": 1,
   "id": "25cc3aec",
   "metadata": {},
   "outputs": [],
   "source": [
    "from math import *"
   ]
  },
  {
   "cell_type": "code",
   "execution_count": 2,
   "id": "6e89eeb4",
   "metadata": {},
   "outputs": [],
   "source": [
    "def calculate_modulus(a): # square root of sum of squares of individual elements\n",
    "    return round(sqrt(sum(i**2 for i in a)),4)"
   ]
  },
  {
   "cell_type": "code",
   "execution_count": 3,
   "id": "98f5e0fa",
   "metadata": {},
   "outputs": [],
   "source": [
    "# function to calculate Cosine Similarity\n",
    "def calculate_cosine_similarity(x,y): # two vectors as input\n",
    "    numerator = sum(a*b for a,b in zip(x,y)) # multiply individual elements of the vectors and sum\n",
    "    denominator = calculate_modulus(x) * calculate_modulus(y) # multiply modulus of the vectors\n",
    "    return round(numerator/denominator,4)"
   ]
  },
  {
   "cell_type": "code",
   "execution_count": 4,
   "id": "1c0df5bc",
   "metadata": {},
   "outputs": [
    {
     "data": {
      "text/plain": [
       "0.9723"
      ]
     },
     "execution_count": 4,
     "metadata": {},
     "output_type": "execute_result"
    }
   ],
   "source": [
    "calculate_cosine_similarity([3, 45, 7, 2], [2, 54, 13, 15])"
   ]
  },
  {
   "cell_type": "code",
   "execution_count": 6,
   "id": "32579f32",
   "metadata": {},
   "outputs": [
    {
     "data": {
      "text/plain": [
       "0.4158"
      ]
     },
     "execution_count": 6,
     "metadata": {},
     "output_type": "execute_result"
    }
   ],
   "source": [
    "calculate_cosine_similarity([2,3,1,6],[1,2,3,0])"
   ]
  }
 ],
 "metadata": {
  "kernelspec": {
   "display_name": "Python 3",
   "language": "python",
   "name": "python3"
  },
  "language_info": {
   "codemirror_mode": {
    "name": "ipython",
    "version": 3
   },
   "file_extension": ".py",
   "mimetype": "text/x-python",
   "name": "python",
   "nbconvert_exporter": "python",
   "pygments_lexer": "ipython3",
   "version": "3.8.8"
  }
 },
 "nbformat": 4,
 "nbformat_minor": 5
}
