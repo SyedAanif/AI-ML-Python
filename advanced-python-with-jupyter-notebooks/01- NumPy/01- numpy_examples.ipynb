{
 "cells": [
  {
   "cell_type": "markdown",
   "id": "88eabf5d",
   "metadata": {},
   "source": [
    "# NumPy\n",
    "Numerical Python is python's package for:\n",
    "1. advanced maths (exponential, square root, cosine).\n",
    "2. generating samples of random variables.\n",
    "3. generate robust arrays, vectors(1-D), matrices(2-D), tensors(higher dimension).\n",
    "4. we can do linear algebra."
   ]
  },
  {
   "cell_type": "code",
   "execution_count": 1,
   "id": "b3366e61",
   "metadata": {},
   "outputs": [],
   "source": [
    "# importing numpy package\n",
    "import numpy as np"
   ]
  },
  {
   "cell_type": "code",
   "execution_count": 6,
   "id": "a979eee5",
   "metadata": {},
   "outputs": [
    {
     "name": "stdout",
     "output_type": "stream",
     "text": [
      "-1.0\n",
      "1.1\n",
      "4\n",
      "5.2\n"
     ]
    }
   ],
   "source": [
    "print(np.cos(np.pi))\n",
    "print(np.sqrt(1.21))\n",
    "print(np.square(2))\n",
    "print(np.log(np.exp(5.2)))"
   ]
  },
  {
   "cell_type": "code",
   "execution_count": 254,
   "id": "96409416",
   "metadata": {},
   "outputs": [
    {
     "name": "stdout",
     "output_type": "stream",
     "text": [
      "[1 2 3]\n",
      "\n",
      "[[1 2 1]\n",
      " [4 5 9]\n",
      " [1 8 9]]\n",
      "\n",
      "[[1 4 1]\n",
      " [2 5 8]\n",
      " [1 9 9]]\n"
     ]
    }
   ],
   "source": [
    "# NUMPY ARRAYS -- All elements are of same data type.\n",
    "# vector - from a list\n",
    "vec = np.array([1,2,3]) # for vectors it's 3 x 1\n",
    "print(vec)\n",
    "print()\n",
    "# matrices - from list of lists\n",
    "mat = np.array([[1,2,1],[4,5,9],[1,8,9]])\n",
    "print(mat)\n",
    "print()\n",
    "print(mat.T) # Transpose of matrix"
   ]
  },
  {
   "cell_type": "code",
   "execution_count": 17,
   "id": "f57f1da2",
   "metadata": {},
   "outputs": [
    {
     "name": "stdout",
     "output_type": "stream",
     "text": [
      "[ 0  1  2  3  4  5  6  7  8  9 10 11 12 13 14]\n",
      "[ 3  7 11 15 19]\n"
     ]
    }
   ],
   "source": [
    "# other way for creating numpy arrays\n",
    "vec2 = np.arange(0,15)  # arange= array in range -- inclusive start, exclusive end\n",
    "print(vec2)\n",
    "vec3 = np.arange(3,21,4) # (start inclusive, end exclusive, increment)\n",
    "print(vec3)  "
   ]
  },
  {
   "cell_type": "code",
   "execution_count": 36,
   "id": "adbbc1bc",
   "metadata": {},
   "outputs": [
    {
     "name": "stdout",
     "output_type": "stream",
     "text": [
      "[0.         0.55555556 1.11111111 1.66666667 2.22222222 2.77777778\n",
      " 3.33333333 3.88888889 4.44444444 5.        ]\n",
      "[[0.         0.55555556]\n",
      " [1.11111111 1.66666667]\n",
      " [2.22222222 2.77777778]\n",
      " [3.33333333 3.88888889]\n",
      " [4.44444444 5.        ]]\n"
     ]
    }
   ],
   "source": [
    "vec4 = np.linspace(0,5,10) # linspace = linear equally spaced points(start inclusive, end exclusive, how many points)\n",
    "print(vec4)\n",
    "print(vec4.reshape(5,2))  # reshape into matrix -(rows, columns) without altering original vector\n",
    "# size = row * column"
   ]
  },
  {
   "cell_type": "code",
   "execution_count": 250,
   "id": "62c8d596",
   "metadata": {},
   "outputs": [
    {
     "name": "stdout",
     "output_type": "stream",
     "text": [
      "[[0. 0. 0.]\n",
      " [0. 0. 0.]\n",
      " [0. 0. 0.]\n",
      " [0. 0. 0.]\n",
      " [0. 0. 0.]]\n",
      "\n",
      "[[1. 1. 1. 1. 1.]\n",
      " [1. 1. 1. 1. 1.]\n",
      " [1. 1. 1. 1. 1.]]\n",
      "\n",
      "[[1. 0. 0. 0. 0.]\n",
      " [0. 1. 0. 0. 0.]\n",
      " [0. 0. 1. 0. 0.]\n",
      " [0. 0. 0. 1. 0.]\n",
      " [0. 0. 0. 0. 1.]]\n"
     ]
    }
   ],
   "source": [
    "mat2 = np.zeros((5,3)) # create matrix of zeros with (rows,columns)\n",
    "print(mat2)\n",
    "print()\n",
    "mat3 = np.ones((3,5)) # create matrix of ones with (rows,columns)\n",
    "print(mat3)\n",
    "print()\n",
    "mat4 = np.eye(5) # identity matrix\n",
    "print(mat4)"
   ]
  },
  {
   "cell_type": "code",
   "execution_count": 120,
   "id": "c0dbf761",
   "metadata": {
    "scrolled": true
   },
   "outputs": [
    {
     "name": "stdout",
     "output_type": "stream",
     "text": [
      "[1 2 3 4 5]\n",
      "\n",
      "[3 4 5 6 7]\n",
      "\n",
      "[ 4  6  8 10 12]\n",
      "\n",
      "[ 3  8 15 24 35]\n",
      "\n",
      "[1.         0.5        0.33333333 0.25       0.2       ]\n",
      "\n",
      "[1.73205081 2.         2.23606798 2.44948974 2.64575131]\n"
     ]
    }
   ],
   "source": [
    "# we can (+,-,*,/) matrix --- provided they are of right size\n",
    "vec5 = np.arange(1,6)\n",
    "print(vec5)\n",
    "print()\n",
    "vec6 = np.arange(3,8)\n",
    "print(vec6)\n",
    "print()\n",
    "print(vec5 + vec6) # element by element addition\n",
    "print()\n",
    "print(vec5 * vec6) # element by element multiplication\n",
    "print()\n",
    "print(1/vec5)  # each element\n",
    "print()\n",
    "print(np.sqrt(vec6)) # each element"
   ]
  },
  {
   "cell_type": "code",
   "execution_count": 255,
   "id": "b25c2307",
   "metadata": {},
   "outputs": [
    {
     "name": "stdout",
     "output_type": "stream",
     "text": [
      "[[1 2 1]\n",
      " [4 5 9]\n",
      " [1 8 9]]\n",
      "\n",
      "[1 2 3]\n",
      "\n",
      "[ 8 41 44]\n"
     ]
    }
   ],
   "source": [
    "# matrix multiplication\n",
    "print(mat)\n",
    "print()\n",
    "print(vec)\n",
    "print()\n",
    "product = np.matmul(mat,vec)  # matrix multiplication\n",
    "print(product)"
   ]
  },
  {
   "cell_type": "code",
   "execution_count": 101,
   "id": "5ec0f2ca",
   "metadata": {},
   "outputs": [
    {
     "name": "stdout",
     "output_type": "stream",
     "text": [
      "[1. 2. 3.]\n",
      "\n",
      "[[ 0.5         0.18518519 -0.24074074]\n",
      " [ 0.5        -0.14814815  0.09259259]\n",
      " [-0.5         0.11111111  0.05555556]]\n"
     ]
    }
   ],
   "source": [
    "# solution of matrix  -- linear algebra\n",
    "print(np.linalg.solve(mat,product)) # product = mat * X -- solve finds X\n",
    "print()\n",
    "print(np.linalg.inv(mat))  # inverse of matrix"
   ]
  },
  {
   "cell_type": "code",
   "execution_count": 107,
   "id": "1c5e594e",
   "metadata": {},
   "outputs": [
    {
     "name": "stdout",
     "output_type": "stream",
     "text": [
      "['blue' 'red' 'orange' 'purple' 'purple' 'orange' 'Red' '6']\n",
      "['6' 'Red' 'blue' 'orange' 'purple' 'red']\n"
     ]
    }
   ],
   "source": [
    "# unique values in an array\n",
    "vec7 = np.array(['blue','red','orange','purple','purple','orange','Red',6])\n",
    "print(vec7) # makes same data type\n",
    "print(np.unique(vec7))"
   ]
  },
  {
   "cell_type": "code",
   "execution_count": 202,
   "id": "2cb24d8e",
   "metadata": {},
   "outputs": [
    {
     "name": "stdout",
     "output_type": "stream",
     "text": [
      "[[0.56997728 0.56287976 0.29364866 0.26536926 0.72295142]\n",
      " [0.56473268 0.97429974 0.03836984 0.820456   0.59879209]\n",
      " [0.09552066 0.4871036  0.68478754 0.60705692 0.13625865]\n",
      " [0.93354225 0.27681866 0.96828282 0.32605425 0.19575921]\n",
      " [0.72733934 0.27343517 0.75809377 0.37433561 0.61427866]]\n",
      "\n",
      "[[-0.22892298 -0.23563156 -0.45890298 -1.36113184 -0.03035447]\n",
      " [-0.21003047  0.1920597   0.4480703   1.15470899  0.17399785]\n",
      " [-1.46952185 -0.14764208  0.52225309  0.61839208 -0.28641984]\n",
      " [ 0.29872069 -0.327831   -0.69177118  0.21863626 -0.5464501 ]\n",
      " [-1.92746918  0.48202925  0.74889426 -2.18997831  0.82045248]\n",
      " [-1.21096124  1.28486829  0.54180883  0.55249204 -1.42030237]\n",
      " [-1.45097457  0.75933694  0.85422983 -0.70794422 -1.55651669]\n",
      " [ 1.03729638 -0.23439027  0.35409732  0.5394605   0.81913219]\n",
      " [-0.55569348  1.52177226 -0.32478122  0.70228642 -0.49460577]\n",
      " [ 0.15165874 -1.99409805 -1.83827611 -1.35641366  1.95313871]]\n"
     ]
    }
   ],
   "source": [
    "# generate samples of Random Variables\n",
    "rand_mat = np.random.rand(5,5)  # uniform random variable -- array(row,column) -- uniformly distributed over 0 to 1, mean = 0.5\n",
    "print(rand_mat)\n",
    "print()\n",
    "rand_mat2 = np.random.randn(10,5)  # standard normal random variable -- array(row,column) -- mean=0, variance=1\n",
    "print(rand_mat2)"
   ]
  },
  {
   "cell_type": "code",
   "execution_count": 210,
   "id": "def552e8",
   "metadata": {},
   "outputs": [
    {
     "name": "stdout",
     "output_type": "stream",
     "text": [
      "0.5148057534757653\n",
      "0.9764907498678578\n"
     ]
    }
   ],
   "source": [
    "# statistical tool on arrays\n",
    "print(np.mean(rand_mat)) # uniform R.V, thus mean=0.5\n",
    "print(np.std(rand_mat2)) # standard normal R.V, thus variance or standard deviation=1"
   ]
  },
  {
   "cell_type": "code",
   "execution_count": 211,
   "id": "472dcefa",
   "metadata": {},
   "outputs": [
    {
     "name": "stdout",
     "output_type": "stream",
     "text": [
      "0.038369844864832636\n",
      "1.9531387103430515\n"
     ]
    }
   ],
   "source": [
    "print(np.min(rand_mat))\n",
    "print(np.max(rand_mat2))"
   ]
  },
  {
   "cell_type": "code",
   "execution_count": 167,
   "id": "2878217a",
   "metadata": {},
   "outputs": [
    {
     "name": "stdout",
     "output_type": "stream",
     "text": [
      "[ 1.27333323  0.05133767  0.65214893 -1.51234005 -1.74978989 -0.52481359\n",
      "  0.98061617 -0.69478682  1.39118392 -0.59288337  0.61871715 -0.03446387\n",
      " -0.72536362 -0.3602918   0.06005328 -0.99043273  0.42650549 -0.45785596\n",
      "  0.53995963]\n",
      "0.9806161705525774\n"
     ]
    }
   ],
   "source": [
    "# accessing elements in a numpy vector\n",
    "rand_vec = np.random.randn(19)\n",
    "print(rand_vec)\n",
    "print(rand_vec[6]) # accessing by index"
   ]
  },
  {
   "cell_type": "code",
   "execution_count": 130,
   "id": "594bd7d2",
   "metadata": {},
   "outputs": [
    {
     "name": "stdout",
     "output_type": "stream",
     "text": [
      "[-0.5864487   2.33669567  1.8028859   1.67422795 -0.04146369]\n",
      "[-0.5864487   1.67422795]\n"
     ]
    }
   ],
   "source": [
    "# accessing using slicing\n",
    "print(rand_vec[4:9])\n",
    "print(rand_vec[4:9:3])  # in steps"
   ]
  },
  {
   "cell_type": "code",
   "execution_count": 134,
   "id": "742304ea",
   "metadata": {},
   "outputs": [
    {
     "name": "stdout",
     "output_type": "stream",
     "text": [
      "[ 0  3  6  9 12]\n",
      "[-0.41085213  0.89710065  1.8028859   1.28953486  0.57830204]\n"
     ]
    }
   ],
   "source": [
    "# accessing multiple non-consecutive entries using np.arange -- accessing using int supplied as index\n",
    "print(np.arange(0,15,3))\n",
    "print(rand_vec[np.arange(0,15,3)])"
   ]
  },
  {
   "cell_type": "code",
   "execution_count": 140,
   "id": "f7e8d287",
   "metadata": {},
   "outputs": [
    {
     "name": "stdout",
     "output_type": "stream",
     "text": [
      "[[0.32395474 0.9831055  0.06950461 0.32627891 0.5626918 ]\n",
      " [0.54727363 0.38171942 0.00947056 0.80695884 0.58155775]\n",
      " [0.82336162 0.27786054 0.71488268 0.65650843 0.66446596]\n",
      " [0.59334599 0.33641284 0.50823954 0.61232836 0.57784987]\n",
      " [0.38595761 0.28495623 0.95091732 0.18095262 0.2699262 ]]\n",
      "[0.54727363 0.38171942 0.00947056 0.80695884 0.58155775]\n",
      "0.009470559494066388\n",
      "0.009470559494066388\n"
     ]
    }
   ],
   "source": [
    "# accessing Matrices\n",
    "print(rand_mat)\n",
    "print(rand_mat[1]) # whole row\n",
    "print(rand_mat[1][2])  # particular element\n",
    "# or simply\n",
    "print(rand_mat[1,2])  # particular element -- [row,column]"
   ]
  },
  {
   "cell_type": "code",
   "execution_count": 156,
   "id": "96eedf3f",
   "metadata": {},
   "outputs": [
    {
     "name": "stdout",
     "output_type": "stream",
     "text": [
      "[[0.32395474 0.9831055  0.06950461 0.32627891 0.5626918 ]\n",
      " [0.54727363 0.38171942 0.00947056 0.80695884 0.58155775]]\n",
      "[[0.06950461 0.32627891]\n",
      " [0.00947056 0.80695884]]\n"
     ]
    }
   ],
   "source": [
    "print(rand_mat[0:2])   # accessing multiple rows\n",
    "print(rand_mat[0:2,2:4])  # accessing multiple colums from sliced rows"
   ]
  },
  {
   "cell_type": "code",
   "execution_count": 168,
   "id": "350180fb",
   "metadata": {},
   "outputs": [
    {
     "name": "stdout",
     "output_type": "stream",
     "text": [
      "[ 1.27333323  0.05133767  0.65214893 -1.51234005 -1.74978989 -0.52481359\n",
      "  0.98061617 -0.69478682  1.39118392 -0.59288337  0.61871715 -0.03446387\n",
      " -0.72536362 -0.3602918   0.06005328 -0.99043273  0.42650549 -0.45785596\n",
      "  0.53995963]\n",
      "[ 1.27333323  0.05133767  7.         -1.51234005 -1.74978989 -0.52481359\n",
      "  0.98061617 -0.69478682  1.39118392 -0.59288337  0.61871715 -0.03446387\n",
      " -0.72536362 -0.3602918   0.06005328 -0.99043273  0.42650549 -0.45785596\n",
      "  0.53995963]\n",
      "\n",
      "\n",
      "[ 1.27333323  0.05133767  7.          4.          4.         -0.52481359\n",
      "  0.98061617 -0.69478682  1.39118392 -0.59288337  0.61871715 -0.03446387\n",
      " -0.72536362 -0.3602918   0.06005328 -0.99043273  0.42650549 -0.45785596\n",
      "  0.53995963]\n",
      "[ 1.27333323  0.05133767  7.          1.          2.         -0.52481359\n",
      "  0.98061617 -0.69478682  1.39118392 -0.59288337  0.61871715 -0.03446387\n",
      " -0.72536362 -0.3602918   0.06005328 -0.99043273  0.42650549 -0.45785596\n",
      "  0.53995963]\n"
     ]
    }
   ],
   "source": [
    "# modifying values\n",
    "print(rand_vec)\n",
    "rand_vec[2] = 7\n",
    "print(rand_vec)\n",
    "print()\n",
    "rand_vec[3:5] = 4  # common values to the range\n",
    "print()\n",
    "print(rand_vec)\n",
    "rand_vec[3:5] = [1,2]  # individual values to the range\n",
    "print(rand_vec)"
   ]
  },
  {
   "cell_type": "code",
   "execution_count": 177,
   "id": "6d8f9fec",
   "metadata": {},
   "outputs": [
    {
     "name": "stdout",
     "output_type": "stream",
     "text": [
      "[[0.31550816 0.39103282 0.28664794 0.08784439 0.74584944]\n",
      " [0.69995483 0.35538029 0.79190756 0.41882048 0.89154609]\n",
      " [0.09680762 0.30867349 0.33979955 0.73979568 0.5685564 ]\n",
      " [0.72392331 0.75162457 0.53766088 0.46197507 0.12848311]\n",
      " [0.72267822 0.73875206 0.79864058 0.12135937 0.69459049]]\n",
      "\n",
      "[[0.31550816 0.39103282 0.28664794 0.08784439 0.74584944]\n",
      " [0.69995483 0.35538029 0.79190756 0.         1.        ]\n",
      " [0.09680762 0.30867349 0.33979955 0.         1.        ]\n",
      " [0.72392331 0.75162457 0.53766088 0.46197507 0.12848311]\n",
      " [0.72267822 0.73875206 0.79864058 0.12135937 0.69459049]]\n"
     ]
    }
   ],
   "source": [
    "# similar approach -- get sliced part, then change\n",
    "print(rand_mat)\n",
    "rand_mat[1:3,3:5] = [0,1]\n",
    "print()\n",
    "print(rand_mat)"
   ]
  },
  {
   "cell_type": "code",
   "execution_count": 184,
   "id": "85bf16e5",
   "metadata": {},
   "outputs": [
    {
     "name": "stdout",
     "output_type": "stream",
     "text": [
      "[[0.59925682 0.54564054 0.44254838]\n",
      " [0.49998005 0.35413616 0.53345482]]\n",
      "[[9. 9. 9.]\n",
      " [9. 9. 9.]]\n"
     ]
    }
   ],
   "source": [
    "# assigning matrix by variables points to same variable, thus change in one changes other too\n",
    "sub_mat = rand_mat[0:2,0:3]\n",
    "print(sub_mat)\n",
    "sub_mat[:,:] = 9\n",
    "print(sub_mat)"
   ]
  },
  {
   "cell_type": "code",
   "execution_count": 186,
   "id": "90e69e63",
   "metadata": {},
   "outputs": [
    {
     "name": "stdout",
     "output_type": "stream",
     "text": [
      "[[9.         9.         9.         0.17411079 0.22914687]\n",
      " [9.         9.         9.         0.1072421  0.61068517]\n",
      " [0.30553241 0.10100625 0.44709578 0.40511115 0.31865263]\n",
      " [0.33714278 0.05705515 0.88270539 0.45399164 0.71632023]\n",
      " [0.95646506 0.09331752 0.9746063  0.75712341 0.06598884]]\n"
     ]
    }
   ],
   "source": [
    "print(rand_mat) # this gets changed too, hence they are popinting to same list"
   ]
  },
  {
   "cell_type": "code",
   "execution_count": 189,
   "id": "d1a17ab7",
   "metadata": {},
   "outputs": [
    {
     "name": "stdout",
     "output_type": "stream",
     "text": [
      "[[9. 9. 9.]\n",
      " [9. 9. 9.]]\n",
      "[[100. 100. 100.]\n",
      " [100. 100. 100.]]\n"
     ]
    }
   ],
   "source": [
    "sub_mat2 = rand_mat[0:2,0:3].copy() # copy creates all together new object, hence changing one doesn't affect other\n",
    "print(sub_mat2)\n",
    "sub_mat2[:,:] = 100\n",
    "print(sub_mat2)"
   ]
  },
  {
   "cell_type": "code",
   "execution_count": 191,
   "id": "13d4dba8",
   "metadata": {},
   "outputs": [
    {
     "name": "stdout",
     "output_type": "stream",
     "text": [
      "[[9.         9.         9.         0.17411079 0.22914687]\n",
      " [9.         9.         9.         0.1072421  0.61068517]\n",
      " [0.30553241 0.10100625 0.44709578 0.40511115 0.31865263]\n",
      " [0.33714278 0.05705515 0.88270539 0.45399164 0.71632023]\n",
      " [0.95646506 0.09331752 0.9746063  0.75712341 0.06598884]]\n"
     ]
    }
   ],
   "source": [
    "print(rand_mat)  # this won't change, because now altogether new object"
   ]
  },
  {
   "cell_type": "code",
   "execution_count": 236,
   "id": "5644d7e7",
   "metadata": {},
   "outputs": [
    {
     "name": "stdout",
     "output_type": "stream",
     "text": [
      "[ 0.1688671   1.75117668  0.9199816  -0.01440921  0.57462239 -0.71747743\n",
      " -1.83115169  0.24451172  0.5725061  -1.69933115  1.160782   -0.55596351\n",
      "  1.70297762  1.14571416 -0.29433014]\n",
      "[ True  True  True False  True False False  True  True False  True False\n",
      "  True  True False]\n",
      "[0.1688671  1.75117668 0.9199816  0.57462239 0.24451172 0.5725061\n",
      " 1.160782   1.70297762 1.14571416]\n"
     ]
    }
   ],
   "source": [
    "# accessing numpy arrays using logicals\n",
    "rand_vec = np.random.randn(15)\n",
    "print(rand_vec)\n",
    "print(rand_vec>0)  # goes through each element and return True or False\n",
    "print(rand_vec[rand_vec>0])  # accesses those index which are True -- can use any vector of same size of True and False"
   ]
  },
  {
   "cell_type": "code",
   "execution_count": 231,
   "id": "15091a72",
   "metadata": {},
   "outputs": [
    {
     "name": "stdout",
     "output_type": "stream",
     "text": [
      "[[-0.22892298 -0.23563156 -0.45890298 -1.36113184 -0.03035447]\n",
      " [-0.21003047  0.1920597   0.4480703   1.15470899  0.17399785]\n",
      " [-1.46952185 -0.14764208  0.52225309  0.61839208 -0.28641984]\n",
      " [ 0.29872069 -0.327831   -0.69177118  0.21863626 -0.5464501 ]\n",
      " [-1.92746918  0.48202925  0.74889426 -2.18997831  0.82045248]\n",
      " [-1.21096124  1.28486829  0.54180883  0.55249204 -1.42030237]\n",
      " [-1.45097457  0.75933694  0.85422983 -0.70794422 -1.55651669]\n",
      " [ 1.03729638 -0.23439027  0.35409732  0.5394605   0.81913219]\n",
      " [-0.55569348  1.52177226 -0.32478122  0.70228642 -0.49460577]\n",
      " [ 0.15165874 -1.99409805 -1.83827611 -1.35641366  1.95313871]]\n",
      "\n",
      "[0.1920597  0.4480703  1.15470899 0.17399785 0.52225309 0.61839208\n",
      " 0.29872069 0.21863626 0.48202925 0.74889426 0.82045248 1.28486829\n",
      " 0.54180883 0.55249204 0.75933694 0.85422983 1.03729638 0.35409732\n",
      " 0.5394605  0.81913219 1.52177226 0.70228642 0.15165874 1.95313871]\n"
     ]
    }
   ],
   "source": [
    "print(rand_mat2)\n",
    "print()\n",
    "print(rand_mat2[rand_mat2>0]) # transforms into array because if we take only True, it doesn't remain a matrix"
   ]
  },
  {
   "cell_type": "code",
   "execution_count": 237,
   "id": "f22d41fc",
   "metadata": {},
   "outputs": [
    {
     "name": "stdout",
     "output_type": "stream",
     "text": [
      "[ 0.1688671   1.75117668  0.9199816  -0.01440921  0.57462239 -0.71747743\n",
      " -1.83115169  0.24451172  0.5725061  -1.69933115  1.160782   -0.55596351\n",
      "  1.70297762  1.14571416 -0.29433014]\n",
      "\n",
      "[ 1.68867098e-01  1.00000000e+02  1.00000000e+02 -1.44092130e-02\n",
      "  1.00000000e+02 -7.17477429e-01 -1.83115169e+00  2.44511723e-01\n",
      "  1.00000000e+02 -1.69933115e+00  1.00000000e+02 -5.55963509e-01\n",
      "  1.00000000e+02  1.00000000e+02 -2.94330137e-01]\n"
     ]
    }
   ],
   "source": [
    "print(rand_vec)\n",
    "print()\n",
    "rand_vec[rand_vec>0.5] = 100  # transforms into scientific notations\n",
    "print(rand_vec)"
   ]
  },
  {
   "cell_type": "code",
   "execution_count": 238,
   "id": "7ffccc87",
   "metadata": {},
   "outputs": [],
   "source": [
    "# Saving numpy arrays to hard drive\n",
    "np.save('saved_file_name',rand_mat2) \n",
    "# saves a sinle file in hard drive in `.npy` extension"
   ]
  },
  {
   "cell_type": "code",
   "execution_count": 240,
   "id": "4aa54b40",
   "metadata": {},
   "outputs": [],
   "source": [
    "'''\n",
    "Saves multiple files in zipped format as `.npz`, with \n",
    "name_in_zip = our_array, we have to load using name_in_zip.\n",
    "can be same too\n",
    "'''\n",
    "np.savez('zipped_file_name',rand_mat_zip=rand_mat,rand_mat2_zip=rand_mat2)"
   ]
  },
  {
   "cell_type": "code",
   "execution_count": 242,
   "id": "42f7b72e",
   "metadata": {},
   "outputs": [
    {
     "name": "stdout",
     "output_type": "stream",
     "text": [
      "[[-0.22892298 -0.23563156 -0.45890298 -1.36113184 -0.03035447]\n",
      " [-0.21003047  0.1920597   0.4480703   1.15470899  0.17399785]\n",
      " [-1.46952185 -0.14764208  0.52225309  0.61839208 -0.28641984]\n",
      " [ 0.29872069 -0.327831   -0.69177118  0.21863626 -0.5464501 ]\n",
      " [-1.92746918  0.48202925  0.74889426 -2.18997831  0.82045248]\n",
      " [-1.21096124  1.28486829  0.54180883  0.55249204 -1.42030237]\n",
      " [-1.45097457  0.75933694  0.85422983 -0.70794422 -1.55651669]\n",
      " [ 1.03729638 -0.23439027  0.35409732  0.5394605   0.81913219]\n",
      " [-0.55569348  1.52177226 -0.32478122  0.70228642 -0.49460577]\n",
      " [ 0.15165874 -1.99409805 -1.83827611 -1.35641366  1.95313871]]\n",
      "\n",
      "<numpy.lib.npyio.NpzFile object at 0x000001F824C26040>\n"
     ]
    }
   ],
   "source": [
    " # loading numpy arrays from hard drive -- loading using file names\n",
    "loaded_vec = np.load('saved_file_name.npy')  # from .npy we get directly the saved array.\n",
    "loaded_zip = np.load('zipped_file_name.npz') # from .npz we get the object that needs to be unpacked\n",
    "print(loaded_vec)\n",
    "print()\n",
    "print(loaded_zip)"
   ]
  },
  {
   "cell_type": "code",
   "execution_count": 245,
   "id": "501177a6",
   "metadata": {},
   "outputs": [
    {
     "name": "stdout",
     "output_type": "stream",
     "text": [
      "[[0.56997728 0.56287976 0.29364866 0.26536926 0.72295142]\n",
      " [0.56473268 0.97429974 0.03836984 0.820456   0.59879209]\n",
      " [0.09552066 0.4871036  0.68478754 0.60705692 0.13625865]\n",
      " [0.93354225 0.27681866 0.96828282 0.32605425 0.19575921]\n",
      " [0.72733934 0.27343517 0.75809377 0.37433561 0.61427866]]\n",
      "\n",
      "[[-0.22892298 -0.23563156 -0.45890298 -1.36113184 -0.03035447]\n",
      " [-0.21003047  0.1920597   0.4480703   1.15470899  0.17399785]\n",
      " [-1.46952185 -0.14764208  0.52225309  0.61839208 -0.28641984]\n",
      " [ 0.29872069 -0.327831   -0.69177118  0.21863626 -0.5464501 ]\n",
      " [-1.92746918  0.48202925  0.74889426 -2.18997831  0.82045248]\n",
      " [-1.21096124  1.28486829  0.54180883  0.55249204 -1.42030237]\n",
      " [-1.45097457  0.75933694  0.85422983 -0.70794422 -1.55651669]\n",
      " [ 1.03729638 -0.23439027  0.35409732  0.5394605   0.81913219]\n",
      " [-0.55569348  1.52177226 -0.32478122  0.70228642 -0.49460577]\n",
      " [ 0.15165874 -1.99409805 -1.83827611 -1.35641366  1.95313871]]\n"
     ]
    }
   ],
   "source": [
    "# unpacking of loaded zip uses same names that we used during saving\n",
    "print(loaded_zip['rand_mat_zip'])\n",
    "print()\n",
    "print(loaded_zip['rand_mat2_zip'])"
   ]
  },
  {
   "cell_type": "code",
   "execution_count": 248,
   "id": "3ad10745",
   "metadata": {},
   "outputs": [
    {
     "name": "stdout",
     "output_type": "stream",
     "text": [
      "[[0.56997728 0.56287976 0.29364866 0.26536926 0.72295142]\n",
      " [0.56473268 0.97429974 0.03836984 0.820456   0.59879209]\n",
      " [0.09552066 0.4871036  0.68478754 0.60705692 0.13625865]\n",
      " [0.93354225 0.27681866 0.96828282 0.32605425 0.19575921]\n",
      " [0.72733934 0.27343517 0.75809377 0.37433561 0.61427866]]\n",
      "\n",
      "[[0.56997728 0.56287976 0.29364866 0.26536926 0.72295142]\n",
      " [0.56473268 0.97429974 0.03836984 0.820456   0.59879209]\n",
      " [0.09552066 0.4871036  0.68478754 0.60705692 0.13625865]\n",
      " [0.93354225 0.27681866 0.96828282 0.32605425 0.19575921]\n",
      " [0.72733934 0.27343517 0.75809377 0.37433561 0.61427866]]\n"
     ]
    }
   ],
   "source": [
    "# we can save/load as text files but only single variables.\n",
    "np.savetxt('text_file_name.txt',rand_mat,delimiter='||')\n",
    "rand_mat_txt = np.loadtxt('text_file_name.txt',delimiter='||')\n",
    "print(rand_mat)\n",
    "print()\n",
    "print(rand_mat_txt)"
   ]
  }
 ],
 "metadata": {
  "kernelspec": {
   "display_name": "Python 3",
   "language": "python",
   "name": "python3"
  },
  "language_info": {
   "codemirror_mode": {
    "name": "ipython",
    "version": 3
   },
   "file_extension": ".py",
   "mimetype": "text/x-python",
   "name": "python",
   "nbconvert_exporter": "python",
   "pygments_lexer": "ipython3",
   "version": "3.8.8"
  }
 },
 "nbformat": 4,
 "nbformat_minor": 5
}
