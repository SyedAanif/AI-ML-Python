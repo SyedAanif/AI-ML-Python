{
 "cells": [
  {
   "cell_type": "markdown",
   "id": "6863ceca",
   "metadata": {},
   "source": [
    "By default models use cutoff of 0.50"
   ]
  },
  {
   "cell_type": "code",
   "execution_count": 69,
   "id": "27bf35f0",
   "metadata": {},
   "outputs": [],
   "source": [
    "import pandas as pd\n",
    "import matplotlib.pyplot as plt\n",
    "%matplotlib inline"
   ]
  },
  {
   "cell_type": "code",
   "execution_count": 70,
   "id": "a6780a3b",
   "metadata": {},
   "outputs": [],
   "source": [
    "col_names = ['pregnant', 'glucose', 'bp', 'skin', 'insulin', 'bmi', 'pedigree', 'age', 'label']\n",
    "pima = pd.read_csv('C://Users/syeda/Downloads/pima-indians-diabetes-2.csv',header=0,names=col_names)"
   ]
  },
  {
   "cell_type": "code",
   "execution_count": 71,
   "id": "148e2612",
   "metadata": {},
   "outputs": [
    {
     "data": {
      "text/html": [
       "<div>\n",
       "<style scoped>\n",
       "    .dataframe tbody tr th:only-of-type {\n",
       "        vertical-align: middle;\n",
       "    }\n",
       "\n",
       "    .dataframe tbody tr th {\n",
       "        vertical-align: top;\n",
       "    }\n",
       "\n",
       "    .dataframe thead th {\n",
       "        text-align: right;\n",
       "    }\n",
       "</style>\n",
       "<table border=\"1\" class=\"dataframe\">\n",
       "  <thead>\n",
       "    <tr style=\"text-align: right;\">\n",
       "      <th></th>\n",
       "      <th>pregnant</th>\n",
       "      <th>glucose</th>\n",
       "      <th>bp</th>\n",
       "      <th>skin</th>\n",
       "      <th>insulin</th>\n",
       "      <th>bmi</th>\n",
       "      <th>pedigree</th>\n",
       "      <th>age</th>\n",
       "      <th>label</th>\n",
       "    </tr>\n",
       "  </thead>\n",
       "  <tbody>\n",
       "    <tr>\n",
       "      <th>0</th>\n",
       "      <td>6</td>\n",
       "      <td>148</td>\n",
       "      <td>72</td>\n",
       "      <td>35</td>\n",
       "      <td>0</td>\n",
       "      <td>33.6</td>\n",
       "      <td>0.627</td>\n",
       "      <td>50</td>\n",
       "      <td>1</td>\n",
       "    </tr>\n",
       "    <tr>\n",
       "      <th>1</th>\n",
       "      <td>1</td>\n",
       "      <td>85</td>\n",
       "      <td>66</td>\n",
       "      <td>29</td>\n",
       "      <td>0</td>\n",
       "      <td>26.6</td>\n",
       "      <td>0.351</td>\n",
       "      <td>31</td>\n",
       "      <td>0</td>\n",
       "    </tr>\n",
       "    <tr>\n",
       "      <th>2</th>\n",
       "      <td>8</td>\n",
       "      <td>183</td>\n",
       "      <td>64</td>\n",
       "      <td>0</td>\n",
       "      <td>0</td>\n",
       "      <td>23.3</td>\n",
       "      <td>0.672</td>\n",
       "      <td>32</td>\n",
       "      <td>1</td>\n",
       "    </tr>\n",
       "    <tr>\n",
       "      <th>3</th>\n",
       "      <td>1</td>\n",
       "      <td>89</td>\n",
       "      <td>66</td>\n",
       "      <td>23</td>\n",
       "      <td>94</td>\n",
       "      <td>28.1</td>\n",
       "      <td>0.167</td>\n",
       "      <td>21</td>\n",
       "      <td>0</td>\n",
       "    </tr>\n",
       "    <tr>\n",
       "      <th>4</th>\n",
       "      <td>0</td>\n",
       "      <td>137</td>\n",
       "      <td>40</td>\n",
       "      <td>35</td>\n",
       "      <td>168</td>\n",
       "      <td>43.1</td>\n",
       "      <td>2.288</td>\n",
       "      <td>33</td>\n",
       "      <td>1</td>\n",
       "    </tr>\n",
       "  </tbody>\n",
       "</table>\n",
       "</div>"
      ],
      "text/plain": [
       "   pregnant  glucose  bp  skin  insulin   bmi  pedigree  age  label\n",
       "0         6      148  72    35        0  33.6     0.627   50      1\n",
       "1         1       85  66    29        0  26.6     0.351   31      0\n",
       "2         8      183  64     0        0  23.3     0.672   32      1\n",
       "3         1       89  66    23       94  28.1     0.167   21      0\n",
       "4         0      137  40    35      168  43.1     2.288   33      1"
      ]
     },
     "execution_count": 71,
     "metadata": {},
     "output_type": "execute_result"
    }
   ],
   "source": [
    "pima.head()"
   ]
  },
  {
   "cell_type": "code",
   "execution_count": 72,
   "id": "77c8c2b9",
   "metadata": {},
   "outputs": [],
   "source": [
    "X = pima.values[:,:-1]\n",
    "y = pima.values[:,-1]"
   ]
  },
  {
   "cell_type": "code",
   "execution_count": 73,
   "id": "489c834e",
   "metadata": {},
   "outputs": [],
   "source": [
    "from sklearn.model_selection import train_test_split\n",
    "\n",
    "X_train, X_test, y_train,y_test = train_test_split(X,y,random_state=1)"
   ]
  },
  {
   "cell_type": "code",
   "execution_count": 74,
   "id": "7050c5f0",
   "metadata": {},
   "outputs": [
    {
     "name": "stderr",
     "output_type": "stream",
     "text": [
      "C:\\Users\\syeda\\anaconda3\\lib\\site-packages\\sklearn\\linear_model\\_logistic.py:763: ConvergenceWarning: lbfgs failed to converge (status=1):\n",
      "STOP: TOTAL NO. of ITERATIONS REACHED LIMIT.\n",
      "\n",
      "Increase the number of iterations (max_iter) or scale the data as shown in:\n",
      "    https://scikit-learn.org/stable/modules/preprocessing.html\n",
      "Please also refer to the documentation for alternative solver options:\n",
      "    https://scikit-learn.org/stable/modules/linear_model.html#logistic-regression\n",
      "  n_iter_i = _check_optimize_result(\n"
     ]
    },
    {
     "data": {
      "text/plain": [
       "LogisticRegression()"
      ]
     },
     "execution_count": 74,
     "metadata": {},
     "output_type": "execute_result"
    }
   ],
   "source": [
    "from sklearn.linear_model import LogisticRegression\n",
    "\n",
    "log_reg = LogisticRegression()\n",
    "log_reg.fit(X_train,y_train)"
   ]
  },
  {
   "cell_type": "code",
   "execution_count": 75,
   "id": "6d91d943",
   "metadata": {},
   "outputs": [],
   "source": [
    "y_pred_class = log_reg.predict(X_test)"
   ]
  },
  {
   "cell_type": "markdown",
   "id": "7c90e255",
   "metadata": {},
   "source": [
    "*`Classification accuracy`*: percentage of correct predictions"
   ]
  },
  {
   "cell_type": "code",
   "execution_count": 76,
   "id": "ac8091e5",
   "metadata": {},
   "outputs": [],
   "source": [
    "from sklearn import metrics"
   ]
  },
  {
   "cell_type": "code",
   "execution_count": 77,
   "id": "9dd58b29",
   "metadata": {},
   "outputs": [
    {
     "data": {
      "text/plain": [
       "0.7760416666666666"
      ]
     },
     "execution_count": 77,
     "metadata": {},
     "output_type": "execute_result"
    }
   ],
   "source": [
    "# gives the accuracy of predictions but don't rely if the the underlying classes are not equal\n",
    "metrics.accuracy_score(y_test,y_pred_class)"
   ]
  },
  {
   "cell_type": "markdown",
   "id": "e1d3fe78",
   "metadata": {},
   "source": [
    "### Confusion Matrix\n",
    "Describes the performance of the classification model."
   ]
  },
  {
   "cell_type": "code",
   "execution_count": 78,
   "id": "968d8ee5",
   "metadata": {},
   "outputs": [
    {
     "data": {
      "image/png": "[encoded data removed]",
      "text/plain": [
       "<Figure size 432x288 with 1 Axes>"
      ]
     },
     "metadata": {
      "needs_background": "light"
     },
     "output_type": "display_data"
    }
   ],
   "source": [
    "import numpy as np\n",
    "\n",
    "cm = metrics.confusion_matrix(y_test, y_pred_class)\n",
    "plt.clf()\n",
    "plt.imshow(cm, interpolation='nearest', cmap=plt.cm.Wistia)\n",
    "classNames = ['Non_diabetic','Diabetic']\n",
    "plt.title('Confusion Matrix - Test Data')\n",
    "plt.ylabel('Actual label')\n",
    "plt.xlabel('Predicted label')\n",
    "tick_marks = np.arange(len(classNames))\n",
    "plt.xticks(tick_marks, classNames, rotation=45)\n",
    "plt.yticks(tick_marks, classNames)\n",
    "s = [['TN','FP'], ['FN', 'TP']]\n",
    " \n",
    "for i in range(2):\n",
    "    for j in range(2):\n",
    "        plt.text(j,i, str(s[i][j])+\" = \"+str(cm[i][j]))\n",
    "plt.show()"
   ]
  },
  {
   "cell_type": "markdown",
   "id": "61f5f712",
   "metadata": {},
   "source": [
    "### Model performance measures"
   ]
  },
  {
   "cell_type": "code",
   "execution_count": 79,
   "id": "da232ae0",
   "metadata": {},
   "outputs": [],
   "source": [
    "TP = 40\n",
    "TN = 109\n",
    "FP = 14\n",
    "FN = 29"
   ]
  },
  {
   "cell_type": "markdown",
   "id": "8382b759",
   "metadata": {},
   "source": [
    "`Classification Accuracy`: Overall, how often is the classifier correct?"
   ]
  },
  {
   "cell_type": "code",
   "execution_count": 80,
   "id": "1ce362cd",
   "metadata": {},
   "outputs": [
    {
     "data": {
      "text/plain": [
       "0.7760416666666666"
      ]
     },
     "execution_count": 80,
     "metadata": {},
     "output_type": "execute_result"
    }
   ],
   "source": [
    "accuracy = (TP + TN)/(TP + TN + FP + FN)\n",
    "accuracy"
   ]
  },
  {
   "cell_type": "markdown",
   "id": "29b8e538",
   "metadata": {},
   "source": [
    "`Classification Error`: Overall, how often is the classifier incorrect?\n",
    "\n",
    "Also known as `Misclassification Rate`"
   ]
  },
  {
   "cell_type": "code",
   "execution_count": 81,
   "id": "0d2fc502",
   "metadata": {},
   "outputs": [
    {
     "data": {
      "text/plain": [
       "0.22395833333333334"
      ]
     },
     "execution_count": 81,
     "metadata": {},
     "output_type": "execute_result"
    }
   ],
   "source": [
    "error = (FP + FN)/(TP + TN + FP + FN)\n",
    "error"
   ]
  },
  {
   "cell_type": "markdown",
   "id": "3d6f8fb2",
   "metadata": {},
   "source": [
    "`Sensitivity`: When the actual value is positive, how often is the prediction correct?\n",
    "\n",
    "Also known as `True Positive Rate` or `Recall`"
   ]
  },
  {
   "cell_type": "code",
   "execution_count": 82,
   "id": "2f572890",
   "metadata": {},
   "outputs": [
    {
     "data": {
      "text/plain": [
       "0.5797101449275363"
      ]
     },
     "execution_count": 82,
     "metadata": {},
     "output_type": "execute_result"
    }
   ],
   "source": [
    "recall = TP/(TP + FN)\n",
    "recall"
   ]
  },
  {
   "cell_type": "markdown",
   "id": "a305ffab",
   "metadata": {},
   "source": [
    "`Specificity`: When the actual value is negative, how often is the prediction correct?\n",
    "\n",
    "Also known as `True Negative Rate`"
   ]
  },
  {
   "cell_type": "code",
   "execution_count": 83,
   "id": "655b5a9f",
   "metadata": {},
   "outputs": [
    {
     "data": {
      "text/plain": [
       "0.8861788617886179"
      ]
     },
     "execution_count": 83,
     "metadata": {},
     "output_type": "execute_result"
    }
   ],
   "source": [
    "specificity = TN/(TN+FP)\n",
    "specificity"
   ]
  },
  {
   "cell_type": "markdown",
   "id": "955d42ce",
   "metadata": {},
   "source": [
    "`False Positive Rate`: When the actual value is negative, how often is the prediction incorrect?"
   ]
  },
  {
   "cell_type": "code",
   "execution_count": 84,
   "id": "d68c8ce2",
   "metadata": {},
   "outputs": [
    {
     "data": {
      "text/plain": [
       "0.11382113821138211"
      ]
     },
     "execution_count": 84,
     "metadata": {},
     "output_type": "execute_result"
    }
   ],
   "source": [
    "fpr = FP/(FP+TN)\n",
    "fpr"
   ]
  },
  {
   "cell_type": "markdown",
   "id": "ec190337",
   "metadata": {},
   "source": [
    "`Precision`: When a positive value is predicted, how often is the prediction correct?"
   ]
  },
  {
   "cell_type": "code",
   "execution_count": 85,
   "id": "ac52e143",
   "metadata": {},
   "outputs": [
    {
     "data": {
      "text/plain": [
       "0.7407407407407407"
      ]
     },
     "execution_count": 85,
     "metadata": {},
     "output_type": "execute_result"
    }
   ],
   "source": [
    "precision = TP/(TP+FP)\n",
    "precision"
   ]
  },
  {
   "cell_type": "markdown",
   "id": "9453aaf9",
   "metadata": {},
   "source": [
    "### Adjusting the model thresholds"
   ]
  },
  {
   "cell_type": "code",
   "execution_count": 86,
   "id": "b1f8db0e",
   "metadata": {},
   "outputs": [
    {
     "data": {
      "text/plain": [
       "array([0., 0., 0., 0., 0., 0., 0., 0., 0., 0.])"
      ]
     },
     "execution_count": 86,
     "metadata": {},
     "output_type": "execute_result"
    }
   ],
   "source": [
    "# print the first 10 predicted class with default threshold of .5\n",
    "# 0 - non-diabetic\n",
    "# 1 - diabetic\n",
    "log_reg.predict(X_test)[0:10]\n",
    "# these all belong to non-diabetic because of higher prob than diabetic"
   ]
  },
  {
   "cell_type": "code",
   "execution_count": 87,
   "id": "054fb50c",
   "metadata": {},
   "outputs": [
    {
     "data": {
      "text/plain": [
       "array([[0.57829335, 0.42170665],\n",
       "       [0.67672951, 0.32327049],\n",
       "       [0.8500312 , 0.1499688 ],\n",
       "       [0.95114129, 0.04885871],\n",
       "       [0.79045404, 0.20954596],\n",
       "       [0.71905593, 0.28094407],\n",
       "       [0.6254732 , 0.3745268 ],\n",
       "       [0.89729105, 0.10270895],\n",
       "       [0.84159658, 0.15840342],\n",
       "       [0.79098512, 0.20901488]])"
      ]
     },
     "execution_count": 87,
     "metadata": {},
     "output_type": "execute_result"
    }
   ],
   "source": [
    "# print the first 10 predicted probabilities of class membership\n",
    "log_reg.predict_proba(X_test)[0:10]"
   ]
  },
  {
   "cell_type": "code",
   "execution_count": 88,
   "id": "93803597",
   "metadata": {},
   "outputs": [
    {
     "data": {
      "text/plain": [
       "array([0.42170665, 0.32327049, 0.1499688 , 0.04885871, 0.20954596,\n",
       "       0.28094407, 0.3745268 , 0.10270895, 0.15840342, 0.20901488])"
      ]
     },
     "execution_count": 88,
     "metadata": {},
     "output_type": "execute_result"
    }
   ],
   "source": [
    "# print the first 10 predicted probabilities for class 1  (diabetics)\n",
    "log_reg.predict_proba(X_test)[0:10, 1]"
   ]
  },
  {
   "cell_type": "code",
   "execution_count": 89,
   "id": "962d4ecd",
   "metadata": {},
   "outputs": [],
   "source": [
    "# store the predicted probabilities for diabetic class for all records... \n",
    "y_pred_prob = log_reg.predict_proba(X_test)[:, 1]"
   ]
  },
  {
   "cell_type": "markdown",
   "id": "e6fc54d3",
   "metadata": {},
   "source": [
    "## Reduce the threshold from .5 to .3 to predict the diabetics class. This will make the model sensitive to diabetic class"
   ]
  },
  {
   "cell_type": "code",
   "execution_count": 90,
   "id": "bc3f5e0c",
   "metadata": {},
   "outputs": [
    {
     "name": "stderr",
     "output_type": "stream",
     "text": [
      "C:\\Users\\syeda\\anaconda3\\lib\\site-packages\\sklearn\\utils\\validation.py:70: FutureWarning: Pass threshold=0.3 as keyword args. From version 1.0 (renaming of 0.25) passing these as positional arguments will result in an error\n",
      "  warnings.warn(f\"Pass {args_msg} as keyword args. From version \"\n"
     ]
    }
   ],
   "source": [
    "# predict diabetes if the predicted probability is greater than 0.3\n",
    "from sklearn.preprocessing import binarize\n",
    "y_pred_class = binarize([y_pred_prob], 0.3)[0]  # deciding the class of the 1st 10 records based on new threshold"
   ]
  },
  {
   "cell_type": "code",
   "execution_count": 91,
   "id": "a107dfaa",
   "metadata": {},
   "outputs": [
    {
     "data": {
      "text/plain": [
       "array([0.42170665, 0.32327049, 0.1499688 , 0.04885871, 0.20954596,\n",
       "       0.28094407, 0.3745268 , 0.10270895, 0.15840342, 0.20901488])"
      ]
     },
     "execution_count": 91,
     "metadata": {},
     "output_type": "execute_result"
    }
   ],
   "source": [
    "y_pred_prob[0:10]"
   ]
  },
  {
   "cell_type": "code",
   "execution_count": 92,
   "id": "b9ab2301",
   "metadata": {},
   "outputs": [
    {
     "data": {
      "text/plain": [
       "array([1., 1., 0., 0., 0., 0., 1., 0., 0., 0.])"
      ]
     },
     "execution_count": 92,
     "metadata": {},
     "output_type": "execute_result"
    }
   ],
   "source": [
    "# with threshold of .5 (default) , the first data point would belong to 0 class i.e. non-diabetic \n",
    "y_pred_class[0:10]"
   ]
  },
  {
   "cell_type": "code",
   "execution_count": 93,
   "id": "09db36e6",
   "metadata": {},
   "outputs": [
    {
     "name": "stdout",
     "output_type": "stream",
     "text": [
      "[[90 33]\n",
      " [12 57]]\n"
     ]
    }
   ],
   "source": [
    "# previous confusion matrix (default threshold of 0.5)\n",
    "print(metrics.confusion_matrix(y_test, y_pred_class))"
   ]
  },
  {
   "cell_type": "code",
   "execution_count": 94,
   "id": "4a1683bf",
   "metadata": {},
   "outputs": [],
   "source": [
    "# thus all model performance parameters change"
   ]
  },
  {
   "cell_type": "markdown",
   "id": "63157b07",
   "metadata": {},
   "source": [
    "## ROC and AUC for various thresholds"
   ]
  },
  {
   "cell_type": "code",
   "execution_count": 95,
   "id": "a7c82cd6",
   "metadata": {},
   "outputs": [],
   "source": [
    "fpr,tpr,thresholds = metrics.roc_curve(y_test,y_pred_prob)"
   ]
  },
  {
   "cell_type": "code",
   "execution_count": 96,
   "id": "fcbabe6f",
   "metadata": {},
   "outputs": [
    {
     "data": {
      "image/png": "[encoded data removed]",
      "text/plain": [
       "<Figure size 432x288 with 1 Axes>"
      ]
     },
     "metadata": {
      "needs_background": "light"
     },
     "output_type": "display_data"
    }
   ],
   "source": [
    "plt.plot(fpr,tpr)\n",
    "plt.xlim([0.0,1.0])\n",
    "plt.ylim([0.0,1.0])\n",
    "plt.title('ROC curve')\n",
    "plt.xlabel('False Positive Rate (1 - Specificity)')\n",
    "plt.ylabel('True Positive Rate (Sensitivity or Recall)')\n",
    "plt.grid(True)\n",
    "plt.show()"
   ]
  },
  {
   "cell_type": "markdown",
   "id": "b51bcba3",
   "metadata": {},
   "source": [
    "- ROC curve can help you to choose a threshold that balances sensitivity and specificity in a way that makes sense for your particular context"
   ]
  },
  {
   "cell_type": "code",
   "execution_count": 97,
   "id": "c4a96f45",
   "metadata": {},
   "outputs": [
    {
     "data": {
      "text/plain": [
       "0.8467067279368446"
      ]
     },
     "execution_count": 97,
     "metadata": {},
     "output_type": "execute_result"
    }
   ],
   "source": [
    "metrics.auc(fpr,tpr) # area under the curve using FPR, TPR"
   ]
  },
  {
   "cell_type": "code",
   "execution_count": 98,
   "id": "f97cafe7",
   "metadata": {},
   "outputs": [
    {
     "data": {
      "text/plain": [
       "0.8467067279368446"
      ]
     },
     "execution_count": 98,
     "metadata": {},
     "output_type": "execute_result"
    }
   ],
   "source": [
    "metrics.roc_auc_score(y_test,y_pred_prob) # area under curve using test and predicted"
   ]
  },
  {
   "cell_type": "markdown",
   "id": "e74cfdce",
   "metadata": {},
   "source": [
    "- AUC is useful as a single number summary of classifier performance.\n",
    "- AUC is useful even when there is high class imbalance (unlike classification accuracy)."
   ]
  },
  {
   "cell_type": "code",
   "execution_count": 99,
   "id": "c19a1134",
   "metadata": {},
   "outputs": [
    {
     "data": {
      "text/plain": [
       "array([1.98054913, 0.98054913, 0.83857778, 0.77453475, 0.77118387,\n",
       "       0.76620238, 0.74974041, 0.74066696, 0.69808848, 0.69357709,\n",
       "       0.68355872, 0.67497356, 0.6697178 , 0.65814639, 0.65642192,\n",
       "       0.64128787, 0.61697277, 0.61438384, 0.60285693, 0.54992753,\n",
       "       0.48423073, 0.47032741, 0.45490906, 0.42778018, 0.42419133,\n",
       "       0.42170665, 0.3779375 , 0.3745268 , 0.34760302, 0.33154974,\n",
       "       0.32646875, 0.3137206 , 0.3114727 , 0.30781609, 0.29661695,\n",
       "       0.28889132, 0.28558918, 0.28094407, 0.2770074 , 0.27131923,\n",
       "       0.26460683, 0.23154113, 0.22839462, 0.20289036, 0.19974429,\n",
       "       0.15586728, 0.15378985, 0.1469282 , 0.14501713, 0.13936091,\n",
       "       0.13292855, 0.12160997, 0.12156269, 0.01977313, 0.01748339,\n",
       "       0.01289764, 0.01273848, 0.00718338])"
      ]
     },
     "execution_count": 99,
     "metadata": {},
     "output_type": "execute_result"
    }
   ],
   "source": [
    "thresholds"
   ]
  },
  {
   "cell_type": "code",
   "execution_count": 100,
   "id": "f599eff4",
   "metadata": {},
   "outputs": [],
   "source": [
    "# define a function that accepts a threshold and prints sensitivity and specificity\n",
    "def evaluate_performance(cut_off):\n",
    "    print(f'Sensitivity is {tpr[thresholds > cut_off][-1]}')\n",
    "    print(f'Specificity is {1 - (fpr[thresholds > cut_off][-1])}')"
   ]
  },
  {
   "cell_type": "code",
   "execution_count": 101,
   "id": "28a7db80",
   "metadata": {},
   "outputs": [
    {
     "name": "stdout",
     "output_type": "stream",
     "text": [
      "Sensitivity is 0.5652173913043478\n",
      "Specificity is 0.8861788617886179\n"
     ]
    }
   ],
   "source": [
    "evaluate_performance(0.5)"
   ]
  },
  {
   "cell_type": "code",
   "execution_count": 102,
   "id": "50fe3c1e",
   "metadata": {},
   "outputs": [
    {
     "name": "stdout",
     "output_type": "stream",
     "text": [
      "Sensitivity is 0.8260869565217391\n",
      "Specificity is 0.7317073170731707\n"
     ]
    }
   ],
   "source": [
    "evaluate_performance(0.3)"
   ]
  },
  {
   "cell_type": "code",
   "execution_count": null,
   "id": "3f2bcc70",
   "metadata": {},
   "outputs": [],
   "source": []
  }
 ],
 "metadata": {
  "kernelspec": {
   "display_name": "Python 3",
   "language": "python",
   "name": "python3"
  },
  "language_info": {
   "codemirror_mode": {
    "name": "ipython",
    "version": 3
   },
   "file_extension": ".py",
   "mimetype": "text/x-python",
   "name": "python",
   "nbconvert_exporter": "python",
   "pygments_lexer": "ipython3",
   "version": "3.8.8"
  }
 },
 "nbformat": 4,
 "nbformat_minor": 5
}
