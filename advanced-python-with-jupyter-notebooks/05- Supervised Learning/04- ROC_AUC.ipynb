{
 "cells": [
  {
   "cell_type": "markdown",
   "id": "0a49b627",
   "metadata": {},
   "source": [
    "Comparing two models created from `Logistic Regression` and other from `Support Vector Machines(SVM)`"
   ]
  },
  {
   "cell_type": "code",
   "execution_count": 44,
   "id": "a6ce9f63",
   "metadata": {},
   "outputs": [],
   "source": [
    "import pandas as pd\n",
    "import numpy as np\n",
    "\n",
    "import matplotlib.pyplot as plt\n",
    "%matplotlib inline\n",
    "\n",
    "from sklearn.model_selection import train_test_split\n",
    "from sklearn.linear_model import LogisticRegression\n",
    "from sklearn.metrics import roc_curve,auc\n",
    "from sklearn import svm\n",
    "\n",
    "from sklearn.utils import shuffle"
   ]
  },
  {
   "cell_type": "code",
   "execution_count": 45,
   "id": "c9ea70ee",
   "metadata": {},
   "outputs": [],
   "source": [
    "pdata = pd.read_csv('C://Users/syeda/Downloads/pima-indians-diabetes-2.csv')"
   ]
  },
  {
   "cell_type": "code",
   "execution_count": 46,
   "id": "e6ec8909",
   "metadata": {},
   "outputs": [
    {
     "data": {
      "text/html": [
       "<div>\n",
       "<style scoped>\n",
       "    .dataframe tbody tr th:only-of-type {\n",
       "        vertical-align: middle;\n",
       "    }\n",
       "\n",
       "    .dataframe tbody tr th {\n",
       "        vertical-align: top;\n",
       "    }\n",
       "\n",
       "    .dataframe thead th {\n",
       "        text-align: right;\n",
       "    }\n",
       "</style>\n",
       "<table border=\"1\" class=\"dataframe\">\n",
       "  <thead>\n",
       "    <tr style=\"text-align: right;\">\n",
       "      <th></th>\n",
       "      <th>Preg</th>\n",
       "      <th>Plas</th>\n",
       "      <th>Pres</th>\n",
       "      <th>skin</th>\n",
       "      <th>test</th>\n",
       "      <th>mass</th>\n",
       "      <th>pedi</th>\n",
       "      <th>age</th>\n",
       "      <th>class</th>\n",
       "    </tr>\n",
       "  </thead>\n",
       "  <tbody>\n",
       "    <tr>\n",
       "      <th>0</th>\n",
       "      <td>6</td>\n",
       "      <td>148</td>\n",
       "      <td>72</td>\n",
       "      <td>35</td>\n",
       "      <td>0</td>\n",
       "      <td>33.6</td>\n",
       "      <td>0.627</td>\n",
       "      <td>50</td>\n",
       "      <td>1</td>\n",
       "    </tr>\n",
       "    <tr>\n",
       "      <th>1</th>\n",
       "      <td>1</td>\n",
       "      <td>85</td>\n",
       "      <td>66</td>\n",
       "      <td>29</td>\n",
       "      <td>0</td>\n",
       "      <td>26.6</td>\n",
       "      <td>0.351</td>\n",
       "      <td>31</td>\n",
       "      <td>0</td>\n",
       "    </tr>\n",
       "    <tr>\n",
       "      <th>2</th>\n",
       "      <td>8</td>\n",
       "      <td>183</td>\n",
       "      <td>64</td>\n",
       "      <td>0</td>\n",
       "      <td>0</td>\n",
       "      <td>23.3</td>\n",
       "      <td>0.672</td>\n",
       "      <td>32</td>\n",
       "      <td>1</td>\n",
       "    </tr>\n",
       "    <tr>\n",
       "      <th>3</th>\n",
       "      <td>1</td>\n",
       "      <td>89</td>\n",
       "      <td>66</td>\n",
       "      <td>23</td>\n",
       "      <td>94</td>\n",
       "      <td>28.1</td>\n",
       "      <td>0.167</td>\n",
       "      <td>21</td>\n",
       "      <td>0</td>\n",
       "    </tr>\n",
       "    <tr>\n",
       "      <th>4</th>\n",
       "      <td>0</td>\n",
       "      <td>137</td>\n",
       "      <td>40</td>\n",
       "      <td>35</td>\n",
       "      <td>168</td>\n",
       "      <td>43.1</td>\n",
       "      <td>2.288</td>\n",
       "      <td>33</td>\n",
       "      <td>1</td>\n",
       "    </tr>\n",
       "  </tbody>\n",
       "</table>\n",
       "</div>"
      ],
      "text/plain": [
       "   Preg  Plas  Pres  skin  test  mass   pedi  age  class\n",
       "0     6   148    72    35     0  33.6  0.627   50      1\n",
       "1     1    85    66    29     0  26.6  0.351   31      0\n",
       "2     8   183    64     0     0  23.3  0.672   32      1\n",
       "3     1    89    66    23    94  28.1  0.167   21      0\n",
       "4     0   137    40    35   168  43.1  2.288   33      1"
      ]
     },
     "execution_count": 46,
     "metadata": {},
     "output_type": "execute_result"
    }
   ],
   "source": [
    "pdata.head()"
   ]
  },
  {
   "cell_type": "code",
   "execution_count": 47,
   "id": "ed501422",
   "metadata": {},
   "outputs": [
    {
     "data": {
      "text/plain": [
       "False"
      ]
     },
     "execution_count": 47,
     "metadata": {},
     "output_type": "execute_result"
    }
   ],
   "source": [
    "pdata.isnull().values.any()"
   ]
  },
  {
   "cell_type": "code",
   "execution_count": 48,
   "id": "a7b5d33f",
   "metadata": {},
   "outputs": [],
   "source": [
    "X = pdata.drop(axis=1,columns='class')\n",
    "Y = pdata[['class']]"
   ]
  },
  {
   "cell_type": "code",
   "execution_count": 49,
   "id": "70f7c12d",
   "metadata": {},
   "outputs": [],
   "source": [
    "X_train,X_test,Y_train,Y_test = train_test_split(X,Y,test_size=0.50,random_state=1)"
   ]
  },
  {
   "cell_type": "code",
   "execution_count": 50,
   "id": "da08eb99",
   "metadata": {},
   "outputs": [
    {
     "name": "stderr",
     "output_type": "stream",
     "text": [
      "C:\\Users\\syeda\\anaconda3\\lib\\site-packages\\sklearn\\utils\\validation.py:63: DataConversionWarning: A column-vector y was passed when a 1d array was expected. Please change the shape of y to (n_samples, ), for example using ravel().\n",
      "  return f(*args, **kwargs)\n",
      "C:\\Users\\syeda\\anaconda3\\lib\\site-packages\\sklearn\\linear_model\\_logistic.py:763: ConvergenceWarning: lbfgs failed to converge (status=1):\n",
      "STOP: TOTAL NO. of ITERATIONS REACHED LIMIT.\n",
      "\n",
      "Increase the number of iterations (max_iter) or scale the data as shown in:\n",
      "    https://scikit-learn.org/stable/modules/preprocessing.html\n",
      "Please also refer to the documentation for alternative solver options:\n",
      "    https://scikit-learn.org/stable/modules/linear_model.html#logistic-regression\n",
      "  n_iter_i = _check_optimize_result(\n",
      "C:\\Users\\syeda\\anaconda3\\lib\\site-packages\\sklearn\\utils\\validation.py:63: DataConversionWarning: A column-vector y was passed when a 1d array was expected. Please change the shape of y to (n_samples, ), for example using ravel().\n",
      "  return f(*args, **kwargs)\n"
     ]
    }
   ],
   "source": [
    "logReg = LogisticRegression()\n",
    "logReg.fit(X_train,Y_train)\n",
    "logReg_Pred = logReg.predict_proba(X_test) # prob. of belonging to a class\n",
    "\n",
    "#C - support vector classification\n",
    "svm_classifier = svm.SVC(kernel='linear',probability=True)\n",
    "svm_classifier.fit(X_train,Y_train)\n",
    "svm_pred = svm_classifier.predict_proba(X_test)"
   ]
  },
  {
   "cell_type": "code",
   "execution_count": 51,
   "id": "8e622e95",
   "metadata": {},
   "outputs": [
    {
     "data": {
      "text/plain": [
       "0.830181453988453"
      ]
     },
     "execution_count": 51,
     "metadata": {},
     "output_type": "execute_result"
    }
   ],
   "source": [
    "# compute ROC and AUC for logistic regression\n",
    "fpr1, tpr1, threshold1 = roc_curve(Y_test,logReg_Pred[:,1])\n",
    "auc1 = auc(fpr1,tpr1)\n",
    "auc1"
   ]
  },
  {
   "cell_type": "code",
   "execution_count": 52,
   "id": "1e7e9795",
   "metadata": {},
   "outputs": [
    {
     "data": {
      "text/plain": [
       "0.8360433604336043"
      ]
     },
     "execution_count": 52,
     "metadata": {},
     "output_type": "execute_result"
    }
   ],
   "source": [
    "# compute ROC and AUC for SVM\n",
    "fpr2, tpr2, threshold2 = roc_curve(Y_test,svm_pred[:,1])\n",
    "auc2 = auc(fpr2,tpr2)\n",
    "auc2"
   ]
  },
  {
   "cell_type": "code",
   "execution_count": 53,
   "id": "b1f6a44b",
   "metadata": {},
   "outputs": [
    {
     "data": {
      "image/png": "[encoded data removed]",
      "text/plain": [
       "<Figure size 432x288 with 1 Axes>"
      ]
     },
     "metadata": {
      "needs_background": "light"
     },
     "output_type": "display_data"
    }
   ],
   "source": [
    "# plot the ROC\n",
    "\n",
    "plt.plot(fpr1,tpr1,label='ROC curve for logistic (area = %0.2f)' % auc1) # logistic\n",
    "plt.plot(fpr2,tpr2,label='ROC curve for SVC (area = %0.2f)' % auc2) # SVC\n",
    "plt.plot([0,1],[0,1],'k--') # random model\n",
    "plt.xlim([0.0,1.0])\n",
    "plt.ylim([0.0,1.0])\n",
    "plt.xlabel('False Positive Rate')\n",
    "plt.ylabel('True Positive Rate')\n",
    "plt.title('Receiver Operating Chracteristic(ROC)')\n",
    "plt.legend(loc='lower right')\n",
    "plt.show()"
   ]
  },
  {
   "cell_type": "code",
   "execution_count": 54,
   "id": "0953d93b",
   "metadata": {},
   "outputs": [
    {
     "data": {
      "text/html": [
       "<div>\n",
       "<style scoped>\n",
       "    .dataframe tbody tr th:only-of-type {\n",
       "        vertical-align: middle;\n",
       "    }\n",
       "\n",
       "    .dataframe tbody tr th {\n",
       "        vertical-align: top;\n",
       "    }\n",
       "\n",
       "    .dataframe thead th {\n",
       "        text-align: right;\n",
       "    }\n",
       "</style>\n",
       "<table border=\"1\" class=\"dataframe\">\n",
       "  <thead>\n",
       "    <tr style=\"text-align: right;\">\n",
       "      <th></th>\n",
       "      <th>fpr1</th>\n",
       "      <th>tpr1</th>\n",
       "      <th>1-fpr1</th>\n",
       "      <th>tf1</th>\n",
       "      <th>threshold1</th>\n",
       "    </tr>\n",
       "  </thead>\n",
       "  <tbody>\n",
       "    <tr>\n",
       "      <th>0</th>\n",
       "      <td>0.000000</td>\n",
       "      <td>0.000000</td>\n",
       "      <td>1.000000</td>\n",
       "      <td>-1.000000</td>\n",
       "      <td>1.971585</td>\n",
       "    </tr>\n",
       "    <tr>\n",
       "      <th>1</th>\n",
       "      <td>0.000000</td>\n",
       "      <td>0.007246</td>\n",
       "      <td>1.000000</td>\n",
       "      <td>-0.992754</td>\n",
       "      <td>0.971585</td>\n",
       "    </tr>\n",
       "    <tr>\n",
       "      <th>2</th>\n",
       "      <td>0.000000</td>\n",
       "      <td>0.028986</td>\n",
       "      <td>1.000000</td>\n",
       "      <td>-0.971014</td>\n",
       "      <td>0.937880</td>\n",
       "    </tr>\n",
       "    <tr>\n",
       "      <th>3</th>\n",
       "      <td>0.004065</td>\n",
       "      <td>0.028986</td>\n",
       "      <td>0.995935</td>\n",
       "      <td>-0.966949</td>\n",
       "      <td>0.917983</td>\n",
       "    </tr>\n",
       "    <tr>\n",
       "      <th>4</th>\n",
       "      <td>0.004065</td>\n",
       "      <td>0.115942</td>\n",
       "      <td>0.995935</td>\n",
       "      <td>-0.879993</td>\n",
       "      <td>0.857262</td>\n",
       "    </tr>\n",
       "    <tr>\n",
       "      <th>...</th>\n",
       "      <td>...</td>\n",
       "      <td>...</td>\n",
       "      <td>...</td>\n",
       "      <td>...</td>\n",
       "      <td>...</td>\n",
       "    </tr>\n",
       "    <tr>\n",
       "      <th>123</th>\n",
       "      <td>0.975610</td>\n",
       "      <td>0.985507</td>\n",
       "      <td>0.024390</td>\n",
       "      <td>0.961117</td>\n",
       "      <td>0.021996</td>\n",
       "    </tr>\n",
       "    <tr>\n",
       "      <th>124</th>\n",
       "      <td>0.975610</td>\n",
       "      <td>0.992754</td>\n",
       "      <td>0.024390</td>\n",
       "      <td>0.968363</td>\n",
       "      <td>0.019959</td>\n",
       "    </tr>\n",
       "    <tr>\n",
       "      <th>125</th>\n",
       "      <td>0.979675</td>\n",
       "      <td>0.992754</td>\n",
       "      <td>0.020325</td>\n",
       "      <td>0.972428</td>\n",
       "      <td>0.019717</td>\n",
       "    </tr>\n",
       "    <tr>\n",
       "      <th>126</th>\n",
       "      <td>0.979675</td>\n",
       "      <td>1.000000</td>\n",
       "      <td>0.020325</td>\n",
       "      <td>0.979675</td>\n",
       "      <td>0.018808</td>\n",
       "    </tr>\n",
       "    <tr>\n",
       "      <th>127</th>\n",
       "      <td>1.000000</td>\n",
       "      <td>1.000000</td>\n",
       "      <td>0.000000</td>\n",
       "      <td>1.000000</td>\n",
       "      <td>0.006669</td>\n",
       "    </tr>\n",
       "  </tbody>\n",
       "</table>\n",
       "<p>128 rows × 5 columns</p>\n",
       "</div>"
      ],
      "text/plain": [
       "         fpr1      tpr1    1-fpr1       tf1  threshold1\n",
       "0    0.000000  0.000000  1.000000 -1.000000    1.971585\n",
       "1    0.000000  0.007246  1.000000 -0.992754    0.971585\n",
       "2    0.000000  0.028986  1.000000 -0.971014    0.937880\n",
       "3    0.004065  0.028986  0.995935 -0.966949    0.917983\n",
       "4    0.004065  0.115942  0.995935 -0.879993    0.857262\n",
       "..        ...       ...       ...       ...         ...\n",
       "123  0.975610  0.985507  0.024390  0.961117    0.021996\n",
       "124  0.975610  0.992754  0.024390  0.968363    0.019959\n",
       "125  0.979675  0.992754  0.020325  0.972428    0.019717\n",
       "126  0.979675  1.000000  0.020325  0.979675    0.018808\n",
       "127  1.000000  1.000000  0.000000  1.000000    0.006669\n",
       "\n",
       "[128 rows x 5 columns]"
      ]
     },
     "execution_count": 54,
     "metadata": {},
     "output_type": "execute_result"
    }
   ],
   "source": [
    "roc1 = pd.DataFrame({'fpr1':pd.Series(fpr1),'tpr1':pd.Series(tpr1),'1-fpr1':pd.Series(1-fpr1),'tf1':pd.Series(tpr1-(1-fpr1)),'threshold1':pd.Series(threshold1)})\n",
    "roc1"
   ]
  }
 ],
 "metadata": {
  "kernelspec": {
   "display_name": "Python 3",
   "language": "python",
   "name": "python3"
  },
  "language_info": {
   "codemirror_mode": {
    "name": "ipython",
    "version": 3
   },
   "file_extension": ".py",
   "mimetype": "text/x-python",
   "name": "python",
   "nbconvert_exporter": "python",
   "pygments_lexer": "ipython3",
   "version": "3.8.8"
  }
 },
 "nbformat": 4,
 "nbformat_minor": 5
}
