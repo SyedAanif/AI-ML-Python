{
 "cells": [
  {
   "cell_type": "code",
   "execution_count": 1,
   "id": "4f717826",
   "metadata": {},
   "outputs": [],
   "source": [
    "# IMPORTING THE LIBRARIES\n",
    "import numpy as np  # Numerical lib\n",
    "\n",
    "import pandas as pd # Data Handling lib\n",
    "\n",
    "import matplotlib.pyplot as plt  # Plotting lib\n",
    "%matplotlib inline\n",
    "\n",
    "import seaborn as sns # Statistical plots lib\n",
    "\n",
    "from sklearn.linear_model import LinearRegression, Ridge, Lasso # Linear regression ML lib\n",
    "\n",
    "from sklearn.model_selection import train_test_split # for splitting data into training and testing parts\n",
    "\n",
    "from sklearn import preprocessing # for scaling all variables similarly"
   ]
  },
  {
   "cell_type": "code",
   "execution_count": 2,
   "id": "c985bc8e",
   "metadata": {},
   "outputs": [],
   "source": [
    "# reading the data\n",
    "car_data = pd.read_csv('C://Users/syeda/Downloads/car-mpg.csv')"
   ]
  },
  {
   "cell_type": "code",
   "execution_count": 3,
   "id": "94517d37",
   "metadata": {},
   "outputs": [
    {
     "data": {
      "text/html": [
       "<div>\n",
       "<style scoped>\n",
       "    .dataframe tbody tr th:only-of-type {\n",
       "        vertical-align: middle;\n",
       "    }\n",
       "\n",
       "    .dataframe tbody tr th {\n",
       "        vertical-align: top;\n",
       "    }\n",
       "\n",
       "    .dataframe thead th {\n",
       "        text-align: right;\n",
       "    }\n",
       "</style>\n",
       "<table border=\"1\" class=\"dataframe\">\n",
       "  <thead>\n",
       "    <tr style=\"text-align: right;\">\n",
       "      <th></th>\n",
       "      <th>mpg</th>\n",
       "      <th>cyl</th>\n",
       "      <th>disp</th>\n",
       "      <th>hp</th>\n",
       "      <th>wt</th>\n",
       "      <th>acc</th>\n",
       "      <th>yr</th>\n",
       "      <th>origin</th>\n",
       "      <th>car_type</th>\n",
       "      <th>car_name</th>\n",
       "    </tr>\n",
       "  </thead>\n",
       "  <tbody>\n",
       "    <tr>\n",
       "      <th>0</th>\n",
       "      <td>18.0</td>\n",
       "      <td>8</td>\n",
       "      <td>307.0</td>\n",
       "      <td>130</td>\n",
       "      <td>3504</td>\n",
       "      <td>12.0</td>\n",
       "      <td>70</td>\n",
       "      <td>1</td>\n",
       "      <td>0</td>\n",
       "      <td>chevrolet chevelle malibu</td>\n",
       "    </tr>\n",
       "    <tr>\n",
       "      <th>1</th>\n",
       "      <td>15.0</td>\n",
       "      <td>8</td>\n",
       "      <td>350.0</td>\n",
       "      <td>165</td>\n",
       "      <td>3693</td>\n",
       "      <td>11.5</td>\n",
       "      <td>70</td>\n",
       "      <td>1</td>\n",
       "      <td>0</td>\n",
       "      <td>buick skylark 320</td>\n",
       "    </tr>\n",
       "    <tr>\n",
       "      <th>2</th>\n",
       "      <td>18.0</td>\n",
       "      <td>8</td>\n",
       "      <td>318.0</td>\n",
       "      <td>150</td>\n",
       "      <td>3436</td>\n",
       "      <td>11.0</td>\n",
       "      <td>70</td>\n",
       "      <td>1</td>\n",
       "      <td>0</td>\n",
       "      <td>plymouth satellite</td>\n",
       "    </tr>\n",
       "    <tr>\n",
       "      <th>3</th>\n",
       "      <td>16.0</td>\n",
       "      <td>8</td>\n",
       "      <td>304.0</td>\n",
       "      <td>150</td>\n",
       "      <td>3433</td>\n",
       "      <td>12.0</td>\n",
       "      <td>70</td>\n",
       "      <td>1</td>\n",
       "      <td>0</td>\n",
       "      <td>amc rebel sst</td>\n",
       "    </tr>\n",
       "    <tr>\n",
       "      <th>4</th>\n",
       "      <td>17.0</td>\n",
       "      <td>8</td>\n",
       "      <td>302.0</td>\n",
       "      <td>140</td>\n",
       "      <td>3449</td>\n",
       "      <td>10.5</td>\n",
       "      <td>70</td>\n",
       "      <td>1</td>\n",
       "      <td>0</td>\n",
       "      <td>ford torino</td>\n",
       "    </tr>\n",
       "  </tbody>\n",
       "</table>\n",
       "</div>"
      ],
      "text/plain": [
       "    mpg  cyl   disp   hp    wt   acc  yr  origin  car_type  \\\n",
       "0  18.0    8  307.0  130  3504  12.0  70       1         0   \n",
       "1  15.0    8  350.0  165  3693  11.5  70       1         0   \n",
       "2  18.0    8  318.0  150  3436  11.0  70       1         0   \n",
       "3  16.0    8  304.0  150  3433  12.0  70       1         0   \n",
       "4  17.0    8  302.0  140  3449  10.5  70       1         0   \n",
       "\n",
       "                    car_name  \n",
       "0  chevrolet chevelle malibu  \n",
       "1          buick skylark 320  \n",
       "2         plymouth satellite  \n",
       "3              amc rebel sst  \n",
       "4                ford torino  "
      ]
     },
     "execution_count": 3,
     "metadata": {},
     "output_type": "execute_result"
    }
   ],
   "source": [
    "car_data.head() # check if the data is read and have a glimpse of the df"
   ]
  },
  {
   "cell_type": "markdown",
   "id": "3067798f",
   "metadata": {},
   "source": [
    "### Pre-Processing or Cleaning the data"
   ]
  },
  {
   "cell_type": "code",
   "execution_count": 4,
   "id": "56daa21c",
   "metadata": {},
   "outputs": [
    {
     "data": {
      "text/plain": [
       "(398, 10)"
      ]
     },
     "execution_count": 4,
     "metadata": {},
     "output_type": "execute_result"
    }
   ],
   "source": [
    "car_data.shape  # checking rows and columns"
   ]
  },
  {
   "cell_type": "code",
   "execution_count": 5,
   "id": "f73e00ba",
   "metadata": {},
   "outputs": [
    {
     "data": {
      "text/plain": [
       "mpg         0\n",
       "cyl         0\n",
       "disp        0\n",
       "hp          0\n",
       "wt          0\n",
       "acc         0\n",
       "yr          0\n",
       "origin      0\n",
       "car_type    0\n",
       "car_name    0\n",
       "dtype: int64"
      ]
     },
     "execution_count": 5,
     "metadata": {},
     "output_type": "execute_result"
    }
   ],
   "source": [
    "car_data.isnull().sum()  # checking for null values"
   ]
  },
  {
   "cell_type": "code",
   "execution_count": 6,
   "id": "e92c31a3",
   "metadata": {},
   "outputs": [
    {
     "name": "stdout",
     "output_type": "stream",
     "text": [
      "<class 'pandas.core.frame.DataFrame'>\n",
      "RangeIndex: 398 entries, 0 to 397\n",
      "Data columns (total 10 columns):\n",
      " #   Column    Non-Null Count  Dtype  \n",
      "---  ------    --------------  -----  \n",
      " 0   mpg       398 non-null    float64\n",
      " 1   cyl       398 non-null    int64  \n",
      " 2   disp      398 non-null    float64\n",
      " 3   hp        398 non-null    object \n",
      " 4   wt        398 non-null    int64  \n",
      " 5   acc       398 non-null    float64\n",
      " 6   yr        398 non-null    int64  \n",
      " 7   origin    398 non-null    int64  \n",
      " 8   car_type  398 non-null    int64  \n",
      " 9   car_name  398 non-null    object \n",
      "dtypes: float64(3), int64(5), object(2)\n",
      "memory usage: 31.2+ KB\n"
     ]
    }
   ],
   "source": [
    "car_data.info()  # seeing data types and non-null values"
   ]
  },
  {
   "cell_type": "markdown",
   "id": "85832518",
   "metadata": {},
   "source": [
    "- Thus there are no null rows.\n",
    "- But there are columns like `car_name` which should have no effect on target variable `mpg`. so we can drop it. Good idea would be to make a copy of the original and then drop it.\n",
    "- `hp` seems to be a number but is shown as an `object`. This may be due to unexpected values. So we may try and clean that too.\n",
    "- also `origin` should be a categorical value. So we convert to categorical and do the One-Hot Encoding"
   ]
  },
  {
   "cell_type": "code",
   "execution_count": 7,
   "id": "70bee9e3",
   "metadata": {},
   "outputs": [],
   "source": [
    "car_data_copy = car_data.copy()"
   ]
  },
  {
   "cell_type": "code",
   "execution_count": 8,
   "id": "c1e0a8a5",
   "metadata": {},
   "outputs": [],
   "source": [
    "car_data_copy.drop(axis=1,columns=['car_name'],inplace=True)"
   ]
  },
  {
   "cell_type": "markdown",
   "id": "71aaa0b1",
   "metadata": {},
   "source": [
    "#### Cleaning `hp`"
   ]
  },
  {
   "cell_type": "code",
   "execution_count": 9,
   "id": "70c83f73",
   "metadata": {},
   "outputs": [
    {
     "data": {
      "text/html": [
       "<div>\n",
       "<style scoped>\n",
       "    .dataframe tbody tr th:only-of-type {\n",
       "        vertical-align: middle;\n",
       "    }\n",
       "\n",
       "    .dataframe tbody tr th {\n",
       "        vertical-align: top;\n",
       "    }\n",
       "\n",
       "    .dataframe thead th {\n",
       "        text-align: right;\n",
       "    }\n",
       "</style>\n",
       "<table border=\"1\" class=\"dataframe\">\n",
       "  <thead>\n",
       "    <tr style=\"text-align: right;\">\n",
       "      <th></th>\n",
       "      <th>mpg</th>\n",
       "      <th>cyl</th>\n",
       "      <th>disp</th>\n",
       "      <th>hp</th>\n",
       "      <th>wt</th>\n",
       "      <th>acc</th>\n",
       "      <th>yr</th>\n",
       "      <th>origin</th>\n",
       "      <th>car_type</th>\n",
       "    </tr>\n",
       "  </thead>\n",
       "  <tbody>\n",
       "    <tr>\n",
       "      <th>32</th>\n",
       "      <td>25.0</td>\n",
       "      <td>4</td>\n",
       "      <td>98.0</td>\n",
       "      <td>?</td>\n",
       "      <td>2046</td>\n",
       "      <td>19.0</td>\n",
       "      <td>71</td>\n",
       "      <td>1</td>\n",
       "      <td>1</td>\n",
       "    </tr>\n",
       "    <tr>\n",
       "      <th>126</th>\n",
       "      <td>21.0</td>\n",
       "      <td>6</td>\n",
       "      <td>200.0</td>\n",
       "      <td>?</td>\n",
       "      <td>2875</td>\n",
       "      <td>17.0</td>\n",
       "      <td>74</td>\n",
       "      <td>1</td>\n",
       "      <td>0</td>\n",
       "    </tr>\n",
       "    <tr>\n",
       "      <th>330</th>\n",
       "      <td>40.9</td>\n",
       "      <td>4</td>\n",
       "      <td>85.0</td>\n",
       "      <td>?</td>\n",
       "      <td>1835</td>\n",
       "      <td>17.3</td>\n",
       "      <td>80</td>\n",
       "      <td>2</td>\n",
       "      <td>1</td>\n",
       "    </tr>\n",
       "    <tr>\n",
       "      <th>336</th>\n",
       "      <td>23.6</td>\n",
       "      <td>4</td>\n",
       "      <td>140.0</td>\n",
       "      <td>?</td>\n",
       "      <td>2905</td>\n",
       "      <td>14.3</td>\n",
       "      <td>80</td>\n",
       "      <td>1</td>\n",
       "      <td>1</td>\n",
       "    </tr>\n",
       "    <tr>\n",
       "      <th>354</th>\n",
       "      <td>34.5</td>\n",
       "      <td>4</td>\n",
       "      <td>100.0</td>\n",
       "      <td>?</td>\n",
       "      <td>2320</td>\n",
       "      <td>15.8</td>\n",
       "      <td>81</td>\n",
       "      <td>2</td>\n",
       "      <td>1</td>\n",
       "    </tr>\n",
       "    <tr>\n",
       "      <th>374</th>\n",
       "      <td>23.0</td>\n",
       "      <td>4</td>\n",
       "      <td>151.0</td>\n",
       "      <td>?</td>\n",
       "      <td>3035</td>\n",
       "      <td>20.5</td>\n",
       "      <td>82</td>\n",
       "      <td>1</td>\n",
       "      <td>1</td>\n",
       "    </tr>\n",
       "  </tbody>\n",
       "</table>\n",
       "</div>"
      ],
      "text/plain": [
       "      mpg  cyl   disp hp    wt   acc  yr  origin  car_type\n",
       "32   25.0    4   98.0  ?  2046  19.0  71       1         1\n",
       "126  21.0    6  200.0  ?  2875  17.0  74       1         0\n",
       "330  40.9    4   85.0  ?  1835  17.3  80       2         1\n",
       "336  23.6    4  140.0  ?  2905  14.3  80       1         1\n",
       "354  34.5    4  100.0  ?  2320  15.8  81       2         1\n",
       "374  23.0    4  151.0  ?  3035  20.5  82       1         1"
      ]
     },
     "execution_count": 9,
     "metadata": {},
     "output_type": "execute_result"
    }
   ],
   "source": [
    "car_data_copy[car_data_copy['hp'].str.isdigit() == False] # to check which characters make hp an object"
   ]
  },
  {
   "cell_type": "code",
   "execution_count": 10,
   "id": "8c9ba9b2",
   "metadata": {},
   "outputs": [],
   "source": [
    "# replace ? with median\n",
    "car_data_copy['hp'].replace({'?': np.nan},inplace=True)\n",
    "car_data_copy['hp'] = car_data_copy['hp'].astype('float64')\n",
    "car_data_copy['hp'] = car_data_copy['hp'].fillna(car_data_copy.hp.median())"
   ]
  },
  {
   "cell_type": "code",
   "execution_count": 11,
   "id": "3b26e306",
   "metadata": {},
   "outputs": [],
   "source": [
    "car_data_copy['origin'].replace({1:'america',2:'europe',3:'asia'},inplace=True)\n",
    "car_data_copy = pd.get_dummies(data=car_data_copy,columns=['origin'])"
   ]
  },
  {
   "cell_type": "markdown",
   "id": "32918046",
   "metadata": {},
   "source": [
    "### Splitting data into X and y"
   ]
  },
  {
   "cell_type": "code",
   "execution_count": 12,
   "id": "494c2c4b",
   "metadata": {},
   "outputs": [],
   "source": [
    "X = car_data_copy.drop(axis=1,columns=['mpg','origin_europe']) \n",
    "# independant variables\n",
    "# dropping dummy column becuase we don't require them all"
   ]
  },
  {
   "cell_type": "code",
   "execution_count": 13,
   "id": "d64437f2",
   "metadata": {},
   "outputs": [],
   "source": [
    "y = car_data_copy[['mpg']] # dependant or target variable"
   ]
  },
  {
   "cell_type": "markdown",
   "id": "182e33ce",
   "metadata": {},
   "source": [
    "### Scaling all columns"
   ]
  },
  {
   "cell_type": "code",
   "execution_count": 14,
   "id": "89d449f7",
   "metadata": {},
   "outputs": [],
   "source": [
    "X_scaled = preprocessing.scale(X)  # gives numpy array\n",
    "X_scaled = pd.DataFrame(data=X_scaled,columns=X.columns) # convert to df"
   ]
  },
  {
   "cell_type": "code",
   "execution_count": 15,
   "id": "21101906",
   "metadata": {},
   "outputs": [],
   "source": [
    "y_scaled = preprocessing.scale(y)\n",
    "y_scaled = pd.DataFrame(data=y_scaled,columns=y.columns)"
   ]
  },
  {
   "cell_type": "markdown",
   "id": "b6744f3f",
   "metadata": {},
   "source": [
    "### Splitting into Training and Testing data"
   ]
  },
  {
   "cell_type": "code",
   "execution_count": 16,
   "id": "7ce2624e",
   "metadata": {},
   "outputs": [],
   "source": [
    "X_train,X_test,y_train,y_test = train_test_split(X_scaled,y_scaled,test_size=0.30,random_state=1)"
   ]
  },
  {
   "cell_type": "markdown",
   "id": "219d495f",
   "metadata": {},
   "source": [
    "### Fit the Linear Model"
   ]
  },
  {
   "cell_type": "code",
   "execution_count": 17,
   "id": "c02d89b0",
   "metadata": {},
   "outputs": [
    {
     "data": {
      "text/plain": [
       "LinearRegression()"
      ]
     },
     "execution_count": 17,
     "metadata": {},
     "output_type": "execute_result"
    }
   ],
   "source": [
    "linearReg = LinearRegression()\n",
    "linearReg.fit(X_train,y_train)"
   ]
  },
  {
   "cell_type": "code",
   "execution_count": 18,
   "id": "f62558da",
   "metadata": {},
   "outputs": [
    {
     "data": {
      "text/plain": [
       "array([[ 0.32102239,  0.32483431, -0.2291695 , -0.71121019,  0.01471368,\n",
       "         0.37558119,  0.38147695, -0.13618216, -0.00613789]])"
      ]
     },
     "execution_count": 18,
     "metadata": {},
     "output_type": "execute_result"
    }
   ],
   "source": [
    "linearReg.coef_ # coefficient matrix"
   ]
  },
  {
   "cell_type": "code",
   "execution_count": 19,
   "id": "aadc4796",
   "metadata": {},
   "outputs": [
    {
     "data": {
      "text/plain": [
       "array([0.01928412])"
      ]
     },
     "execution_count": 19,
     "metadata": {},
     "output_type": "execute_result"
    }
   ],
   "source": [
    "linearReg.intercept_ # the intercept matrix"
   ]
  },
  {
   "cell_type": "code",
   "execution_count": 20,
   "id": "3ac12294",
   "metadata": {},
   "outputs": [
    {
     "name": "stdout",
     "output_type": "stream",
     "text": [
      "The coefficient of cyl is 0.3210223856916109\n",
      "The coefficient of disp is 0.32483430918483924\n",
      "The coefficient of hp is -0.2291695005943764\n",
      "The coefficient of wt is -0.7112101905072297\n",
      "The coefficient of acc is 0.014713682764191237\n",
      "The coefficient of yr is 0.3755811949510749\n",
      "The coefficient of car_type is 0.3814769484233108\n",
      "The coefficient of origin_america is -0.13618215843840353\n",
      "The coefficient of origin_asia is -0.006137890589388725\n"
     ]
    }
   ],
   "source": [
    "for indx, col_name in enumerate(X_train.columns):\n",
    "    print(f'The coefficient of {col_name} is {linearReg.coef_[0][indx]}')"
   ]
  },
  {
   "cell_type": "markdown",
   "id": "87d8f5b7",
   "metadata": {},
   "source": [
    "### RIDGE Model"
   ]
  },
  {
   "cell_type": "code",
   "execution_count": 21,
   "id": "6d6b9e93",
   "metadata": {},
   "outputs": [
    {
     "name": "stdout",
     "output_type": "stream",
     "text": [
      "Ridge Model Coeff: [[ 0.31658439  0.31300635 -0.22875871 -0.70101302  0.01295503  0.37442624\n",
      "   0.37733935 -0.13479863 -0.00552806]]\n",
      "Ridge Model Intercept: [0.01918841]\n"
     ]
    }
   ],
   "source": [
    "ridge = Ridge(alpha=0.3)\n",
    "ridge.fit(X_train,y_train)\n",
    "\n",
    "print('Ridge Model Coeff:',ridge.coef_)\n",
    "print('Ridge Model Intercept:',ridge.intercept_)"
   ]
  },
  {
   "cell_type": "markdown",
   "id": "091ebf9f",
   "metadata": {},
   "source": [
    "### LASSO Model"
   ]
  },
  {
   "cell_type": "code",
   "execution_count": 22,
   "id": "e61a6432",
   "metadata": {},
   "outputs": [
    {
     "name": "stdout",
     "output_type": "stream",
     "text": [
      "Lasso Model Coeff: [-0.         -0.         -0.         -0.49040652  0.          0.20770417\n",
      "  0.09573255 -0.          0.        ]\n",
      "Lasso Model Intercept: [0.00845078]\n"
     ]
    }
   ],
   "source": [
    "lasso = Lasso(alpha=0.2)\n",
    "lasso.fit(X_train,y_train)\n",
    "\n",
    "print('Lasso Model Coeff:',lasso.coef_)\n",
    "print('Lasso Model Intercept:',lasso.intercept_)"
   ]
  },
  {
   "cell_type": "markdown",
   "id": "d606c973",
   "metadata": {},
   "source": [
    "In `Lasso` many coefficients are suppressed to zero and `Ridge` close to zero"
   ]
  },
  {
   "cell_type": "markdown",
   "id": "a948b9b2",
   "metadata": {},
   "source": [
    "#### Comparison of Scores of models"
   ]
  },
  {
   "cell_type": "code",
   "execution_count": 23,
   "id": "10463980",
   "metadata": {},
   "outputs": [
    {
     "name": "stdout",
     "output_type": "stream",
     "text": [
      "0.8343770256960538\n",
      "0.8513421387780066\n"
     ]
    }
   ],
   "source": [
    "print(linearReg.score(X_train, y_train))\n",
    "print(linearReg.score(X_test, y_test))\n",
    "# score from all dimensions"
   ]
  },
  {
   "cell_type": "code",
   "execution_count": 24,
   "id": "f1f3da8a",
   "metadata": {},
   "outputs": [
    {
     "name": "stdout",
     "output_type": "stream",
     "text": [
      "0.8343615817491262\n",
      "0.851903014380742\n"
     ]
    }
   ],
   "source": [
    "print(ridge.score(X_train, y_train))\n",
    "print(ridge.score(X_test, y_test))\n",
    "# score from all dimensions"
   ]
  },
  {
   "cell_type": "code",
   "execution_count": 25,
   "id": "a79593f3",
   "metadata": {},
   "outputs": [
    {
     "name": "stdout",
     "output_type": "stream",
     "text": [
      "0.7449291598497929\n",
      "0.7889774437561077\n"
     ]
    }
   ],
   "source": [
    "print(lasso.score(X_train, y_train))\n",
    "print(lasso.score(X_test, y_test))\n",
    "# score from lesser dimensions because some were dropped during Shrinkage\n",
    "# thus less complex"
   ]
  },
  {
   "cell_type": "code",
   "execution_count": 26,
   "id": "6fbea71d",
   "metadata": {},
   "outputs": [],
   "source": [
    "# More or less similar results but with less complex models. \n",
    "# Complexity is a function of variables and coefficients\n",
    "# Note - with Lasso, we get equally good result in test though not so in training. \n",
    "# Further, the number of dimensions is much less in LASSO model than ridge or un-regularized model"
   ]
  },
  {
   "cell_type": "markdown",
   "id": "dfece5e4",
   "metadata": {},
   "source": [
    "## Generating new dimensions using `Polynomial Features`"
   ]
  },
  {
   "cell_type": "code",
   "execution_count": 27,
   "id": "0c5a9a8e",
   "metadata": {},
   "outputs": [],
   "source": [
    "poly = preprocessing.PolynomialFeatures(degree=2,interaction_only=True)\n",
    "\n",
    "X_poly = poly.fit_transform(X_scaled)\n",
    "\n",
    "X_train,X_test,y_train,y_test = train_test_split(X_poly,y_scaled,test_size=0.30,random_state=1)"
   ]
  },
  {
   "cell_type": "code",
   "execution_count": 28,
   "id": "77f0f64a",
   "metadata": {},
   "outputs": [
    {
     "data": {
      "text/plain": [
       "(278, 46)"
      ]
     },
     "execution_count": 28,
     "metadata": {},
     "output_type": "execute_result"
    }
   ],
   "source": [
    "X_train.shape  # increased columns"
   ]
  },
  {
   "cell_type": "markdown",
   "id": "8cb915ee",
   "metadata": {},
   "source": [
    "### Simple Linear Model"
   ]
  },
  {
   "cell_type": "code",
   "execution_count": 29,
   "id": "dc8de299",
   "metadata": {},
   "outputs": [
    {
     "name": "stdout",
     "output_type": "stream",
     "text": [
      "Simple Linear Reg Coeff [ 5.10550450e-14 -2.92688588e+11 -5.61248779e-01 -2.89993286e-01\n",
      " -3.73680115e-01 -1.96283340e-01  3.85353088e-01 -3.89708847e+11\n",
      " -9.80241969e+10  4.61517748e+11 -1.55683517e-01 -1.65529251e-01\n",
      " -1.05104446e-02  3.51501465e-01 -2.55874634e-01 -9.37726375e+11\n",
      " -9.09299408e+11  1.29382324e+00  5.14817238e-02  2.40907669e-02\n",
      " -6.41250610e-02  4.50363159e-01 -2.60421515e-01  1.92657471e-01\n",
      " -7.80395508e-01  2.39706039e-02 -8.48464966e-02 -2.47711182e-01\n",
      " -8.01219940e-02 -2.26280212e-01 -1.70745850e-02 -2.34565735e-02\n",
      "  6.74896240e-02 -4.36374426e-01 -2.19116211e-02  2.55073547e-01\n",
      "  6.21833801e-02  2.18288422e-01 -1.77679181e-01 -1.67973518e-01\n",
      "  4.79278564e-02 -1.00662231e-01  1.28707886e-02 -5.34265029e+11\n",
      "  5.26367188e-01  3.57011222e+11]\n",
      "\n",
      "Simple Linear Reg Intercept [-4.10035849e+11]\n",
      "\n",
      "Training Score 0.915008095303072\n",
      "Testing Score 0.858609120302925\n"
     ]
    }
   ],
   "source": [
    "linearReg.fit(X_train,y_train)\n",
    "print('Simple Linear Reg Coeff',linearReg.coef_[0])\n",
    "print()\n",
    "print('Simple Linear Reg Intercept',linearReg.intercept_)\n",
    "\n",
    "# we are in curse of dimensionality.\n",
    "# the coefficients are very large, thus sharp peaks and valleys\n",
    "print()\n",
    "# the model will perform well in training but bad in test data - over fit\n",
    "print('Training Score',linearReg.score(X_train,y_train))\n",
    "print('Testing Score',linearReg.score(X_test,y_test))"
   ]
  },
  {
   "cell_type": "markdown",
   "id": "36ac7e95",
   "metadata": {},
   "source": [
    "### Ridge Model"
   ]
  },
  {
   "cell_type": "code",
   "execution_count": 30,
   "id": "b7bbdd61",
   "metadata": {},
   "outputs": [
    {
     "name": "stdout",
     "output_type": "stream",
     "text": [
      "Ridge Reg Coeff [ 0.          0.46885355 -0.37402127 -0.27089854 -0.46317828 -0.16311881\n",
      "  0.38622902  0.23163975  0.05750483  0.05631796 -0.18330425 -0.14913042\n",
      " -0.00190077  0.31347509 -0.21325107  0.02784534 -0.15822531  0.76956105\n",
      "  0.04194593  0.03727214 -0.05285657  0.39111239 -0.28346519  0.21829204\n",
      " -0.32564817  0.02123812 -0.06697644 -0.23952141 -0.09061334 -0.20705001\n",
      " -0.00695606 -0.03625414  0.07317645 -0.39531717 -0.03127763  0.07598792\n",
      "  0.06354046  0.18321052 -0.18031527 -0.12535362  0.04665224 -0.09707233\n",
      "  0.01599254 -0.23507189  0.24895732 -0.10142059]\n",
      "\n",
      "Ridge Reg Intercept -0.5025097833156755\n",
      "\n",
      "Training Score 0.9141778746823359\n",
      "Testing Score 0.8603085263110439\n"
     ]
    }
   ],
   "source": [
    "ridge.fit(X_train,y_train)\n",
    "print('Ridge Reg Coeff',ridge.coef_[0])\n",
    "print()\n",
    "print('Ridge Reg Intercept',ridge.intercept_[0])\n",
    "print()\n",
    "# the coefficients have been suppressed, thus smoother curve\n",
    "# the model will perform well in training and comparable in test\n",
    "print('Training Score',ridge.score(X_train,y_train))\n",
    "print('Testing Score',ridge.score(X_test,y_test))"
   ]
  },
  {
   "cell_type": "markdown",
   "id": "aff9ec2a",
   "metadata": {},
   "source": [
    "### Lasso Model"
   ]
  },
  {
   "cell_type": "code",
   "execution_count": 31,
   "id": "99cf338c",
   "metadata": {},
   "outputs": [
    {
     "name": "stdout",
     "output_type": "stream",
     "text": [
      "Lasso Reg Coeff [ 0.         -0.         -0.         -0.         -0.49040652  0.\n",
      "  0.20770417  0.09573255 -0.          0.         -0.          0.\n",
      "  0.          0.         -0.          0.          0.         -0.\n",
      "  0.          0.         -0.         -0.         -0.          0.\n",
      " -0.          0.         -0.         -0.         -0.          0.\n",
      " -0.         -0.         -0.         -0.          0.         -0.\n",
      "  0.          0.         -0.          0.          0.         -0.\n",
      "  0.         -0.          0.         -0.        ]\n",
      "\n",
      "Lasso Reg Intercept 0.008450775157924207\n",
      "\n",
      "Training Score 0.7449291598497929\n",
      "Testing Score 0.7889774437561077\n"
     ]
    }
   ],
   "source": [
    "lasso.fit(X_train,y_train)\n",
    "print('Lasso Reg Coeff',lasso.coef_)\n",
    "print()\n",
    "print('Lasso Reg Intercept',lasso.intercept_[0])\n",
    "print()\n",
    "# the coefficients have been suppressed, thus smoother curve\n",
    "# the model will perform well in training and comparable in test with much lesser dimensions\n",
    "# because some features are zero and dropped\n",
    "print('Training Score',lasso.score(X_train,y_train))\n",
    "print('Testing Score',lasso.score(X_test,y_test))"
   ]
  },
  {
   "cell_type": "code",
   "execution_count": null,
   "id": "a0440c62",
   "metadata": {},
   "outputs": [],
   "source": []
  }
 ],
 "metadata": {
  "kernelspec": {
   "display_name": "Python 3",
   "language": "python",
   "name": "python3"
  },
  "language_info": {
   "codemirror_mode": {
    "name": "ipython",
    "version": 3
   },
   "file_extension": ".py",
   "mimetype": "text/x-python",
   "name": "python",
   "nbconvert_exporter": "python",
   "pygments_lexer": "ipython3",
   "version": "3.8.8"
  }
 },
 "nbformat": 4,
 "nbformat_minor": 5
}
