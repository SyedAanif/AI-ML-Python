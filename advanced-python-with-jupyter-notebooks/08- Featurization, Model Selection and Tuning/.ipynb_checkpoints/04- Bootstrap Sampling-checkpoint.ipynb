{
 "cells": [
  {
   "cell_type": "code",
   "execution_count": 1,
   "id": "1b034dbf",
   "metadata": {},
   "outputs": [],
   "source": [
    "# import the libraries\n",
    "import numpy as np\n",
    "import pandas as pd\n",
    "\n",
    "import matplotlib.pyplot as plt\n",
    "%matplotlib inline\n",
    "\n",
    "\n",
    "from sklearn.utils import resample # used for bootstrap sampling\n",
    "\n",
    "from sklearn.tree import DecisionTreeClassifier\n",
    "from sklearn.metrics import accuracy_score"
   ]
  },
  {
   "cell_type": "code",
   "execution_count": 2,
   "id": "76988934",
   "metadata": {},
   "outputs": [
    {
     "data": {
      "text/html": [
       "<div>\n",
       "<style scoped>\n",
       "    .dataframe tbody tr th:only-of-type {\n",
       "        vertical-align: middle;\n",
       "    }\n",
       "\n",
       "    .dataframe tbody tr th {\n",
       "        vertical-align: top;\n",
       "    }\n",
       "\n",
       "    .dataframe thead th {\n",
       "        text-align: right;\n",
       "    }\n",
       "</style>\n",
       "<table border=\"1\" class=\"dataframe\">\n",
       "  <thead>\n",
       "    <tr style=\"text-align: right;\">\n",
       "      <th></th>\n",
       "      <th>preg</th>\n",
       "      <th>plas</th>\n",
       "      <th>pres</th>\n",
       "      <th>skin</th>\n",
       "      <th>test</th>\n",
       "      <th>mass</th>\n",
       "      <th>pedi</th>\n",
       "      <th>age</th>\n",
       "      <th>class</th>\n",
       "    </tr>\n",
       "  </thead>\n",
       "  <tbody>\n",
       "    <tr>\n",
       "      <th>0</th>\n",
       "      <td>6</td>\n",
       "      <td>148</td>\n",
       "      <td>72</td>\n",
       "      <td>35</td>\n",
       "      <td>0</td>\n",
       "      <td>33.6</td>\n",
       "      <td>0.627</td>\n",
       "      <td>50</td>\n",
       "      <td>1</td>\n",
       "    </tr>\n",
       "    <tr>\n",
       "      <th>1</th>\n",
       "      <td>1</td>\n",
       "      <td>85</td>\n",
       "      <td>66</td>\n",
       "      <td>29</td>\n",
       "      <td>0</td>\n",
       "      <td>26.6</td>\n",
       "      <td>0.351</td>\n",
       "      <td>31</td>\n",
       "      <td>0</td>\n",
       "    </tr>\n",
       "    <tr>\n",
       "      <th>2</th>\n",
       "      <td>8</td>\n",
       "      <td>183</td>\n",
       "      <td>64</td>\n",
       "      <td>0</td>\n",
       "      <td>0</td>\n",
       "      <td>23.3</td>\n",
       "      <td>0.672</td>\n",
       "      <td>32</td>\n",
       "      <td>1</td>\n",
       "    </tr>\n",
       "    <tr>\n",
       "      <th>3</th>\n",
       "      <td>1</td>\n",
       "      <td>89</td>\n",
       "      <td>66</td>\n",
       "      <td>23</td>\n",
       "      <td>94</td>\n",
       "      <td>28.1</td>\n",
       "      <td>0.167</td>\n",
       "      <td>21</td>\n",
       "      <td>0</td>\n",
       "    </tr>\n",
       "    <tr>\n",
       "      <th>4</th>\n",
       "      <td>0</td>\n",
       "      <td>137</td>\n",
       "      <td>40</td>\n",
       "      <td>35</td>\n",
       "      <td>168</td>\n",
       "      <td>43.1</td>\n",
       "      <td>2.288</td>\n",
       "      <td>33</td>\n",
       "      <td>1</td>\n",
       "    </tr>\n",
       "  </tbody>\n",
       "</table>\n",
       "</div>"
      ],
      "text/plain": [
       "   preg  plas  pres  skin  test  mass   pedi  age  class\n",
       "0     6   148    72    35     0  33.6  0.627   50      1\n",
       "1     1    85    66    29     0  26.6  0.351   31      0\n",
       "2     8   183    64     0     0  23.3  0.672   32      1\n",
       "3     1    89    66    23    94  28.1  0.167   21      0\n",
       "4     0   137    40    35   168  43.1  2.288   33      1"
      ]
     },
     "execution_count": 2,
     "metadata": {},
     "output_type": "execute_result"
    }
   ],
   "source": [
    "col_names = ['preg', 'plas', 'pres', 'skin', 'test', 'mass', 'pedi', 'age', 'class']\n",
    "\n",
    "# data warehouse\n",
    "pima_df = pd.read_csv('pima-indians-diabetes.data',names=col_names)\n",
    "\n",
    "# verify data head\n",
    "pima_df.head()"
   ]
  },
  {
   "cell_type": "code",
   "execution_count": 3,
   "id": "4ce7f3a4",
   "metadata": {},
   "outputs": [],
   "source": [
    "# getting all values as arrays\n",
    "values = pima_df.values"
   ]
  },
  {
   "cell_type": "code",
   "execution_count": 4,
   "id": "5819d651",
   "metadata": {},
   "outputs": [
    {
     "data": {
      "text/plain": [
       "(768, 9)"
      ]
     },
     "execution_count": 4,
     "metadata": {},
     "output_type": "execute_result"
    }
   ],
   "source": [
    "pima_df.shape"
   ]
  },
  {
   "cell_type": "code",
   "execution_count": 5,
   "id": "efed3eed",
   "metadata": {},
   "outputs": [
    {
     "name": "stdout",
     "output_type": "stream",
     "text": [
      "0.7142857142857143\n",
      "0.7017167381974249\n",
      "0.6798245614035088\n",
      "0.697228144989339\n",
      "0.6846652267818575\n",
      "0.6730769230769231\n",
      "0.7194860813704497\n",
      "0.6919739696312365\n",
      "0.6924731182795699\n",
      "0.710239651416122\n",
      "0.7096069868995634\n",
      "0.7158119658119658\n",
      "0.6903225806451613\n",
      "0.6877637130801688\n",
      "0.6808510638297872\n",
      "0.6873661670235546\n",
      "0.7167019027484144\n",
      "0.6731182795698925\n",
      "0.6995708154506438\n",
      "0.6854663774403471\n",
      "0.6659528907922913\n",
      "0.6702127659574468\n",
      "0.6862745098039216\n",
      "0.7145922746781116\n",
      "0.7085106382978723\n",
      "0.6695095948827292\n",
      "0.6773504273504274\n",
      "0.7142857142857143\n",
      "0.6965811965811965\n",
      "0.7010752688172043\n",
      "0.6918103448275862\n",
      "0.7030567685589519\n",
      "0.6995708154506438\n",
      "0.7139784946236559\n",
      "0.650319829424307\n",
      "0.6645021645021645\n",
      "0.6931330472103004\n",
      "0.7170212765957447\n",
      "0.652542372881356\n",
      "0.6918238993710691\n",
      "0.6886993603411514\n",
      "0.7161862527716186\n",
      "0.6807095343680709\n",
      "0.6944444444444444\n",
      "0.6934782608695652\n",
      "0.6974789915966386\n",
      "0.6914660831509847\n",
      "0.6946236559139785\n",
      "0.6610169491525424\n",
      "0.7249466950959488\n",
      "0.7063829787234043\n",
      "0.6531049250535332\n",
      "0.6659242761692651\n",
      "0.6825053995680346\n",
      "0.6944444444444444\n",
      "0.6760259179265659\n",
      "0.6929637526652452\n",
      "0.672566371681416\n",
      "0.6991525423728814\n",
      "0.6617336152219874\n",
      "0.7370689655172413\n",
      "0.6561181434599156\n",
      "0.6926315789473684\n",
      "0.6231263383297645\n",
      "0.6494623655913978\n",
      "0.6787234042553192\n",
      "0.6861471861471862\n",
      "0.6717391304347826\n",
      "0.7060085836909872\n",
      "0.7282608695652174\n",
      "0.7188841201716738\n",
      "0.6681034482758621\n",
      "0.7109207708779444\n",
      "0.6751592356687898\n",
      "0.7015250544662309\n",
      "0.6745182012847966\n",
      "0.6918103448275862\n",
      "0.6898047722342733\n",
      "0.7068965517241379\n",
      "0.70276008492569\n",
      "0.6816239316239316\n",
      "0.732484076433121\n",
      "0.6907894736842105\n",
      "0.6536796536796536\n",
      "0.6539278131634819\n",
      "0.7245119305856833\n",
      "0.6824034334763949\n",
      "0.6565874730021598\n",
      "0.702819956616052\n",
      "0.7056277056277056\n",
      "0.6802575107296137\n",
      "0.6816239316239316\n",
      "0.6876355748373102\n",
      "0.6961206896551724\n",
      "0.7139830508474576\n",
      "0.688034188034188\n",
      "0.6431718061674009\n",
      "0.6832971800433839\n",
      "0.6559139784946236\n",
      "0.7081545064377682\n"
     ]
    }
   ],
   "source": [
    "# configure bootstrap\n",
    "n_iterations = 100             # Number of bootstrap samples to create\n",
    "n_size = int(len(pima_df) * 0.50)    # picking only 50 % of the given data in every bootstrap sample\n",
    "\n",
    "# run bootstrap\n",
    "stats = list()\n",
    "for i in range(n_iterations):\n",
    "    # prepare train and test sets\n",
    "    train = resample(values, n_samples=n_size)  # Sampling with replacement \n",
    "    test = np.array([x for x in values if x.tolist() not in train.tolist()])  # picking rest of the data not considered in sample\n",
    "    # fit model\n",
    "    model = DecisionTreeClassifier()\n",
    "    model.fit(train[:,:-1], train[:,-1])\n",
    "    # evaluate model\n",
    "    predictions = model.predict(test[:,:-1])\n",
    "    score = accuracy_score(test[:,-1], predictions)    # caution, overall accuracy score can mislead when classes are imbalanced\n",
    "    print(score)\n",
    "    stats.append(score)"
   ]
  },
  {
   "cell_type": "code",
   "execution_count": 6,
   "id": "663b59de",
   "metadata": {},
   "outputs": [
    {
     "data": {
      "image/png": "[encoded data removed]",
      "text/plain": [
       "<Figure size 432x288 with 1 Axes>"
      ]
     },
     "metadata": {
      "needs_background": "light"
     },
     "output_type": "display_data"
    },
    {
     "name": "stdout",
     "output_type": "stream",
     "text": [
      "95.0 confidence interval 65.0% and 72.7%\n"
     ]
    }
   ],
   "source": [
    "# plot scores\n",
    "plt.hist(stats)\n",
    "plt.show()\n",
    "# confidence intervals\n",
    "alpha = 0.95                             # for 95% confidence \n",
    "p = ((1.0-alpha)/2.0) * 100              # tail regions on right and left .25 on each side indicated by P value (border)\n",
    "lower = max(0.0, np.percentile(stats, p))  \n",
    "p = (alpha+((1.0-alpha)/2.0)) * 100\n",
    "upper = min(1.0, np.percentile(stats, p))\n",
    "print('%.1f confidence interval %.1f%% and %.1f%%' % (alpha*100, lower*100, upper*100))\n"
   ]
  }
 ],
 "metadata": {
  "kernelspec": {
   "display_name": "Python 3",
   "language": "python",
   "name": "python3"
  },
  "language_info": {
   "codemirror_mode": {
    "name": "ipython",
    "version": 3
   },
   "file_extension": ".py",
   "mimetype": "text/x-python",
   "name": "python",
   "nbconvert_exporter": "python",
   "pygments_lexer": "ipython3",
   "version": "3.8.8"
  }
 },
 "nbformat": 4,
 "nbformat_minor": 5
}
