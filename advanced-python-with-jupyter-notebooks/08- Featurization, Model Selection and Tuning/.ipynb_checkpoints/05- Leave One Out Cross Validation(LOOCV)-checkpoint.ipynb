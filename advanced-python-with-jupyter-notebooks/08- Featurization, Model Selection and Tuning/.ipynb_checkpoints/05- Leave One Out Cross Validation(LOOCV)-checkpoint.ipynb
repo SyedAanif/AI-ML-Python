{
 "cells": [
  {
   "cell_type": "code",
   "execution_count": 1,
   "id": "0a2a5ad8",
   "metadata": {},
   "outputs": [],
   "source": [
    "# scikit-learn k-fold cross-validation\n",
    "from numpy import array\n",
    "from sklearn.model_selection import LeaveOneOut"
   ]
  },
  {
   "cell_type": "code",
   "execution_count": 2,
   "id": "0e1f73d7",
   "metadata": {},
   "outputs": [],
   "source": [
    "# data sample\n",
    "data = array([10,20,30,40,50,60,70,80,90,100])"
   ]
  },
  {
   "cell_type": "code",
   "execution_count": 3,
   "id": "41c18745",
   "metadata": {},
   "outputs": [
    {
     "name": "stdout",
     "output_type": "stream",
     "text": [
      "train: [ 20  30  40  50  60  70  80  90 100], test: [10]\n",
      "train: [ 10  30  40  50  60  70  80  90 100], test: [20]\n",
      "train: [ 10  20  40  50  60  70  80  90 100], test: [30]\n",
      "train: [ 10  20  30  50  60  70  80  90 100], test: [40]\n",
      "train: [ 10  20  30  40  60  70  80  90 100], test: [50]\n",
      "train: [ 10  20  30  40  50  70  80  90 100], test: [60]\n",
      "train: [ 10  20  30  40  50  60  80  90 100], test: [70]\n",
      "train: [ 10  20  30  40  50  60  70  90 100], test: [80]\n",
      "train: [ 10  20  30  40  50  60  70  80 100], test: [90]\n",
      "train: [10 20 30 40 50 60 70 80 90], test: [100]\n"
     ]
    }
   ],
   "source": [
    "# prepare cross validation\n",
    "loocv = LeaveOneOut()\n",
    "# enumerate splits\n",
    "for train, test in loocv.split(data): # return indices\n",
    "    print('train: %s, test: %s' % (data[train], data[test]))"
   ]
  }
 ],
 "metadata": {
  "kernelspec": {
   "display_name": "Python 3",
   "language": "python",
   "name": "python3"
  },
  "language_info": {
   "codemirror_mode": {
    "name": "ipython",
    "version": 3
   },
   "file_extension": ".py",
   "mimetype": "text/x-python",
   "name": "python",
   "nbconvert_exporter": "python",
   "pygments_lexer": "ipython3",
   "version": "3.8.8"
  }
 },
 "nbformat": 4,
 "nbformat_minor": 5
}
