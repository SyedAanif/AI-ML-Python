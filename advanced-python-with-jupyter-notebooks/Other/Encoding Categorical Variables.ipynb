{
 "cells": [
  {
   "cell_type": "code",
   "execution_count": 1,
   "id": "3c63d331",
   "metadata": {},
   "outputs": [],
   "source": [
    "import pandas as pd"
   ]
  },
  {
   "cell_type": "code",
   "execution_count": 2,
   "id": "d806a311",
   "metadata": {},
   "outputs": [],
   "source": [
    "data = pd.read_csv('Melbourne_housing_FULL.csv',low_memory=False)"
   ]
  },
  {
   "cell_type": "code",
   "execution_count": 3,
   "id": "485182ee",
   "metadata": {},
   "outputs": [
    {
     "data": {
      "text/html": [
       "<div>\n",
       "<style scoped>\n",
       "    .dataframe tbody tr th:only-of-type {\n",
       "        vertical-align: middle;\n",
       "    }\n",
       "\n",
       "    .dataframe tbody tr th {\n",
       "        vertical-align: top;\n",
       "    }\n",
       "\n",
       "    .dataframe thead th {\n",
       "        text-align: right;\n",
       "    }\n",
       "</style>\n",
       "<table border=\"1\" class=\"dataframe\">\n",
       "  <thead>\n",
       "    <tr style=\"text-align: right;\">\n",
       "      <th></th>\n",
       "      <th>Suburb</th>\n",
       "      <th>Address</th>\n",
       "      <th>Rooms</th>\n",
       "      <th>Type</th>\n",
       "      <th>Method</th>\n",
       "      <th>SellerG</th>\n",
       "      <th>Date</th>\n",
       "      <th>Distance</th>\n",
       "      <th>Postcode</th>\n",
       "      <th>Bedroom</th>\n",
       "      <th>...</th>\n",
       "      <th>Landsize</th>\n",
       "      <th>BuildingArea</th>\n",
       "      <th>YearBuilt</th>\n",
       "      <th>CouncilArea</th>\n",
       "      <th>Latitude</th>\n",
       "      <th>Longtitude</th>\n",
       "      <th>Regionname</th>\n",
       "      <th>Propertycount</th>\n",
       "      <th>ParkingArea</th>\n",
       "      <th>Price</th>\n",
       "    </tr>\n",
       "  </thead>\n",
       "  <tbody>\n",
       "    <tr>\n",
       "      <th>0</th>\n",
       "      <td>Abbotsford</td>\n",
       "      <td>68 Studley St</td>\n",
       "      <td>2</td>\n",
       "      <td>h</td>\n",
       "      <td>SS</td>\n",
       "      <td>Jellis</td>\n",
       "      <td>3/9/2016</td>\n",
       "      <td>2.5</td>\n",
       "      <td>3067.0</td>\n",
       "      <td>2.0</td>\n",
       "      <td>...</td>\n",
       "      <td>126.0</td>\n",
       "      <td>inf</td>\n",
       "      <td>NaN</td>\n",
       "      <td>Yarra City Council</td>\n",
       "      <td>-37.8014</td>\n",
       "      <td>144.9958</td>\n",
       "      <td>Northern Metropolitan</td>\n",
       "      <td>4019.0</td>\n",
       "      <td>Carport</td>\n",
       "      <td>NaN</td>\n",
       "    </tr>\n",
       "    <tr>\n",
       "      <th>1</th>\n",
       "      <td>Airport West</td>\n",
       "      <td>154 Halsey Rd</td>\n",
       "      <td>3</td>\n",
       "      <td>t</td>\n",
       "      <td>PI</td>\n",
       "      <td>Nelson</td>\n",
       "      <td>3/9/2016</td>\n",
       "      <td>13.5</td>\n",
       "      <td>3042.0</td>\n",
       "      <td>3.0</td>\n",
       "      <td>...</td>\n",
       "      <td>303.0</td>\n",
       "      <td>225</td>\n",
       "      <td>2016.0</td>\n",
       "      <td>Moonee Valley City Council</td>\n",
       "      <td>-37.7180</td>\n",
       "      <td>144.8780</td>\n",
       "      <td>Western Metropolitan</td>\n",
       "      <td>3464.0</td>\n",
       "      <td>Detached Garage</td>\n",
       "      <td>840000.0</td>\n",
       "    </tr>\n",
       "    <tr>\n",
       "      <th>2</th>\n",
       "      <td>Albert Park</td>\n",
       "      <td>105 Kerferd Rd</td>\n",
       "      <td>2</td>\n",
       "      <td>h</td>\n",
       "      <td>S</td>\n",
       "      <td>hockingstuart</td>\n",
       "      <td>3/9/2016</td>\n",
       "      <td>3.3</td>\n",
       "      <td>3206.0</td>\n",
       "      <td>2.0</td>\n",
       "      <td>...</td>\n",
       "      <td>120.0</td>\n",
       "      <td>82</td>\n",
       "      <td>1900.0</td>\n",
       "      <td>Port Phillip City Council</td>\n",
       "      <td>-37.8459</td>\n",
       "      <td>144.9555</td>\n",
       "      <td>Southern Metropolitan</td>\n",
       "      <td>3280.0</td>\n",
       "      <td>Attached Garage</td>\n",
       "      <td>1275000.0</td>\n",
       "    </tr>\n",
       "    <tr>\n",
       "      <th>3</th>\n",
       "      <td>Albert Park</td>\n",
       "      <td>85 Richardson St</td>\n",
       "      <td>2</td>\n",
       "      <td>h</td>\n",
       "      <td>S</td>\n",
       "      <td>Thomson</td>\n",
       "      <td>3/9/2016</td>\n",
       "      <td>3.3</td>\n",
       "      <td>3206.0</td>\n",
       "      <td>2.0</td>\n",
       "      <td>...</td>\n",
       "      <td>159.0</td>\n",
       "      <td>inf</td>\n",
       "      <td>NaN</td>\n",
       "      <td>Port Phillip City Council</td>\n",
       "      <td>-37.8450</td>\n",
       "      <td>144.9538</td>\n",
       "      <td>Southern Metropolitan</td>\n",
       "      <td>3280.0</td>\n",
       "      <td>Indoor</td>\n",
       "      <td>1455000.0</td>\n",
       "    </tr>\n",
       "    <tr>\n",
       "      <th>4</th>\n",
       "      <td>Alphington</td>\n",
       "      <td>30 Austin St</td>\n",
       "      <td>3</td>\n",
       "      <td>h</td>\n",
       "      <td>SN</td>\n",
       "      <td>McGrath</td>\n",
       "      <td>3/9/2016</td>\n",
       "      <td>6.4</td>\n",
       "      <td>3078.0</td>\n",
       "      <td>3.0</td>\n",
       "      <td>...</td>\n",
       "      <td>174.0</td>\n",
       "      <td>122</td>\n",
       "      <td>2003.0</td>\n",
       "      <td>Darebin City Council</td>\n",
       "      <td>-37.7818</td>\n",
       "      <td>145.0198</td>\n",
       "      <td>Northern Metropolitan</td>\n",
       "      <td>2211.0</td>\n",
       "      <td>Parkade</td>\n",
       "      <td>NaN</td>\n",
       "    </tr>\n",
       "  </tbody>\n",
       "</table>\n",
       "<p>5 rows × 22 columns</p>\n",
       "</div>"
      ],
      "text/plain": [
       "         Suburb           Address  Rooms Type Method        SellerG      Date  \\\n",
       "0    Abbotsford     68 Studley St      2    h     SS         Jellis  3/9/2016   \n",
       "1  Airport West     154 Halsey Rd      3    t     PI         Nelson  3/9/2016   \n",
       "2   Albert Park    105 Kerferd Rd      2    h      S  hockingstuart  3/9/2016   \n",
       "3   Albert Park  85 Richardson St      2    h      S        Thomson  3/9/2016   \n",
       "4    Alphington      30 Austin St      3    h     SN        McGrath  3/9/2016   \n",
       "\n",
       "   Distance  Postcode  Bedroom  ...  Landsize  BuildingArea  YearBuilt  \\\n",
       "0       2.5    3067.0      2.0  ...     126.0           inf        NaN   \n",
       "1      13.5    3042.0      3.0  ...     303.0           225     2016.0   \n",
       "2       3.3    3206.0      2.0  ...     120.0            82     1900.0   \n",
       "3       3.3    3206.0      2.0  ...     159.0           inf        NaN   \n",
       "4       6.4    3078.0      3.0  ...     174.0           122     2003.0   \n",
       "\n",
       "                  CouncilArea  Latitude Longtitude             Regionname  \\\n",
       "0          Yarra City Council  -37.8014   144.9958  Northern Metropolitan   \n",
       "1  Moonee Valley City Council  -37.7180   144.8780   Western Metropolitan   \n",
       "2   Port Phillip City Council  -37.8459   144.9555  Southern Metropolitan   \n",
       "3   Port Phillip City Council  -37.8450   144.9538  Southern Metropolitan   \n",
       "4        Darebin City Council  -37.7818   145.0198  Northern Metropolitan   \n",
       "\n",
       "   Propertycount      ParkingArea      Price  \n",
       "0         4019.0          Carport        NaN  \n",
       "1         3464.0  Detached Garage   840000.0  \n",
       "2         3280.0  Attached Garage  1275000.0  \n",
       "3         3280.0           Indoor  1455000.0  \n",
       "4         2211.0          Parkade        NaN  \n",
       "\n",
       "[5 rows x 22 columns]"
      ]
     },
     "execution_count": 3,
     "metadata": {},
     "output_type": "execute_result"
    }
   ],
   "source": [
    "data.head()"
   ]
  },
  {
   "cell_type": "code",
   "execution_count": 4,
   "id": "86ba1f2e",
   "metadata": {},
   "outputs": [
    {
     "data": {
      "text/plain": [
       "(34857, 22)"
      ]
     },
     "execution_count": 4,
     "metadata": {},
     "output_type": "execute_result"
    }
   ],
   "source": [
    "data.shape"
   ]
  },
  {
   "cell_type": "code",
   "execution_count": 5,
   "id": "fd5e95e0",
   "metadata": {},
   "outputs": [
    {
     "data": {
      "text/plain": [
       "Suburb               0\n",
       "Address              0\n",
       "Rooms                0\n",
       "Type                 0\n",
       "Method               0\n",
       "SellerG              0\n",
       "Date                 0\n",
       "Distance             1\n",
       "Postcode             1\n",
       "Bedroom           8217\n",
       "Bathroom          8226\n",
       "Car               8728\n",
       "Landsize         11810\n",
       "BuildingArea     21097\n",
       "YearBuilt        19306\n",
       "CouncilArea          3\n",
       "Latitude          7976\n",
       "Longtitude        7976\n",
       "Regionname           0\n",
       "Propertycount        3\n",
       "ParkingArea          0\n",
       "Price             7610\n",
       "dtype: int64"
      ]
     },
     "execution_count": 5,
     "metadata": {},
     "output_type": "execute_result"
    }
   ],
   "source": [
    "data.isnull().sum()"
   ]
  },
  {
   "cell_type": "code",
   "execution_count": 6,
   "id": "060e9ded",
   "metadata": {},
   "outputs": [],
   "source": [
    "data.dropna(inplace=True)"
   ]
  },
  {
   "cell_type": "markdown",
   "id": "97e5a0b2",
   "metadata": {},
   "source": [
    "### Converting `categorical` data to `numerical` data so that it can be used by algorithms"
   ]
  },
  {
   "cell_type": "markdown",
   "id": "471f5949",
   "metadata": {},
   "source": [
    "#### One Hot Encoding\n",
    "One-Hot-Encoding is used to create dummy variables to replace the categories in a categorical variable into features of each category and represent it using 1 or 0 based on the presence or absence of the categorical value in the record."
   ]
  },
  {
   "cell_type": "code",
   "execution_count": 7,
   "id": "1238d15d",
   "metadata": {},
   "outputs": [],
   "source": [
    "df_dummies = pd.get_dummies(data,columns=['ParkingArea'],prefix='PARK')"
   ]
  },
  {
   "cell_type": "code",
   "execution_count": 8,
   "id": "3bfe09e7",
   "metadata": {},
   "outputs": [
    {
     "data": {
      "text/html": [
       "<div>\n",
       "<style scoped>\n",
       "    .dataframe tbody tr th:only-of-type {\n",
       "        vertical-align: middle;\n",
       "    }\n",
       "\n",
       "    .dataframe tbody tr th {\n",
       "        vertical-align: top;\n",
       "    }\n",
       "\n",
       "    .dataframe thead th {\n",
       "        text-align: right;\n",
       "    }\n",
       "</style>\n",
       "<table border=\"1\" class=\"dataframe\">\n",
       "  <thead>\n",
       "    <tr style=\"text-align: right;\">\n",
       "      <th></th>\n",
       "      <th>Suburb</th>\n",
       "      <th>Address</th>\n",
       "      <th>Rooms</th>\n",
       "      <th>Type</th>\n",
       "      <th>Method</th>\n",
       "      <th>SellerG</th>\n",
       "      <th>Date</th>\n",
       "      <th>Distance</th>\n",
       "      <th>Postcode</th>\n",
       "      <th>Bedroom</th>\n",
       "      <th>...</th>\n",
       "      <th>Propertycount</th>\n",
       "      <th>Price</th>\n",
       "      <th>PARK_Attached Garage</th>\n",
       "      <th>PARK_Carport</th>\n",
       "      <th>PARK_Detached Garage</th>\n",
       "      <th>PARK_Indoor</th>\n",
       "      <th>PARK_Outdoor Stall</th>\n",
       "      <th>PARK_Parkade</th>\n",
       "      <th>PARK_Parking Pad</th>\n",
       "      <th>PARK_Underground</th>\n",
       "    </tr>\n",
       "  </thead>\n",
       "  <tbody>\n",
       "    <tr>\n",
       "      <th>1</th>\n",
       "      <td>Airport West</td>\n",
       "      <td>154 Halsey Rd</td>\n",
       "      <td>3</td>\n",
       "      <td>t</td>\n",
       "      <td>PI</td>\n",
       "      <td>Nelson</td>\n",
       "      <td>3/9/2016</td>\n",
       "      <td>13.5</td>\n",
       "      <td>3042.0</td>\n",
       "      <td>3.0</td>\n",
       "      <td>...</td>\n",
       "      <td>3464.0</td>\n",
       "      <td>840000.0</td>\n",
       "      <td>0</td>\n",
       "      <td>0</td>\n",
       "      <td>1</td>\n",
       "      <td>0</td>\n",
       "      <td>0</td>\n",
       "      <td>0</td>\n",
       "      <td>0</td>\n",
       "      <td>0</td>\n",
       "    </tr>\n",
       "    <tr>\n",
       "      <th>2</th>\n",
       "      <td>Albert Park</td>\n",
       "      <td>105 Kerferd Rd</td>\n",
       "      <td>2</td>\n",
       "      <td>h</td>\n",
       "      <td>S</td>\n",
       "      <td>hockingstuart</td>\n",
       "      <td>3/9/2016</td>\n",
       "      <td>3.3</td>\n",
       "      <td>3206.0</td>\n",
       "      <td>2.0</td>\n",
       "      <td>...</td>\n",
       "      <td>3280.0</td>\n",
       "      <td>1275000.0</td>\n",
       "      <td>1</td>\n",
       "      <td>0</td>\n",
       "      <td>0</td>\n",
       "      <td>0</td>\n",
       "      <td>0</td>\n",
       "      <td>0</td>\n",
       "      <td>0</td>\n",
       "      <td>0</td>\n",
       "    </tr>\n",
       "    <tr>\n",
       "      <th>5</th>\n",
       "      <td>Alphington</td>\n",
       "      <td>6 Smith St</td>\n",
       "      <td>4</td>\n",
       "      <td>h</td>\n",
       "      <td>S</td>\n",
       "      <td>Brace</td>\n",
       "      <td>3/9/2016</td>\n",
       "      <td>6.4</td>\n",
       "      <td>3078.0</td>\n",
       "      <td>3.0</td>\n",
       "      <td>...</td>\n",
       "      <td>2211.0</td>\n",
       "      <td>2000000.0</td>\n",
       "      <td>0</td>\n",
       "      <td>0</td>\n",
       "      <td>0</td>\n",
       "      <td>0</td>\n",
       "      <td>0</td>\n",
       "      <td>0</td>\n",
       "      <td>0</td>\n",
       "      <td>1</td>\n",
       "    </tr>\n",
       "    <tr>\n",
       "      <th>6</th>\n",
       "      <td>Alphington</td>\n",
       "      <td>5/6 Yarralea St</td>\n",
       "      <td>3</td>\n",
       "      <td>h</td>\n",
       "      <td>S</td>\n",
       "      <td>Jellis</td>\n",
       "      <td>3/9/2016</td>\n",
       "      <td>6.4</td>\n",
       "      <td>3078.0</td>\n",
       "      <td>3.0</td>\n",
       "      <td>...</td>\n",
       "      <td>2211.0</td>\n",
       "      <td>1110000.0</td>\n",
       "      <td>0</td>\n",
       "      <td>0</td>\n",
       "      <td>0</td>\n",
       "      <td>0</td>\n",
       "      <td>1</td>\n",
       "      <td>0</td>\n",
       "      <td>0</td>\n",
       "      <td>0</td>\n",
       "    </tr>\n",
       "    <tr>\n",
       "      <th>7</th>\n",
       "      <td>Altona</td>\n",
       "      <td>158 Queen St</td>\n",
       "      <td>3</td>\n",
       "      <td>h</td>\n",
       "      <td>VB</td>\n",
       "      <td>Greg</td>\n",
       "      <td>3/9/2016</td>\n",
       "      <td>13.8</td>\n",
       "      <td>3018.0</td>\n",
       "      <td>3.0</td>\n",
       "      <td>...</td>\n",
       "      <td>5301.0</td>\n",
       "      <td>520000.0</td>\n",
       "      <td>0</td>\n",
       "      <td>0</td>\n",
       "      <td>0</td>\n",
       "      <td>0</td>\n",
       "      <td>0</td>\n",
       "      <td>0</td>\n",
       "      <td>1</td>\n",
       "      <td>0</td>\n",
       "    </tr>\n",
       "  </tbody>\n",
       "</table>\n",
       "<p>5 rows × 29 columns</p>\n",
       "</div>"
      ],
      "text/plain": [
       "         Suburb          Address  Rooms Type Method        SellerG      Date  \\\n",
       "1  Airport West    154 Halsey Rd      3    t     PI         Nelson  3/9/2016   \n",
       "2   Albert Park   105 Kerferd Rd      2    h      S  hockingstuart  3/9/2016   \n",
       "5    Alphington       6 Smith St      4    h      S          Brace  3/9/2016   \n",
       "6    Alphington  5/6 Yarralea St      3    h      S         Jellis  3/9/2016   \n",
       "7        Altona     158 Queen St      3    h     VB           Greg  3/9/2016   \n",
       "\n",
       "   Distance  Postcode  Bedroom  ...  Propertycount      Price  \\\n",
       "1      13.5    3042.0      3.0  ...         3464.0   840000.0   \n",
       "2       3.3    3206.0      2.0  ...         3280.0  1275000.0   \n",
       "5       6.4    3078.0      3.0  ...         2211.0  2000000.0   \n",
       "6       6.4    3078.0      3.0  ...         2211.0  1110000.0   \n",
       "7      13.8    3018.0      3.0  ...         5301.0   520000.0   \n",
       "\n",
       "   PARK_Attached Garage PARK_Carport  PARK_Detached Garage PARK_Indoor  \\\n",
       "1                     0            0                     1           0   \n",
       "2                     1            0                     0           0   \n",
       "5                     0            0                     0           0   \n",
       "6                     0            0                     0           0   \n",
       "7                     0            0                     0           0   \n",
       "\n",
       "   PARK_Outdoor Stall  PARK_Parkade PARK_Parking Pad  PARK_Underground  \n",
       "1                   0             0                0                 0  \n",
       "2                   0             0                0                 0  \n",
       "5                   0             0                0                 1  \n",
       "6                   1             0                0                 0  \n",
       "7                   0             0                1                 0  \n",
       "\n",
       "[5 rows x 29 columns]"
      ]
     },
     "execution_count": 8,
     "metadata": {},
     "output_type": "execute_result"
    }
   ],
   "source": [
    "df_dummies.head()"
   ]
  },
  {
   "cell_type": "markdown",
   "id": "1df539ee",
   "metadata": {},
   "source": [
    "#### Sklearn Label Encoding"
   ]
  },
  {
   "cell_type": "code",
   "execution_count": 9,
   "id": "3cf076ed",
   "metadata": {},
   "outputs": [],
   "source": [
    "from sklearn.preprocessing import LabelEncoder\n",
    "labelencoder = LabelEncoder()\n",
    "\n",
    "# returns label encoded variable(s)\n",
    "df_dummies['RegionId'] = labelencoder.fit_transform(df_dummies.Regionname)"
   ]
  },
  {
   "cell_type": "code",
   "execution_count": 10,
   "id": "208e1939",
   "metadata": {},
   "outputs": [
    {
     "data": {
      "text/plain": [
       "1     6\n",
       "2     5\n",
       "5     2\n",
       "6     2\n",
       "7     6\n",
       "9     6\n",
       "10    6\n",
       "13    5\n",
       "16    5\n",
       "19    5\n",
       "Name: RegionId, dtype: int32"
      ]
     },
     "execution_count": 10,
     "metadata": {},
     "output_type": "execute_result"
    }
   ],
   "source": [
    "df_dummies['RegionId'].head(10)"
   ]
  },
  {
   "cell_type": "code",
   "execution_count": 11,
   "id": "9f30955f",
   "metadata": {},
   "outputs": [
    {
     "data": {
      "text/plain": [
       "5    2709\n",
       "2    2613\n",
       "6    2059\n",
       "0     982\n",
       "4     371\n",
       "3      62\n",
       "1      51\n",
       "7      43\n",
       "Name: RegionId, dtype: int64"
      ]
     },
     "execution_count": 11,
     "metadata": {},
     "output_type": "execute_result"
    }
   ],
   "source": [
    "df_dummies['RegionId'].value_counts()"
   ]
  },
  {
   "cell_type": "code",
   "execution_count": 12,
   "id": "6e71f388",
   "metadata": {},
   "outputs": [
    {
     "data": {
      "text/plain": [
       "array([6, 5, 2, 0, 4, 3, 1, 7])"
      ]
     },
     "execution_count": 12,
     "metadata": {},
     "output_type": "execute_result"
    }
   ],
   "source": [
    "df_dummies['RegionId'].unique() # All the unique values supplied"
   ]
  },
  {
   "cell_type": "code",
   "execution_count": 13,
   "id": "feb009aa",
   "metadata": {},
   "outputs": [
    {
     "data": {
      "text/plain": [
       "8"
      ]
     },
     "execution_count": 13,
     "metadata": {},
     "output_type": "execute_result"
    }
   ],
   "source": [
    "df_dummies['RegionId'].nunique()"
   ]
  },
  {
   "cell_type": "code",
   "execution_count": 14,
   "id": "487631a0",
   "metadata": {},
   "outputs": [
    {
     "data": {
      "text/plain": [
       "array([[0., 0., 0., ..., 0., 1., 0.],\n",
       "       [0., 0., 0., ..., 1., 0., 0.],\n",
       "       [0., 0., 1., ..., 0., 0., 0.],\n",
       "       ...,\n",
       "       [0., 0., 0., ..., 0., 1., 0.],\n",
       "       [0., 0., 0., ..., 0., 0., 0.],\n",
       "       [0., 0., 1., ..., 0., 0., 0.]])"
      ]
     },
     "execution_count": 14,
     "metadata": {},
     "output_type": "execute_result"
    }
   ],
   "source": [
    "from sklearn.preprocessing import OneHotEncoder\n",
    "hotencoder = OneHotEncoder()\n",
    "encoded = hotencoder.fit_transform(df_dummies.RegionId.values.reshape(-1,1)).toarray() \n",
    "# Returns a numpy array of one hot encoded variables\n",
    "encoded"
   ]
  },
  {
   "cell_type": "code",
   "execution_count": 15,
   "id": "e4993c65",
   "metadata": {},
   "outputs": [
    {
     "data": {
      "text/plain": [
       "(8890, 8)"
      ]
     },
     "execution_count": 15,
     "metadata": {},
     "output_type": "execute_result"
    }
   ],
   "source": [
    "encoded.shape"
   ]
  },
  {
   "cell_type": "code",
   "execution_count": 16,
   "id": "1a6244fd",
   "metadata": {},
   "outputs": [],
   "source": [
    "# convert the array into a dataframe. Specifically, one hot encoded dataframe\n",
    "\n",
    "df_encoded = pd.DataFrame(encoded, columns = [\"RegionId_\"+str(int(i)) for i in range(encoded.shape[1])])"
   ]
  },
  {
   "cell_type": "code",
   "execution_count": 17,
   "id": "73b5b442",
   "metadata": {},
   "outputs": [
    {
     "data": {
      "text/html": [
       "<div>\n",
       "<style scoped>\n",
       "    .dataframe tbody tr th:only-of-type {\n",
       "        vertical-align: middle;\n",
       "    }\n",
       "\n",
       "    .dataframe tbody tr th {\n",
       "        vertical-align: top;\n",
       "    }\n",
       "\n",
       "    .dataframe thead th {\n",
       "        text-align: right;\n",
       "    }\n",
       "</style>\n",
       "<table border=\"1\" class=\"dataframe\">\n",
       "  <thead>\n",
       "    <tr style=\"text-align: right;\">\n",
       "      <th></th>\n",
       "      <th>RegionId_0</th>\n",
       "      <th>RegionId_1</th>\n",
       "      <th>RegionId_2</th>\n",
       "      <th>RegionId_3</th>\n",
       "      <th>RegionId_4</th>\n",
       "      <th>RegionId_5</th>\n",
       "      <th>RegionId_6</th>\n",
       "      <th>RegionId_7</th>\n",
       "    </tr>\n",
       "  </thead>\n",
       "  <tbody>\n",
       "    <tr>\n",
       "      <th>0</th>\n",
       "      <td>0.0</td>\n",
       "      <td>0.0</td>\n",
       "      <td>0.0</td>\n",
       "      <td>0.0</td>\n",
       "      <td>0.0</td>\n",
       "      <td>0.0</td>\n",
       "      <td>1.0</td>\n",
       "      <td>0.0</td>\n",
       "    </tr>\n",
       "    <tr>\n",
       "      <th>1</th>\n",
       "      <td>0.0</td>\n",
       "      <td>0.0</td>\n",
       "      <td>0.0</td>\n",
       "      <td>0.0</td>\n",
       "      <td>0.0</td>\n",
       "      <td>1.0</td>\n",
       "      <td>0.0</td>\n",
       "      <td>0.0</td>\n",
       "    </tr>\n",
       "    <tr>\n",
       "      <th>2</th>\n",
       "      <td>0.0</td>\n",
       "      <td>0.0</td>\n",
       "      <td>1.0</td>\n",
       "      <td>0.0</td>\n",
       "      <td>0.0</td>\n",
       "      <td>0.0</td>\n",
       "      <td>0.0</td>\n",
       "      <td>0.0</td>\n",
       "    </tr>\n",
       "    <tr>\n",
       "      <th>3</th>\n",
       "      <td>0.0</td>\n",
       "      <td>0.0</td>\n",
       "      <td>1.0</td>\n",
       "      <td>0.0</td>\n",
       "      <td>0.0</td>\n",
       "      <td>0.0</td>\n",
       "      <td>0.0</td>\n",
       "      <td>0.0</td>\n",
       "    </tr>\n",
       "    <tr>\n",
       "      <th>4</th>\n",
       "      <td>0.0</td>\n",
       "      <td>0.0</td>\n",
       "      <td>0.0</td>\n",
       "      <td>0.0</td>\n",
       "      <td>0.0</td>\n",
       "      <td>0.0</td>\n",
       "      <td>1.0</td>\n",
       "      <td>0.0</td>\n",
       "    </tr>\n",
       "    <tr>\n",
       "      <th>...</th>\n",
       "      <td>...</td>\n",
       "      <td>...</td>\n",
       "      <td>...</td>\n",
       "      <td>...</td>\n",
       "      <td>...</td>\n",
       "      <td>...</td>\n",
       "      <td>...</td>\n",
       "      <td>...</td>\n",
       "    </tr>\n",
       "    <tr>\n",
       "      <th>8885</th>\n",
       "      <td>0.0</td>\n",
       "      <td>0.0</td>\n",
       "      <td>0.0</td>\n",
       "      <td>0.0</td>\n",
       "      <td>0.0</td>\n",
       "      <td>0.0</td>\n",
       "      <td>1.0</td>\n",
       "      <td>0.0</td>\n",
       "    </tr>\n",
       "    <tr>\n",
       "      <th>8886</th>\n",
       "      <td>0.0</td>\n",
       "      <td>0.0</td>\n",
       "      <td>0.0</td>\n",
       "      <td>0.0</td>\n",
       "      <td>1.0</td>\n",
       "      <td>0.0</td>\n",
       "      <td>0.0</td>\n",
       "      <td>0.0</td>\n",
       "    </tr>\n",
       "    <tr>\n",
       "      <th>8887</th>\n",
       "      <td>0.0</td>\n",
       "      <td>0.0</td>\n",
       "      <td>0.0</td>\n",
       "      <td>0.0</td>\n",
       "      <td>0.0</td>\n",
       "      <td>0.0</td>\n",
       "      <td>1.0</td>\n",
       "      <td>0.0</td>\n",
       "    </tr>\n",
       "    <tr>\n",
       "      <th>8888</th>\n",
       "      <td>0.0</td>\n",
       "      <td>0.0</td>\n",
       "      <td>0.0</td>\n",
       "      <td>0.0</td>\n",
       "      <td>1.0</td>\n",
       "      <td>0.0</td>\n",
       "      <td>0.0</td>\n",
       "      <td>0.0</td>\n",
       "    </tr>\n",
       "    <tr>\n",
       "      <th>8889</th>\n",
       "      <td>0.0</td>\n",
       "      <td>0.0</td>\n",
       "      <td>1.0</td>\n",
       "      <td>0.0</td>\n",
       "      <td>0.0</td>\n",
       "      <td>0.0</td>\n",
       "      <td>0.0</td>\n",
       "      <td>0.0</td>\n",
       "    </tr>\n",
       "  </tbody>\n",
       "</table>\n",
       "<p>8890 rows × 8 columns</p>\n",
       "</div>"
      ],
      "text/plain": [
       "      RegionId_0  RegionId_1  RegionId_2  RegionId_3  RegionId_4  RegionId_5  \\\n",
       "0            0.0         0.0         0.0         0.0         0.0         0.0   \n",
       "1            0.0         0.0         0.0         0.0         0.0         1.0   \n",
       "2            0.0         0.0         1.0         0.0         0.0         0.0   \n",
       "3            0.0         0.0         1.0         0.0         0.0         0.0   \n",
       "4            0.0         0.0         0.0         0.0         0.0         0.0   \n",
       "...          ...         ...         ...         ...         ...         ...   \n",
       "8885         0.0         0.0         0.0         0.0         0.0         0.0   \n",
       "8886         0.0         0.0         0.0         0.0         1.0         0.0   \n",
       "8887         0.0         0.0         0.0         0.0         0.0         0.0   \n",
       "8888         0.0         0.0         0.0         0.0         1.0         0.0   \n",
       "8889         0.0         0.0         1.0         0.0         0.0         0.0   \n",
       "\n",
       "      RegionId_6  RegionId_7  \n",
       "0            1.0         0.0  \n",
       "1            0.0         0.0  \n",
       "2            0.0         0.0  \n",
       "3            0.0         0.0  \n",
       "4            1.0         0.0  \n",
       "...          ...         ...  \n",
       "8885         1.0         0.0  \n",
       "8886         0.0         0.0  \n",
       "8887         1.0         0.0  \n",
       "8888         0.0         0.0  \n",
       "8889         0.0         0.0  \n",
       "\n",
       "[8890 rows x 8 columns]"
      ]
     },
     "execution_count": 17,
     "metadata": {},
     "output_type": "execute_result"
    }
   ],
   "source": [
    "df_encoded"
   ]
  },
  {
   "cell_type": "code",
   "execution_count": 18,
   "id": "582ba4b2",
   "metadata": {},
   "outputs": [
    {
     "data": {
      "text/html": [
       "<div>\n",
       "<style scoped>\n",
       "    .dataframe tbody tr th:only-of-type {\n",
       "        vertical-align: middle;\n",
       "    }\n",
       "\n",
       "    .dataframe tbody tr th {\n",
       "        vertical-align: top;\n",
       "    }\n",
       "\n",
       "    .dataframe thead th {\n",
       "        text-align: right;\n",
       "    }\n",
       "</style>\n",
       "<table border=\"1\" class=\"dataframe\">\n",
       "  <thead>\n",
       "    <tr style=\"text-align: right;\">\n",
       "      <th></th>\n",
       "      <th>Suburb</th>\n",
       "      <th>Address</th>\n",
       "      <th>Rooms</th>\n",
       "      <th>Type</th>\n",
       "      <th>Method</th>\n",
       "      <th>SellerG</th>\n",
       "      <th>Date</th>\n",
       "      <th>Distance</th>\n",
       "      <th>Postcode</th>\n",
       "      <th>Bedroom</th>\n",
       "      <th>...</th>\n",
       "      <th>PARK_Underground</th>\n",
       "      <th>RegionId</th>\n",
       "      <th>RegionId_0</th>\n",
       "      <th>RegionId_1</th>\n",
       "      <th>RegionId_2</th>\n",
       "      <th>RegionId_3</th>\n",
       "      <th>RegionId_4</th>\n",
       "      <th>RegionId_5</th>\n",
       "      <th>RegionId_6</th>\n",
       "      <th>RegionId_7</th>\n",
       "    </tr>\n",
       "  </thead>\n",
       "  <tbody>\n",
       "    <tr>\n",
       "      <th>0</th>\n",
       "      <td>NaN</td>\n",
       "      <td>NaN</td>\n",
       "      <td>NaN</td>\n",
       "      <td>NaN</td>\n",
       "      <td>NaN</td>\n",
       "      <td>NaN</td>\n",
       "      <td>NaN</td>\n",
       "      <td>NaN</td>\n",
       "      <td>NaN</td>\n",
       "      <td>NaN</td>\n",
       "      <td>...</td>\n",
       "      <td>NaN</td>\n",
       "      <td>NaN</td>\n",
       "      <td>0.0</td>\n",
       "      <td>0.0</td>\n",
       "      <td>0.0</td>\n",
       "      <td>0.0</td>\n",
       "      <td>0.0</td>\n",
       "      <td>0.0</td>\n",
       "      <td>1.0</td>\n",
       "      <td>0.0</td>\n",
       "    </tr>\n",
       "    <tr>\n",
       "      <th>1</th>\n",
       "      <td>Airport West</td>\n",
       "      <td>154 Halsey Rd</td>\n",
       "      <td>3.0</td>\n",
       "      <td>t</td>\n",
       "      <td>PI</td>\n",
       "      <td>Nelson</td>\n",
       "      <td>3/9/2016</td>\n",
       "      <td>13.5</td>\n",
       "      <td>3042.0</td>\n",
       "      <td>3.0</td>\n",
       "      <td>...</td>\n",
       "      <td>0.0</td>\n",
       "      <td>6.0</td>\n",
       "      <td>0.0</td>\n",
       "      <td>0.0</td>\n",
       "      <td>0.0</td>\n",
       "      <td>0.0</td>\n",
       "      <td>0.0</td>\n",
       "      <td>1.0</td>\n",
       "      <td>0.0</td>\n",
       "      <td>0.0</td>\n",
       "    </tr>\n",
       "    <tr>\n",
       "      <th>2</th>\n",
       "      <td>Albert Park</td>\n",
       "      <td>105 Kerferd Rd</td>\n",
       "      <td>2.0</td>\n",
       "      <td>h</td>\n",
       "      <td>S</td>\n",
       "      <td>hockingstuart</td>\n",
       "      <td>3/9/2016</td>\n",
       "      <td>3.3</td>\n",
       "      <td>3206.0</td>\n",
       "      <td>2.0</td>\n",
       "      <td>...</td>\n",
       "      <td>0.0</td>\n",
       "      <td>5.0</td>\n",
       "      <td>0.0</td>\n",
       "      <td>0.0</td>\n",
       "      <td>1.0</td>\n",
       "      <td>0.0</td>\n",
       "      <td>0.0</td>\n",
       "      <td>0.0</td>\n",
       "      <td>0.0</td>\n",
       "      <td>0.0</td>\n",
       "    </tr>\n",
       "    <tr>\n",
       "      <th>3</th>\n",
       "      <td>NaN</td>\n",
       "      <td>NaN</td>\n",
       "      <td>NaN</td>\n",
       "      <td>NaN</td>\n",
       "      <td>NaN</td>\n",
       "      <td>NaN</td>\n",
       "      <td>NaN</td>\n",
       "      <td>NaN</td>\n",
       "      <td>NaN</td>\n",
       "      <td>NaN</td>\n",
       "      <td>...</td>\n",
       "      <td>NaN</td>\n",
       "      <td>NaN</td>\n",
       "      <td>0.0</td>\n",
       "      <td>0.0</td>\n",
       "      <td>1.0</td>\n",
       "      <td>0.0</td>\n",
       "      <td>0.0</td>\n",
       "      <td>0.0</td>\n",
       "      <td>0.0</td>\n",
       "      <td>0.0</td>\n",
       "    </tr>\n",
       "    <tr>\n",
       "      <th>4</th>\n",
       "      <td>NaN</td>\n",
       "      <td>NaN</td>\n",
       "      <td>NaN</td>\n",
       "      <td>NaN</td>\n",
       "      <td>NaN</td>\n",
       "      <td>NaN</td>\n",
       "      <td>NaN</td>\n",
       "      <td>NaN</td>\n",
       "      <td>NaN</td>\n",
       "      <td>NaN</td>\n",
       "      <td>...</td>\n",
       "      <td>NaN</td>\n",
       "      <td>NaN</td>\n",
       "      <td>0.0</td>\n",
       "      <td>0.0</td>\n",
       "      <td>0.0</td>\n",
       "      <td>0.0</td>\n",
       "      <td>0.0</td>\n",
       "      <td>0.0</td>\n",
       "      <td>1.0</td>\n",
       "      <td>0.0</td>\n",
       "    </tr>\n",
       "    <tr>\n",
       "      <th>...</th>\n",
       "      <td>...</td>\n",
       "      <td>...</td>\n",
       "      <td>...</td>\n",
       "      <td>...</td>\n",
       "      <td>...</td>\n",
       "      <td>...</td>\n",
       "      <td>...</td>\n",
       "      <td>...</td>\n",
       "      <td>...</td>\n",
       "      <td>...</td>\n",
       "      <td>...</td>\n",
       "      <td>...</td>\n",
       "      <td>...</td>\n",
       "      <td>...</td>\n",
       "      <td>...</td>\n",
       "      <td>...</td>\n",
       "      <td>...</td>\n",
       "      <td>...</td>\n",
       "      <td>...</td>\n",
       "      <td>...</td>\n",
       "      <td>...</td>\n",
       "    </tr>\n",
       "    <tr>\n",
       "      <th>34838</th>\n",
       "      <td>Caroline Springs</td>\n",
       "      <td>29 Edgbaston Pde</td>\n",
       "      <td>3.0</td>\n",
       "      <td>h</td>\n",
       "      <td>SP</td>\n",
       "      <td>Crane</td>\n",
       "      <td>30/09/2017</td>\n",
       "      <td>14.8</td>\n",
       "      <td>3023.0</td>\n",
       "      <td>3.0</td>\n",
       "      <td>...</td>\n",
       "      <td>0.0</td>\n",
       "      <td>6.0</td>\n",
       "      <td>NaN</td>\n",
       "      <td>NaN</td>\n",
       "      <td>NaN</td>\n",
       "      <td>NaN</td>\n",
       "      <td>NaN</td>\n",
       "      <td>NaN</td>\n",
       "      <td>NaN</td>\n",
       "      <td>NaN</td>\n",
       "    </tr>\n",
       "    <tr>\n",
       "      <th>34846</th>\n",
       "      <td>Keysborough</td>\n",
       "      <td>3 Cobain St</td>\n",
       "      <td>3.0</td>\n",
       "      <td>h</td>\n",
       "      <td>S</td>\n",
       "      <td>Area</td>\n",
       "      <td>30/09/2017</td>\n",
       "      <td>25.2</td>\n",
       "      <td>3173.0</td>\n",
       "      <td>3.0</td>\n",
       "      <td>...</td>\n",
       "      <td>0.0</td>\n",
       "      <td>4.0</td>\n",
       "      <td>NaN</td>\n",
       "      <td>NaN</td>\n",
       "      <td>NaN</td>\n",
       "      <td>NaN</td>\n",
       "      <td>NaN</td>\n",
       "      <td>NaN</td>\n",
       "      <td>NaN</td>\n",
       "      <td>NaN</td>\n",
       "    </tr>\n",
       "    <tr>\n",
       "      <th>34848</th>\n",
       "      <td>Maidstone</td>\n",
       "      <td>15 Ballarat Rd</td>\n",
       "      <td>2.0</td>\n",
       "      <td>h</td>\n",
       "      <td>SP</td>\n",
       "      <td>Biggin</td>\n",
       "      <td>30/09/2017</td>\n",
       "      <td>6.4</td>\n",
       "      <td>3012.0</td>\n",
       "      <td>2.0</td>\n",
       "      <td>...</td>\n",
       "      <td>0.0</td>\n",
       "      <td>6.0</td>\n",
       "      <td>NaN</td>\n",
       "      <td>NaN</td>\n",
       "      <td>NaN</td>\n",
       "      <td>NaN</td>\n",
       "      <td>NaN</td>\n",
       "      <td>NaN</td>\n",
       "      <td>NaN</td>\n",
       "      <td>NaN</td>\n",
       "    </tr>\n",
       "    <tr>\n",
       "      <th>34851</th>\n",
       "      <td>Noble Park</td>\n",
       "      <td>5 Blaby St</td>\n",
       "      <td>3.0</td>\n",
       "      <td>h</td>\n",
       "      <td>PI</td>\n",
       "      <td>C21</td>\n",
       "      <td>30/09/2017</td>\n",
       "      <td>22.7</td>\n",
       "      <td>3174.0</td>\n",
       "      <td>3.0</td>\n",
       "      <td>...</td>\n",
       "      <td>0.0</td>\n",
       "      <td>4.0</td>\n",
       "      <td>NaN</td>\n",
       "      <td>NaN</td>\n",
       "      <td>NaN</td>\n",
       "      <td>NaN</td>\n",
       "      <td>NaN</td>\n",
       "      <td>NaN</td>\n",
       "      <td>NaN</td>\n",
       "      <td>NaN</td>\n",
       "    </tr>\n",
       "    <tr>\n",
       "      <th>34856</th>\n",
       "      <td>Westmeadows</td>\n",
       "      <td>42 Pascoe St</td>\n",
       "      <td>4.0</td>\n",
       "      <td>h</td>\n",
       "      <td>S</td>\n",
       "      <td>Barry</td>\n",
       "      <td>30/09/2017</td>\n",
       "      <td>16.5</td>\n",
       "      <td>3049.0</td>\n",
       "      <td>4.0</td>\n",
       "      <td>...</td>\n",
       "      <td>0.0</td>\n",
       "      <td>2.0</td>\n",
       "      <td>NaN</td>\n",
       "      <td>NaN</td>\n",
       "      <td>NaN</td>\n",
       "      <td>NaN</td>\n",
       "      <td>NaN</td>\n",
       "      <td>NaN</td>\n",
       "      <td>NaN</td>\n",
       "      <td>NaN</td>\n",
       "    </tr>\n",
       "  </tbody>\n",
       "</table>\n",
       "<p>15170 rows × 38 columns</p>\n",
       "</div>"
      ],
      "text/plain": [
       "                 Suburb           Address  Rooms Type Method        SellerG  \\\n",
       "0                   NaN               NaN    NaN  NaN    NaN            NaN   \n",
       "1          Airport West     154 Halsey Rd    3.0    t     PI         Nelson   \n",
       "2           Albert Park    105 Kerferd Rd    2.0    h      S  hockingstuart   \n",
       "3                   NaN               NaN    NaN  NaN    NaN            NaN   \n",
       "4                   NaN               NaN    NaN  NaN    NaN            NaN   \n",
       "...                 ...               ...    ...  ...    ...            ...   \n",
       "34838  Caroline Springs  29 Edgbaston Pde    3.0    h     SP          Crane   \n",
       "34846       Keysborough       3 Cobain St    3.0    h      S           Area   \n",
       "34848         Maidstone    15 Ballarat Rd    2.0    h     SP         Biggin   \n",
       "34851        Noble Park        5 Blaby St    3.0    h     PI            C21   \n",
       "34856       Westmeadows      42 Pascoe St    4.0    h      S          Barry   \n",
       "\n",
       "             Date  Distance  Postcode  Bedroom  ...  PARK_Underground  \\\n",
       "0             NaN       NaN       NaN      NaN  ...               NaN   \n",
       "1        3/9/2016      13.5    3042.0      3.0  ...               0.0   \n",
       "2        3/9/2016       3.3    3206.0      2.0  ...               0.0   \n",
       "3             NaN       NaN       NaN      NaN  ...               NaN   \n",
       "4             NaN       NaN       NaN      NaN  ...               NaN   \n",
       "...           ...       ...       ...      ...  ...               ...   \n",
       "34838  30/09/2017      14.8    3023.0      3.0  ...               0.0   \n",
       "34846  30/09/2017      25.2    3173.0      3.0  ...               0.0   \n",
       "34848  30/09/2017       6.4    3012.0      2.0  ...               0.0   \n",
       "34851  30/09/2017      22.7    3174.0      3.0  ...               0.0   \n",
       "34856  30/09/2017      16.5    3049.0      4.0  ...               0.0   \n",
       "\n",
       "       RegionId  RegionId_0 RegionId_1  RegionId_2 RegionId_3  RegionId_4  \\\n",
       "0           NaN         0.0        0.0         0.0        0.0         0.0   \n",
       "1           6.0         0.0        0.0         0.0        0.0         0.0   \n",
       "2           5.0         0.0        0.0         1.0        0.0         0.0   \n",
       "3           NaN         0.0        0.0         1.0        0.0         0.0   \n",
       "4           NaN         0.0        0.0         0.0        0.0         0.0   \n",
       "...         ...         ...        ...         ...        ...         ...   \n",
       "34838       6.0         NaN        NaN         NaN        NaN         NaN   \n",
       "34846       4.0         NaN        NaN         NaN        NaN         NaN   \n",
       "34848       6.0         NaN        NaN         NaN        NaN         NaN   \n",
       "34851       4.0         NaN        NaN         NaN        NaN         NaN   \n",
       "34856       2.0         NaN        NaN         NaN        NaN         NaN   \n",
       "\n",
       "       RegionId_5 RegionId_6  RegionId_7  \n",
       "0             0.0        1.0         0.0  \n",
       "1             1.0        0.0         0.0  \n",
       "2             0.0        0.0         0.0  \n",
       "3             0.0        0.0         0.0  \n",
       "4             0.0        1.0         0.0  \n",
       "...           ...        ...         ...  \n",
       "34838         NaN        NaN         NaN  \n",
       "34846         NaN        NaN         NaN  \n",
       "34848         NaN        NaN         NaN  \n",
       "34851         NaN        NaN         NaN  \n",
       "34856         NaN        NaN         NaN  \n",
       "\n",
       "[15170 rows x 38 columns]"
      ]
     },
     "execution_count": 18,
     "metadata": {},
     "output_type": "execute_result"
    }
   ],
   "source": [
    "df_dummies = pd.concat([df_dummies, df_encoded], axis=1)  # concats two dataframes\n",
    "df_dummies"
   ]
  },
  {
   "cell_type": "markdown",
   "id": "f6d781ad",
   "metadata": {},
   "source": [
    "### Normalization and Scaling"
   ]
  },
  {
   "cell_type": "markdown",
   "id": "92a8a509",
   "metadata": {},
   "source": [
    "#### Standard Scaler\n",
    "StandardScaler normalizes the data using the formula (x-mean)/standard deviation"
   ]
  },
  {
   "cell_type": "code",
   "execution_count": 19,
   "id": "57397761",
   "metadata": {},
   "outputs": [],
   "source": [
    "#Scales the data. Essentially returns the z-scores of every attribute\n",
    "\n",
    "from sklearn.preprocessing import StandardScaler\n",
    "\n",
    "std_scale = StandardScaler()"
   ]
  },
  {
   "cell_type": "code",
   "execution_count": 20,
   "id": "d93c151b",
   "metadata": {},
   "outputs": [],
   "source": [
    "# returns z-scores of the values of the attribute\n",
    "data['Bedroom_Stdscale'] = std_scale.fit_transform(data[['Bedroom']])"
   ]
  },
  {
   "cell_type": "code",
   "execution_count": 21,
   "id": "e9f82efa",
   "metadata": {},
   "outputs": [
    {
     "data": {
      "text/plain": [
       "1   -0.080681\n",
       "2   -1.115676\n",
       "5   -0.080681\n",
       "6   -0.080681\n",
       "7   -0.080681\n",
       "Name: Bedroom_Stdscale, dtype: float64"
      ]
     },
     "execution_count": 21,
     "metadata": {},
     "output_type": "execute_result"
    }
   ],
   "source": [
    "data['Bedroom_Stdscale'].head()"
   ]
  },
  {
   "cell_type": "code",
   "execution_count": 22,
   "id": "060354ee",
   "metadata": {},
   "outputs": [
    {
     "data": {
      "text/plain": [
       "count    8.890000e+03\n",
       "mean     2.165110e-15\n",
       "std      1.000056e+00\n",
       "min     -3.185668e+00\n",
       "25%     -1.115676e+00\n",
       "50%     -8.068077e-02\n",
       "75%      9.543150e-01\n",
       "max      9.234281e+00\n",
       "Name: Bedroom_Stdscale, dtype: float64"
      ]
     },
     "execution_count": 22,
     "metadata": {},
     "output_type": "execute_result"
    }
   ],
   "source": [
    "data['Bedroom_Stdscale'].describe()"
   ]
  },
  {
   "cell_type": "markdown",
   "id": "302e09a4",
   "metadata": {},
   "source": [
    "#### MinMaxScaler\n",
    "MinMaxScaler normalizes the data using the formula (x - min)/(max - min)"
   ]
  },
  {
   "cell_type": "code",
   "execution_count": 23,
   "id": "8f5d090f",
   "metadata": {},
   "outputs": [],
   "source": [
    "from sklearn.preprocessing import MinMaxScaler\n",
    "\n",
    "minmax_scale = MinMaxScaler()"
   ]
  },
  {
   "cell_type": "code",
   "execution_count": 24,
   "id": "d640ac6a",
   "metadata": {},
   "outputs": [],
   "source": [
    "data['Car_MinMaxScale'] = minmax_scale.fit_transform(data[['Car']])"
   ]
  },
  {
   "cell_type": "code",
   "execution_count": 25,
   "id": "81ecb4ac",
   "metadata": {},
   "outputs": [
    {
     "data": {
      "text/plain": [
       "1    0.1\n",
       "2    0.0\n",
       "5    0.4\n",
       "6    0.2\n",
       "7    0.1\n",
       "Name: Car_MinMaxScale, dtype: float64"
      ]
     },
     "execution_count": 25,
     "metadata": {},
     "output_type": "execute_result"
    }
   ],
   "source": [
    "data['Car_MinMaxScale'].head()"
   ]
  },
  {
   "cell_type": "code",
   "execution_count": 26,
   "id": "76d9b43d",
   "metadata": {},
   "outputs": [
    {
     "data": {
      "text/plain": [
       "count    8890.000000\n",
       "mean        0.169224\n",
       "std         0.097534\n",
       "min         0.000000\n",
       "25%         0.100000\n",
       "50%         0.200000\n",
       "75%         0.200000\n",
       "max         1.000000\n",
       "Name: Car_MinMaxScale, dtype: float64"
      ]
     },
     "execution_count": 26,
     "metadata": {},
     "output_type": "execute_result"
    }
   ],
   "source": [
    "data['Car_MinMaxScale'].describe()"
   ]
  },
  {
   "cell_type": "markdown",
   "id": "aa79fec7",
   "metadata": {},
   "source": [
    "#### Log Transformation"
   ]
  },
  {
   "cell_type": "code",
   "execution_count": 27,
   "id": "55e892a0",
   "metadata": {},
   "outputs": [],
   "source": [
    "import numpy as np"
   ]
  },
  {
   "cell_type": "code",
   "execution_count": 28,
   "id": "c51d9f4c",
   "metadata": {},
   "outputs": [],
   "source": [
    "# Transform an attribute using a mathematical transformation.\n",
    "from sklearn.preprocessing import FunctionTransformer   \n",
    "\n",
    "log_transformer = FunctionTransformer(np.log1p) # not to bring in other things with log transformer\n"
   ]
  },
  {
   "cell_type": "code",
   "execution_count": 29,
   "id": "42e4f0cb",
   "metadata": {},
   "outputs": [],
   "source": [
    "data['Distance_logtransform'] = log_transformer.fit_transform(data[['Distance']])   # Log Transform the attribute "
   ]
  },
  {
   "cell_type": "code",
   "execution_count": 30,
   "id": "7acf0ff4",
   "metadata": {},
   "outputs": [
    {
     "data": {
      "text/plain": [
       "1    2.674149\n",
       "2    1.458615\n",
       "5    2.001480\n",
       "6    2.001480\n",
       "7    2.694627\n",
       "Name: Distance_logtransform, dtype: float64"
      ]
     },
     "execution_count": 30,
     "metadata": {},
     "output_type": "execute_result"
    }
   ],
   "source": [
    "data['Distance_logtransform'].head()"
   ]
  },
  {
   "cell_type": "code",
   "execution_count": 31,
   "id": "f0becba0",
   "metadata": {},
   "outputs": [
    {
     "data": {
      "text/plain": [
       "count    8890.000000\n",
       "mean        2.356024\n",
       "std         0.550826\n",
       "min         0.000000\n",
       "25%         2.001480\n",
       "50%         2.415914\n",
       "75%         2.701361\n",
       "max         3.879500\n",
       "Name: Distance_logtransform, dtype: float64"
      ]
     },
     "execution_count": 31,
     "metadata": {},
     "output_type": "execute_result"
    }
   ],
   "source": [
    "data['Distance_logtransform'].describe()"
   ]
  },
  {
   "cell_type": "markdown",
   "id": "530d6dc1",
   "metadata": {},
   "source": [
    "#### Exponential Transformation"
   ]
  },
  {
   "cell_type": "code",
   "execution_count": 32,
   "id": "09154971",
   "metadata": {},
   "outputs": [],
   "source": [
    "exp_transformer = FunctionTransformer(np.exp) # Exponential transform "
   ]
  },
  {
   "cell_type": "code",
   "execution_count": 33,
   "id": "4d8ddc24",
   "metadata": {},
   "outputs": [],
   "source": [
    "data['Rooms_exptransform'] = exp_transformer.fit_transform(data[['Rooms']])  #returns the exponential transform of the data"
   ]
  },
  {
   "cell_type": "code",
   "execution_count": 34,
   "id": "7c733bf3",
   "metadata": {},
   "outputs": [
    {
     "data": {
      "text/plain": [
       "1    20.085537\n",
       "2     7.389056\n",
       "5    54.598150\n",
       "6    20.085537\n",
       "7    20.085537\n",
       "Name: Rooms_exptransform, dtype: float64"
      ]
     },
     "execution_count": 34,
     "metadata": {},
     "output_type": "execute_result"
    }
   ],
   "source": [
    "data['Rooms_exptransform'].head()"
   ]
  },
  {
   "cell_type": "code",
   "execution_count": 35,
   "id": "3b33f48f",
   "metadata": {},
   "outputs": [
    {
     "data": {
      "text/plain": [
       "count      8890.000000\n",
       "mean         57.862291\n",
       "std        1743.357006\n",
       "min           2.718282\n",
       "25%           7.389056\n",
       "50%          20.085537\n",
       "75%          54.598150\n",
       "max      162754.791419\n",
       "Name: Rooms_exptransform, dtype: float64"
      ]
     },
     "execution_count": 35,
     "metadata": {},
     "output_type": "execute_result"
    }
   ],
   "source": [
    "data['Rooms_exptransform'].describe()"
   ]
  }
 ],
 "metadata": {
  "kernelspec": {
   "display_name": "Python 3",
   "language": "python",
   "name": "python3"
  },
  "language_info": {
   "codemirror_mode": {
    "name": "ipython",
    "version": 3
   },
   "file_extension": ".py",
   "mimetype": "text/x-python",
   "name": "python",
   "nbconvert_exporter": "python",
   "pygments_lexer": "ipython3",
   "version": "3.8.8"
  }
 },
 "nbformat": 4,
 "nbformat_minor": 5
}
