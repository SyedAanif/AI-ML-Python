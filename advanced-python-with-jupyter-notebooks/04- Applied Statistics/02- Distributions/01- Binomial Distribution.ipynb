{
 "cells": [
  {
   "cell_type": "markdown",
   "id": "f2f0bfc7",
   "metadata": {},
   "source": [
    "# Binomial Distribution\n",
    "## Problem Statement\n",
    "A bank issues credit card to its customers under the scheme of Master card. Based on past data, it is known that 60% of the customers pay the bill on time. If a sample of 7 accounts is selected at random from current database, construct the binomial probability distribution of accounts paying on time."
   ]
  },
  {
   "cell_type": "code",
   "execution_count": 1,
   "id": "d4913e87",
   "metadata": {},
   "outputs": [],
   "source": [
    "import numpy as np\n",
    "import scipy.stats as stats   # will help to form a distribution\n",
    "import matplotlib.pyplot as plt"
   ]
  },
  {
   "cell_type": "code",
   "execution_count": 2,
   "id": "cb132213",
   "metadata": {},
   "outputs": [],
   "source": [
    "n = 7 # number of trials"
   ]
  },
  {
   "cell_type": "code",
   "execution_count": 3,
   "id": "057c2674",
   "metadata": {},
   "outputs": [],
   "source": [
    "p = 0.6  # probability of success"
   ]
  },
  {
   "cell_type": "code",
   "execution_count": 4,
   "id": "68a55171",
   "metadata": {},
   "outputs": [
    {
     "data": {
      "text/plain": [
       "array([0, 1, 2, 3, 4, 5, 6, 7])"
      ]
     },
     "execution_count": 4,
     "metadata": {},
     "output_type": "execute_result"
    }
   ],
   "source": [
    "k = np.arange(0,8)  # sample space each point we want to calculate about\n",
    "k"
   ]
  },
  {
   "cell_type": "code",
   "execution_count": 5,
   "id": "31e09bde",
   "metadata": {},
   "outputs": [],
   "source": [
    "binomial = stats.binom.pmf(k,n,p)"
   ]
  },
  {
   "cell_type": "code",
   "execution_count": 6,
   "id": "98fd4691",
   "metadata": {},
   "outputs": [
    {
     "data": {
      "text/plain": [
       "array([0.0016384, 0.0172032, 0.0774144, 0.193536 , 0.290304 , 0.2612736,\n",
       "       0.1306368, 0.0279936])"
      ]
     },
     "execution_count": 6,
     "metadata": {},
     "output_type": "execute_result"
    }
   ],
   "source": [
    "binomial\n",
    "# binomial[0] means --> probability that none of the persons \n",
    "# will pay on time is 0.16%"
   ]
  },
  {
   "cell_type": "code",
   "execution_count": 7,
   "id": "292b7195",
   "metadata": {},
   "outputs": [
    {
     "data": {
      "image/png": "[encoded data removed]",
      "text/plain": [
       "<Figure size 432x288 with 1 Axes>"
      ]
     },
     "metadata": {
      "needs_background": "light"
     },
     "output_type": "display_data"
    }
   ],
   "source": [
    "# VISUALISE THE DISTRIBUTION\n",
    "plt.plot(k,binomial,'o--')\n",
    "plt.title('Binomial: n=%i , p=%.2f'%(n,p),fontsize=15)\n",
    "plt.xlabel('Number of successes')\n",
    "plt.ylabel('Probability of successes')\n",
    "plt.show()"
   ]
  },
  {
   "cell_type": "code",
   "execution_count": 8,
   "id": "0520226e",
   "metadata": {},
   "outputs": [
    {
     "data": {
      "text/plain": [
       "1.0000000000000004"
      ]
     },
     "execution_count": 8,
     "metadata": {},
     "output_type": "execute_result"
    }
   ],
   "source": [
    "sum(binomial)  # sum of all probabilities should be 1"
   ]
  }
 ],
 "metadata": {
  "kernelspec": {
   "display_name": "Python 3",
   "language": "python",
   "name": "python3"
  },
  "language_info": {
   "codemirror_mode": {
    "name": "ipython",
    "version": 3
   },
   "file_extension": ".py",
   "mimetype": "text/x-python",
   "name": "python",
   "nbconvert_exporter": "python",
   "pygments_lexer": "ipython3",
   "version": "3.8.8"
  }
 },
 "nbformat": 4,
 "nbformat_minor": 5
}
