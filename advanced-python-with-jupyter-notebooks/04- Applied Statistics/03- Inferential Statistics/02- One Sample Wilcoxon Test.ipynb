{
 "cells": [
  {
   "cell_type": "code",
   "execution_count": 1,
   "id": "0f919f5a",
   "metadata": {},
   "outputs": [],
   "source": [
    "import numpy as np\n",
    "from scipy.stats import wilcoxon\n",
    "from statsmodels.stats.power import ttest_power # power of test"
   ]
  },
  {
   "cell_type": "code",
   "execution_count": 2,
   "id": "74959e57",
   "metadata": {},
   "outputs": [],
   "source": [
    "# daily intake of energy in kJ for 11 women\n",
    "daily_intake = np.array([5260,5470,5640,6180,6390,6515,\n",
    "                         6805,7515,7515,8230,8770])"
   ]
  },
  {
   "cell_type": "code",
   "execution_count": 3,
   "id": "0bd7e556",
   "metadata": {},
   "outputs": [],
   "source": [
    "# one sample wilcoxon test\n",
    "# null hypothesis: expected value = 7725\n",
    "z_statistic, p_value = wilcoxon(daily_intake - 7725)"
   ]
  },
  {
   "cell_type": "code",
   "execution_count": 4,
   "id": "febdccdf",
   "metadata": {},
   "outputs": [
    {
     "data": {
      "text/plain": [
       "8.0"
      ]
     },
     "execution_count": 4,
     "metadata": {},
     "output_type": "execute_result"
    }
   ],
   "source": [
    "z_statistic"
   ]
  },
  {
   "cell_type": "code",
   "execution_count": 5,
   "id": "662b24f9",
   "metadata": {},
   "outputs": [
    {
     "data": {
      "text/plain": [
       "0.0244140625"
      ]
     },
     "execution_count": 5,
     "metadata": {},
     "output_type": "execute_result"
    }
   ],
   "source": [
    "p_value"
   ]
  },
  {
   "cell_type": "code",
   "execution_count": 6,
   "id": "ca541a87",
   "metadata": {},
   "outputs": [],
   "source": [
    "# Calculating Power of Test\n",
    "# Compute the difference in Means between Population and Sample and divide it by Standard Deviation\n",
    "# Set the number of Observations\n",
    "# Set the alpha value and alternative values 'two-sided' , 'larger' , 'smaller'"
   ]
  },
  {
   "cell_type": "code",
   "execution_count": 7,
   "id": "69ac8b00",
   "metadata": {},
   "outputs": [],
   "source": [
    "a = (np.mean(daily_intake) - 7725) / np.std(daily_intake)"
   ]
  },
  {
   "cell_type": "code",
   "execution_count": 8,
   "id": "bc557626",
   "metadata": {},
   "outputs": [
    {
     "data": {
      "text/plain": [
       "0.7600153548952461"
      ]
     },
     "execution_count": 8,
     "metadata": {},
     "output_type": "execute_result"
    }
   ],
   "source": [
    "ttest_power(a,nobs=len(daily_intake),alpha=0.05,alternative='two-sided')"
   ]
  }
 ],
 "metadata": {
  "kernelspec": {
   "display_name": "Python 3",
   "language": "python",
   "name": "python3"
  },
  "language_info": {
   "codemirror_mode": {
    "name": "ipython",
    "version": 3
   },
   "file_extension": ".py",
   "mimetype": "text/x-python",
   "name": "python",
   "nbconvert_exporter": "python",
   "pygments_lexer": "ipython3",
   "version": "3.8.8"
  }
 },
 "nbformat": 4,
 "nbformat_minor": 5
}
