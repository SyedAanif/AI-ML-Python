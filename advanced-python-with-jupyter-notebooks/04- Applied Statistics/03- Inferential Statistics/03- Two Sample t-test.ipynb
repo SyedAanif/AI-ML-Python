{
 "cells": [
  {
   "cell_type": "code",
   "execution_count": 1,
   "id": "116d47c8",
   "metadata": {},
   "outputs": [],
   "source": [
    "import numpy as np\n",
    "from scipy.stats import ttest_1samp, ttest_ind # independant"
   ]
  },
  {
   "cell_type": "code",
   "execution_count": 2,
   "id": "f907a6d7",
   "metadata": {},
   "outputs": [],
   "source": [
    "# from population obese and lean individuals\n",
    "energ = np.array([\n",
    "# energy expenditure in mJ and stature (0=obese, 1=lean)\n",
    "[9.21, 0],\n",
    "[7.53, 1],\n",
    "[7.48, 1],\n",
    "[8.08, 1],\n",
    "[8.09, 1],\n",
    "[10.15, 1],\n",
    "[8.40, 1],\n",
    "[10.88, 1],\n",
    "[6.13, 1],\n",
    "[7.90, 1],\n",
    "[11.51, 0],\n",
    "[12.79, 0],\n",
    "[7.05, 1],\n",
    "[11.85, 0],\n",
    "[9.97, 0],\n",
    "[7.48, 1],\n",
    "[8.79, 0],\n",
    "[9.69, 0],\n",
    "[9.68, 0],\n",
    "[7.58, 1],\n",
    "[9.19, 0],\n",
    "[8.11, 1]])"
   ]
  },
  {
   "cell_type": "code",
   "execution_count": 3,
   "id": "9c6e733b",
   "metadata": {},
   "outputs": [],
   "source": [
    "# separating data into two groups, so that they can be used in function signatures\n",
    "group1 = energ[:,1] == 0 # getting all rows and second column and logical == 0\n",
    "group1 = energ[group1][:,0] # for all True values getting first column\n",
    "group2 = energ[:,1] == 1\n",
    "group2 = energ[group2][:,0]"
   ]
  },
  {
   "cell_type": "code",
   "execution_count": 4,
   "id": "80d59897",
   "metadata": {},
   "outputs": [],
   "source": [
    "# two-sample t-test\n",
    "# independent groups: e.g., how boys and girls fare at an exam\n",
    "# null hypothesis: the two groups have the same mean\n",
    "t_statistic, p_value = ttest_ind(group1,group2)\n",
    "\n",
    "# PRE-CHECKS\n",
    "# this test assumes the two groups have the same variance...\n",
    "# (can be checked with tests for equal variance - Levene)"
   ]
  },
  {
   "cell_type": "code",
   "execution_count": 5,
   "id": "d7c9e130",
   "metadata": {},
   "outputs": [
    {
     "data": {
      "text/plain": [
       "3.9455649161549835"
      ]
     },
     "execution_count": 5,
     "metadata": {},
     "output_type": "execute_result"
    }
   ],
   "source": [
    "t_statistic \n",
    "# about 3.94 standard deviations difference between two groups"
   ]
  },
  {
   "cell_type": "code",
   "execution_count": 6,
   "id": "d8069d91",
   "metadata": {},
   "outputs": [
    {
     "data": {
      "text/plain": [
       "0.0007989982111700593"
      ]
     },
     "execution_count": 6,
     "metadata": {},
     "output_type": "execute_result"
    }
   ],
   "source": [
    "p_value\n",
    "# p_value < 0.05 \n",
    "# => alternative hypothesis:\n",
    "# they don't have the same mean at the 5% significance level"
   ]
  },
  {
   "cell_type": "code",
   "execution_count": 7,
   "id": "3433b1be",
   "metadata": {},
   "outputs": [],
   "source": [
    "# NOT INDEPENDANT\n",
    "# dependent groups: e.g., how the same class fare at 2 different exams\n",
    "# pre and post-surgery energy intake\n",
    "intake = np.array([\n",
    "[5260, 3910],\n",
    "[5470, 4220],\n",
    "[5640, 3885],\n",
    "[6180, 5160],\n",
    "[6390, 5645],\n",
    "[6515, 4680],\n",
    "[6805, 5265],\n",
    "[7515, 5975],\n",
    "[7515, 6790],\n",
    "[8230, 6900],\n",
    "[8770, 7335],\n",
    "])"
   ]
  },
  {
   "cell_type": "code",
   "execution_count": 8,
   "id": "46c8254a",
   "metadata": {},
   "outputs": [],
   "source": [
    "# separating into groups\n",
    "pre = intake[:,0]\n",
    "post = intake[:,1]"
   ]
  },
  {
   "cell_type": "code",
   "execution_count": 9,
   "id": "40848b91",
   "metadata": {},
   "outputs": [],
   "source": [
    "# paired t-test: doing two measurments on the same experimental unit\n",
    "# e.g., before and after a treatment\n",
    "# null hypothesis: the two groups have the same mean, thus difference is zero\n",
    "t_statistic, p_value = ttest_1samp(post - pre,0)"
   ]
  },
  {
   "cell_type": "code",
   "execution_count": 10,
   "id": "13761f3a",
   "metadata": {},
   "outputs": [
    {
     "data": {
      "text/plain": [
       "-11.941392877647603"
      ]
     },
     "execution_count": 10,
     "metadata": {},
     "output_type": "execute_result"
    }
   ],
   "source": [
    "t_statistic\n",
    "# approx 12 standard deviations loss"
   ]
  },
  {
   "cell_type": "code",
   "execution_count": 11,
   "id": "b19984aa",
   "metadata": {},
   "outputs": [
    {
     "data": {
      "text/plain": [
       "3.059020942934875e-07"
      ]
     },
     "execution_count": 11,
     "metadata": {},
     "output_type": "execute_result"
    }
   ],
   "source": [
    "p_value\n",
    "# p < 0.05 \n",
    "# => alternative hypothesis:\n",
    "# the difference in mean is not equal to 0"
   ]
  }
 ],
 "metadata": {
  "kernelspec": {
   "display_name": "Python 3",
   "language": "python",
   "name": "python3"
  },
  "language_info": {
   "codemirror_mode": {
    "name": "ipython",
    "version": 3
   },
   "file_extension": ".py",
   "mimetype": "text/x-python",
   "name": "python",
   "nbconvert_exporter": "python",
   "pygments_lexer": "ipython3",
   "version": "3.8.8"
  }
 },
 "nbformat": 4,
 "nbformat_minor": 5
}
