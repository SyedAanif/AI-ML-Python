{
 "cells": [
  {
   "cell_type": "markdown",
   "id": "b4b15093",
   "metadata": {},
   "source": [
    "# Object Oriented Programming in Python\n",
    "When we talk about OOP we're talking about about classes and objects\n",
    "\n",
    "OOP in python is not that different than OOP in any other language.\n",
    "\n",
    "### What is a class?\n",
    "a class is a user defined data type, where we give a name to the data type\n",
    "\n",
    "int is the name of a data type, float is the name of a data type, list is the name of a data type\n",
    "\n",
    "Similarly, if I define a class called My_data_type then My_data_type is the name of a data type.\n",
    "\n",
    "This data type can contain many variables inside of it with each variable possibly being of different data types, and each variable can have it's own name. At first glance a class seems a lot like a dictionary.\n",
    "\n",
    "### Attributes\n",
    "A variable inside a class is called an attribute.\n",
    "\n",
    "### Methods\n",
    "How is this different than a list or dictionary?\n",
    "\n",
    "You can also have functions inside of a class. You call a function that is inside of a class a method\n",
    "\n",
    "These functions can perform calculations on the attributes or on data fed to them from outside of the class.\n",
    "\n",
    "In the declaration of a class you can only define methods. If you want to declare an attribute this must be done inside a method.\n",
    "\n",
    "### Objects\n",
    "An object is an instance of a particular class.\n",
    "\n",
    "For example, one existing data type in python is int\n",
    "\n",
    "If I define a variable as first_int = 6\n",
    "\n",
    "Then first_int is an object of the type int\n",
    "\n",
    "I can also define second_int = 532\n",
    "\n",
    "This is another instance of the type int\n",
    "\n",
    "These two instances of the type int have different values assigned to them!\n",
    "\n",
    "Similarly I can define my own type of variable as a class called My_data_type, then I can declare multiple objects of the class My_data_type, each having different names and possibly having different values assigned to their attributes and different execution of the methods. We have to name the data type (int), but we also have to name each instance of the data type (first_int, second_int).\n",
    "\n",
    "### Initializer\n",
    "If you want to assign some attribute values to your object when you declare it we use an initializer in the class definition. We can also automatically run other methods from inside the initializer at the time of declaration.\n",
    "__init__(self)\n",
    "\n",
    "### self\n",
    "self is an important concept for classes. self is python's internal reference identifier for classes. It serves 2 main purposes.\n",
    "\n",
    "1) When you add an attribute (variable) in a class you must name it self.attribute_name. Then when you declare an object of that class you access that attribute from the outside as object_name.attribute_name, or if you want to use it interally in a method you would reference it as self.attribute_name.\n",
    "\n",
    "2) When you add a method (function) to a class, you must have self as the first argument of that function. but when you call a function you don't actually input self... this is a little confusing."
   ]
  },
  {
   "cell_type": "code",
   "execution_count": 1,
   "id": "d8c3c8f5",
   "metadata": {},
   "outputs": [
    {
     "name": "stdout",
     "output_type": "stream",
     "text": [
      "1.7\n",
      "4\n",
      "6.8\n"
     ]
    }
   ],
   "source": [
    "# class\n",
    "class My_data_type: # first letter capitalised\n",
    "    def init_some_value(self,val2):  # self is always first argument of methods\n",
    "        self.first_var=1.7    # attributes named as self.attribute_name\n",
    "        self.second_var = 2*val2\n",
    "    def multiply_vals(self):  # self occurs only in class\n",
    "        return self.first_var*self.second_var\n",
    "    \n",
    "obj = My_data_type()  # object of the class, will internally call default __init__\n",
    "obj.init_some_value(2)  # calling method, no self passing\n",
    "print(obj.first_var)\n",
    "print(obj.second_var)\n",
    "print(obj.multiply_vals()) # calling method, no self passing"
   ]
  },
  {
   "cell_type": "code",
   "execution_count": 2,
   "id": "658c3902",
   "metadata": {},
   "outputs": [
    {
     "name": "stdout",
     "output_type": "stream",
     "text": [
      "2.5\n"
     ]
    }
   ],
   "source": [
    "# we can add attribute from outside class, but not a good practice, because of inconsistency between objects\n",
    "\n",
    "obj.third_var=2.5\n",
    "print(obj.third_var)\n",
    "\n",
    "# you = My_data_type()\n",
    "# print(you.third_var) # inconsistency"
   ]
  },
  {
   "cell_type": "code",
   "execution_count": 3,
   "id": "60b0656c",
   "metadata": {},
   "outputs": [
    {
     "name": "stdout",
     "output_type": "stream",
     "text": [
      "This pet is a white Cat\n",
      "This pet weighs 2.5 lbs\n",
      "1.13398\n",
      "2\n"
     ]
    }
   ],
   "source": [
    "# if we don't want to have an initialisation function call, we can use inbuilt\n",
    "# initialiser __init__\n",
    "class Pet:\n",
    "    def __init__(self,animal_type,name,age,weight_lbs,colour): # initialiser, run when we declare the object\n",
    "        self.animal = animal_type\n",
    "        self.name = name\n",
    "        self.age = age\n",
    "        self.weight_lbs = weight_lbs\n",
    "        self.color = colour\n",
    "        self.weight_kg = self.calc_weight_in_kg() # calling methods inside\n",
    "        \n",
    "    def calc_weight_in_kg(self):\n",
    "        return 0.453592*self.weight_lbs\n",
    "    \n",
    "    def describe_pet(self):\n",
    "        print(f'This pet is a {self.color} {self.animal}')\n",
    "        print('This pet weighs',self.weight_lbs,'lbs')\n",
    "        # more access and computations\n",
    "cat = Pet('Cat','cat name',2,2.5,'white')\n",
    "cat.describe_pet()\n",
    "print(cat.calc_weight_in_kg())\n",
    "print(cat.age)"
   ]
  }
 ],
 "metadata": {
  "kernelspec": {
   "display_name": "Python 3",
   "language": "python",
   "name": "python3"
  },
  "language_info": {
   "codemirror_mode": {
    "name": "ipython",
    "version": 3
   },
   "file_extension": ".py",
   "mimetype": "text/x-python",
   "name": "python",
   "nbconvert_exporter": "python",
   "pygments_lexer": "ipython3",
   "version": "3.8.8"
  }
 },
 "nbformat": 4,
 "nbformat_minor": 5
}
