{
 "cells": [
  {
   "cell_type": "code",
   "execution_count": 1,
   "id": "627c2b69",
   "metadata": {},
   "outputs": [],
   "source": [
    "import numpy as np\n",
    "u = np.array([3,4])  # u vector with x=3, y=4\n",
    "v = np.array([30,40])"
   ]
  },
  {
   "cell_type": "code",
   "execution_count": 3,
   "id": "1f517dd1",
   "metadata": {},
   "outputs": [
    {
     "name": "stdout",
     "output_type": "stream",
     "text": [
      "5.0\n",
      "50.0\n"
     ]
    }
   ],
   "source": [
    "# length / magnitude of a vector\n",
    "print(np.linalg.norm(u))  # using linear algebra library to calculate length\n",
    "print(np.linalg.norm(v))"
   ]
  },
  {
   "cell_type": "code",
   "execution_count": 6,
   "id": "4eb7a9c1",
   "metadata": {},
   "outputs": [],
   "source": [
    "# direction vector -- angle with horizontal and vertical axis -- cos(angle) =component/magnitude\n",
    "def direction(x):\n",
    "    return x/np.linalg.norm(x)"
   ]
  },
  {
   "cell_type": "code",
   "execution_count": 5,
   "id": "14a03cca",
   "metadata": {},
   "outputs": [
    {
     "name": "stdout",
     "output_type": "stream",
     "text": [
      "[0.6 0.8]\n",
      "[0.6 0.8]\n"
     ]
    }
   ],
   "source": [
    "w = direction(u)\n",
    "z = direction(v)\n",
    "print(w)\n",
    "print(z)"
   ]
  },
  {
   "cell_type": "code",
   "execution_count": 8,
   "id": "5401c081",
   "metadata": {},
   "outputs": [
    {
     "name": "stdout",
     "output_type": "stream",
     "text": [
      "1.0\n",
      "1.0\n"
     ]
    }
   ],
   "source": [
    "# direction vector always has a unit length\n",
    "print(np.linalg.norm(w))\n",
    "print(np.linalg.norm(z))"
   ]
  },
  {
   "cell_type": "code",
   "execution_count": 10,
   "id": "4161beb1",
   "metadata": {},
   "outputs": [],
   "source": [
    "# Dot product / projection(influence) of one vector on another\n",
    "import math\n",
    "\n",
    "# using angle\n",
    "def geometric_dot_product(x,y,theta):\n",
    "    x_norm = np.linalg.norm(x)\n",
    "    y_norm = np.linalg.norm(y)\n",
    "    return x_norm*y_norm*math.cos(math.radians(theta))"
   ]
  },
  {
   "cell_type": "code",
   "execution_count": 12,
   "id": "8d6cf329",
   "metadata": {},
   "outputs": [
    {
     "name": "stdout",
     "output_type": "stream",
     "text": [
      "24.041630560342625\n"
     ]
    }
   ],
   "source": [
    "theta = 60\n",
    "x = [3,5]\n",
    "y = [8,2]\n",
    "print(geometric_dot_product(x,y,theta))"
   ]
  },
  {
   "cell_type": "code",
   "execution_count": 13,
   "id": "16426f35",
   "metadata": {},
   "outputs": [],
   "source": [
    "# using components\n",
    "def dot_product(x,y):\n",
    "    result = 0\n",
    "    for i in range(len(x)):\n",
    "        result+=x[i]*y[i]\n",
    "    return result"
   ]
  },
  {
   "cell_type": "code",
   "execution_count": 15,
   "id": "fd6719fd",
   "metadata": {},
   "outputs": [
    {
     "name": "stdout",
     "output_type": "stream",
     "text": [
      "34\n"
     ]
    }
   ],
   "source": [
    "x = [3,5]\n",
    "y = [8,2]\n",
    "print(dot_product(x,y))"
   ]
  },
  {
   "cell_type": "code",
   "execution_count": 25,
   "id": "40e4b899",
   "metadata": {},
   "outputs": [
    {
     "name": "stderr",
     "output_type": "stream",
     "text": [
      "<ipython-input-25-f904167e28e3>:5: FutureWarning: `rcond` parameter will change to the default of machine precision times ``max(M, N)`` where M and N are the input matrix dimensions.\n",
      "To use the future default and silence this warning we advise to pass `rcond=None`, to keep using the old, explicitly pass `rcond=-1`.\n",
      "  m,c = np.linalg.lstsq(A,y)[0]  # extracts slope and intercept\n"
     ]
    }
   ],
   "source": [
    "# plot a line\n",
    "x = np.array([0,1,2,3])  # values on x-axis\n",
    "y = np.array([-1,0.2,0.9,2.1])  # values on y-axis\n",
    "A = np.vstack([x, np.ones(len(x))]).T  # stacks input array vertically to make single array -- .T transposes\n",
    "m,c = np.linalg.lstsq(A,y)[0]  # extracts slope and intercept"
   ]
  },
  {
   "cell_type": "code",
   "execution_count": 28,
   "id": "8ce845db",
   "metadata": {},
   "outputs": [
    {
     "data": {
      "image/png": "[encoded data removed]",
      "text/plain": [
       "<Figure size 432x288 with 1 Axes>"
      ]
     },
     "metadata": {
      "needs_background": "light"
     },
     "output_type": "display_data"
    }
   ],
   "source": [
    "import matplotlib.pyplot as plt\n",
    "\n",
    "plt.plot(x, m*x+c,'b',label='line')  # plot x and mx+c in 'b' blue solid, with label=line\n",
    "plt.legend() # best fit of the label\n",
    "plt.show()"
   ]
  }
 ],
 "metadata": {
  "kernelspec": {
   "display_name": "Python 3",
   "language": "python",
   "name": "python3"
  },
  "language_info": {
   "codemirror_mode": {
    "name": "ipython",
    "version": 3
   },
   "file_extension": ".py",
   "mimetype": "text/x-python",
   "name": "python",
   "nbconvert_exporter": "python",
   "pygments_lexer": "ipython3",
   "version": "3.8.8"
  }
 },
 "nbformat": 4,
 "nbformat_minor": 5
}
