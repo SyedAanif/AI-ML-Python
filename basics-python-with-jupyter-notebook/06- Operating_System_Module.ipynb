{
 "cells": [
  {
   "cell_type": "markdown",
   "id": "fb431cac",
   "metadata": {},
   "source": [
    "# Operating System Module\n",
    "let's python use command line calls.\n",
    "\n",
    "we need to `import os`"
   ]
  },
  {
   "cell_type": "code",
   "execution_count": 2,
   "id": "32173f6b",
   "metadata": {},
   "outputs": [],
   "source": [
    "import os"
   ]
  },
  {
   "cell_type": "markdown",
   "id": "94f640a1",
   "metadata": {},
   "source": [
    "# Name of OS\n",
    "1. nt -- windows\n",
    "2. posix -- unix based(linux, Mac, etc)"
   ]
  },
  {
   "cell_type": "code",
   "execution_count": 11,
   "id": "6e26c642",
   "metadata": {},
   "outputs": [
    {
     "name": "stdout",
     "output_type": "stream",
     "text": [
      "nt\n"
     ]
    }
   ],
   "source": [
    "print(os.name)"
   ]
  },
  {
   "cell_type": "code",
   "execution_count": 9,
   "id": "4caa92de",
   "metadata": {},
   "outputs": [
    {
     "name": "stdout",
     "output_type": "stream",
     "text": [
      "C:\\Users\\syeda\\learning-python-with-jupyter-notebooks\n"
     ]
    }
   ],
   "source": [
    "# Present working directory\n",
    "print(os.getcwd())"
   ]
  },
  {
   "cell_type": "code",
   "execution_count": 14,
   "id": "2fe1a8ec",
   "metadata": {},
   "outputs": [
    {
     "data": {
      "text/plain": [
       "['.ipynb_checkpoints',\n",
       " 'Debugging.ipynb',\n",
       " 'flow_control.ipynb',\n",
       " 'functions.ipynb',\n",
       " 'intro_to_python_data_types.ipynb',\n",
       " 'OOP_in_python.ipynb',\n",
       " 'Operating_System_Module.ipynb']"
      ]
     },
     "execution_count": 14,
     "metadata": {},
     "output_type": "execute_result"
    }
   ],
   "source": [
    "# contents of directory\n",
    "os.listdir()  # if none location passed, then '.'"
   ]
  },
  {
   "cell_type": "code",
   "execution_count": 13,
   "id": "d79fc86a",
   "metadata": {},
   "outputs": [
    {
     "data": {
      "text/plain": [
       "['.ipynb_checkpoints',\n",
       " 'Debugging.ipynb',\n",
       " 'flow_control.ipynb',\n",
       " 'functions.ipynb',\n",
       " 'intro_to_python_data_types.ipynb',\n",
       " 'OOP_in_python.ipynb',\n",
       " 'Operating_System_Module.ipynb']"
      ]
     },
     "execution_count": 13,
     "metadata": {},
     "output_type": "execute_result"
    }
   ],
   "source": [
    "os.listdir(os.getcwd())"
   ]
  },
  {
   "cell_type": "code",
   "execution_count": 24,
   "id": "a9477eb3",
   "metadata": {},
   "outputs": [],
   "source": [
    "# making a directory\n",
    "os.mkdir(os.getcwd()+'\\\\new dir')"
   ]
  },
  {
   "cell_type": "code",
   "execution_count": 20,
   "id": "0298fb71",
   "metadata": {},
   "outputs": [],
   "source": [
    "# renaming a directory\n",
    "os.rename(os.getcwd()+'\\\\new dir',os.getcwd()+'\\\\rename dir')"
   ]
  },
  {
   "cell_type": "code",
   "execution_count": 27,
   "id": "298dc436",
   "metadata": {},
   "outputs": [],
   "source": [
    "# create and edit a file\n",
    "file = open(os.getcwd()+'\\\\new dir\\\\myFile.txt','w')\n",
    "file.write('hello\\n')\n",
    "file.write('world')\n",
    "file.close()"
   ]
  }
 ],
 "metadata": {
  "kernelspec": {
   "display_name": "Python 3",
   "language": "python",
   "name": "python3"
  },
  "language_info": {
   "codemirror_mode": {
    "name": "ipython",
    "version": 3
   },
   "file_extension": ".py",
   "mimetype": "text/x-python",
   "name": "python",
   "nbconvert_exporter": "python",
   "pygments_lexer": "ipython3",
   "version": "3.8.8"
  }
 },
 "nbformat": 4,
 "nbformat_minor": 5
}
