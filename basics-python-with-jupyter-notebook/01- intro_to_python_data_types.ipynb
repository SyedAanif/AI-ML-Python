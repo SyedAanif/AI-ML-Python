{
 "cells": [
  {
   "cell_type": "code",
   "execution_count": 1,
   "id": "fd40cbd7",
   "metadata": {},
   "outputs": [
    {
     "data": {
      "text/plain": [
       "4"
      ]
     },
     "execution_count": 1,
     "metadata": {},
     "output_type": "execute_result"
    }
   ],
   "source": [
    "2+2"
   ]
  },
  {
   "cell_type": "code",
   "execution_count": 2,
   "id": "03508c25",
   "metadata": {
    "scrolled": true
   },
   "outputs": [
    {
     "name": "stdout",
     "output_type": "stream",
     "text": [
      "Hello World...\n"
     ]
    }
   ],
   "source": [
    "print('Hello World...')"
   ]
  },
  {
   "cell_type": "markdown",
   "id": "8f8b8fa1",
   "metadata": {},
   "source": [
    "# Introduction to Python\n",
    "This is a markdown cell.\n",
    "We can write meaningful text here that \n",
    "is formatted according to our need.\n",
    "\n",
    "## This can be a subsection.\n",
    "We can do the formatting.\n",
    "\n",
    "### LaTeX commands:\n",
    "1. For in-line use single dollar: $\\int_0^\\infty f(x) dx$\n",
    "2. For centering in own lines use double dollar: $$\\sum\\limits_{i=1}^\\infty \\frac{1}{{2}^{i}}$$"
   ]
  },
  {
   "cell_type": "markdown",
   "id": "444d2661",
   "metadata": {},
   "source": [
    "# Shortcuts\n",
    "1. Shift + Enter -- Run cell and move to next cell.\n",
    "2. Ctl + Enter -- Run cell and remain in the cell.\n",
    "3. Alt + Enter -- Run cell and insert new cell.\n",
    "4. Tab -- Suggestion.\n",
    "5. Shift + Tab -- Doc of a function."
   ]
  },
  {
   "cell_type": "code",
   "execution_count": 3,
   "id": "78953f33",
   "metadata": {},
   "outputs": [
    {
     "name": "stdout",
     "output_type": "stream",
     "text": [
      "five times a is:: 15 and three times a is:: 9\n"
     ]
    }
   ],
   "source": [
    "# THIS IS AN INLINE COMMENT\n",
    "a=3 # ASSIGN A VARIABLE a\n",
    "print('five times a is::',5*a,'and three times a is::',3*a)"
   ]
  },
  {
   "cell_type": "code",
   "execution_count": 4,
   "id": "bd66babb",
   "metadata": {
    "scrolled": false
   },
   "outputs": [
    {
     "name": "stdout",
     "output_type": "stream",
     "text": [
      "a is of type <class 'int'>\n",
      "b is of type <class 'float'>\n",
      "c is of type <class 'float'> with value 1.4285714285714286\n",
      "d is of type <class 'float'> with value 1.4285714285714286\n"
     ]
    }
   ],
   "source": [
    "# WE CAN INSPECT TYPES OF VARIABLES\n",
    "print('a is of type',type(a))\n",
    "b=2.1\n",
    "print('b is of type',type(b))\n",
    "c =float(a)/b\n",
    "print('c is of type',type(c),'with value',c)\n",
    "d=a/b\n",
    "print('d is of type',type(d),'with value',d)"
   ]
  },
  {
   "cell_type": "markdown",
   "id": "c1831c30",
   "metadata": {},
   "source": [
    "# Collections of variables:\n",
    "1. List -- ordered, indexed, changeable, allows duplicates\n",
    "2. Tuple -- ordered, indexed, not changeable, allows duplicates\n",
    "3. Set -- unordered, non-indexed, changeable, no duplicates\n",
    "4. Dictionary -- unordered, indexed by keys, changeable, no duplicate keys\n"
   ]
  },
  {
   "cell_type": "code",
   "execution_count": 5,
   "id": "fbe71dd3",
   "metadata": {
    "scrolled": true
   },
   "outputs": [
    {
     "name": "stdout",
     "output_type": "stream",
     "text": [
      "['Some String1', 2, 3.1, 'Some String2', True, [4, False, 'String inside']]\n",
      "Some String1\n",
      "2\n",
      "[4, False, 'String inside']\n",
      "True\n",
      "List inside a list False\n",
      "Length of list is 6\n",
      "Changed list is ['Some String1', 2, 4.1, 'Some String2', True, [4, False, 'String inside']]\n",
      "appended list is ['Some String1', 2, 4.1, 'Some String2', True, [4, False, 'String inside'], 'append to last'] with length 7\n",
      "after pop from index ['Some String1', 2, 4.1, 'Some String2', True, 'append to last']\n",
      "[10, 10, 10, 10, 10]\n",
      "list2 ['Some String1', 2, 4.1, 'Some String2', True, 'append to last']\n",
      "simple_list ['Some String1', 2, 4.1, 'Some String2', True, 'append to last']\n",
      "list2 after change ['Some String1', 2, 5, 'Some String2', True, 'append to last']\n",
      "simple_list change ['Some String1', 2, 5, 'Some String2', True, 'append to last']\n",
      "list3 ['Some String1', 2, 5, 'Some String2', True, 'append to last']\n",
      "simple_list ['Some String1', 2, 5, 'Some String2', True, 'append to last']\n",
      "list3 after change ['Some String1', 2, 7, 'Some String2', True, 'append to last']\n",
      "simple_list change ['Some String1', 2, 5, 'Some String2', True, 'append to last']\n"
     ]
    }
   ],
   "source": [
    "# LIST\n",
    "simple_list = ['Some String1',2,3.1,\"Some String2\",True,[4,False,'String inside']]\n",
    "print(simple_list)\n",
    "\n",
    "# indexed & ordered\n",
    "print(simple_list[0])\n",
    "print(simple_list[1])\n",
    "print(simple_list[-1]) # REVERSE TRAVERSAL -- Last index\n",
    "print(simple_list[-2])\n",
    "print('List inside a list',simple_list[5][1]) # list inside a list\n",
    "print('Length of list is',len(simple_list))\n",
    "\n",
    "# changeable\n",
    "simple_list[2] = 4.1\n",
    "print('Changed list is',simple_list)\n",
    "simple_list.append('append to last')\n",
    "print('appended list is',simple_list,'with length',len(simple_list))\n",
    "simple_list.pop(-2)\n",
    "print('after pop from index',simple_list)\n",
    "\n",
    "# initialise with same values\n",
    "repeated_values_list = [10]*5\n",
    "print(repeated_values_list)\n",
    "\n",
    "# copying a list\n",
    "list2 = simple_list # this way copies the list, but both variables reference the same object, so any change in either affects both\n",
    "print('list2',list2)\n",
    "print('simple_list',simple_list)\n",
    "list2[2]=5\n",
    "print('list2 after change',list2)\n",
    "print('simple_list change',simple_list)\n",
    "\n",
    "list3 = simple_list.copy() # this way copies the list into new variable, so individual entities\n",
    "print('list3',list3)\n",
    "print('simple_list',simple_list)\n",
    "list3[2]=7\n",
    "print('list3 after change',list3)\n",
    "print('simple_list change',simple_list)"
   ]
  },
  {
   "cell_type": "code",
   "execution_count": 6,
   "id": "c2159182",
   "metadata": {
    "scrolled": true
   },
   "outputs": [
    {
     "name": "stdout",
     "output_type": "stream",
     "text": [
      "(12, 'Some String 1', True, 2.1)\n",
      "True\n",
      "2.1\n",
      "(12, 1, True, 2.1)\n"
     ]
    }
   ],
   "source": [
    "# TUPLE\n",
    "simple_tuple = (12,'Some String 1', True, 2.1)\n",
    "print(simple_tuple)\n",
    "\n",
    "# indexed & ordered\n",
    "print(simple_tuple[2])\n",
    "print(simple_tuple[-1])\n",
    "\n",
    "# unchangeable\n",
    "# simple_tuple[1] = 1 # this line will give error\n",
    "# print(simple_tuple)\n",
    "# workaround\n",
    "dummy_list = list(simple_tuple)\n",
    "dummy_list[1]=1\n",
    "simple_tuple = tuple(dummy_list)\n",
    "print(simple_tuple)"
   ]
  },
  {
   "cell_type": "code",
   "execution_count": 7,
   "id": "ac992d80",
   "metadata": {
    "scrolled": true
   },
   "outputs": [
    {
     "name": "stdout",
     "output_type": "stream",
     "text": [
      "{'-2', 'Some String 1', 11, -2}\n",
      "True\n",
      "{11, 'Some String 1', 'new string added', '-2', -2}\n",
      "{11, 'Some String 1', 'new string added', -2}\n"
     ]
    }
   ],
   "source": [
    "# SET\n",
    "simple_set = {11, -2, 'Some String 1', '-2', -2}\n",
    "print(simple_set) # without duplicates\n",
    "\n",
    "# unordered & non indexed\n",
    "# print(simple_set[1])  # this line gives error\n",
    "\n",
    "print(11 in simple_set) # if something is in set\n",
    "\n",
    "# add or remove from set\n",
    "simple_set.add('new string added')\n",
    "print(simple_set)\n",
    "simple_set.remove('-2')\n",
    "print(simple_set)"
   ]
  },
  {
   "cell_type": "code",
   "execution_count": 8,
   "id": "6d382027",
   "metadata": {},
   "outputs": [
    {
     "name": "stdout",
     "output_type": "stream",
     "text": [
      "{'brand': 'Apple', 'cost': 10.1, 'refurbished': True}\n",
      "10.1\n",
      "{'brand': 'Apple', 'cost': 90, 'refurbished': True}\n",
      "{'brand': 'Apple', 'cost': 90, 'refurbished': True, 'new key': 'New value'}\n"
     ]
    }
   ],
   "source": [
    "# DICTIONARY\n",
    "simple_dict = {\n",
    "    \"brand\" : 'Apple',\n",
    "    'cost' : 10.1,\n",
    "    \"refurbished\" : True\n",
    "}\n",
    "print(simple_dict)\n",
    "print(simple_dict[\"cost\"]) # accessing a value by key\n",
    "\n",
    "# changeable\n",
    "simple_dict['cost'] = 90\n",
    "print(simple_dict)\n",
    "\n",
    "simple_dict['new key']= 'New value' # if key not present , it will be added\n",
    "print(simple_dict)"
   ]
  },
  {
   "cell_type": "markdown",
   "id": "1cded807",
   "metadata": {},
   "source": [
    "# Acessing data in lists with slicing\n",
    "##### some_list[inclusive_index:non_inclusive_index]\n",
    "\n",
    "### Slicing is from left to right always, so the 'value' of first index should always be greater than 'value' of second index"
   ]
  },
  {
   "cell_type": "code",
   "execution_count": 9,
   "id": "f224fde6",
   "metadata": {},
   "outputs": [
    {
     "name": "stdout",
     "output_type": "stream",
     "text": [
      "[2, 7, 3]\n",
      "[2, 7, 3, 66, 1923, 11]\n",
      "[3, 66, 1923]\n"
     ]
    }
   ],
   "source": [
    "simple_list = [1,5,2,7,3,66,1923,11]\n",
    "print(simple_list[2:5])\n",
    "print(simple_list[2:]) # from index to all indexes\n",
    "print(simple_list[-4:-1])"
   ]
  }
 ],
 "metadata": {
  "kernelspec": {
   "display_name": "Python 3",
   "language": "python",
   "name": "python3"
  },
  "language_info": {
   "codemirror_mode": {
    "name": "ipython",
    "version": 3
   },
   "file_extension": ".py",
   "mimetype": "text/x-python",
   "name": "python",
   "nbconvert_exporter": "python",
   "pygments_lexer": "ipython3",
   "version": "3.8.8"
  }
 },
 "nbformat": 4,
 "nbformat_minor": 5
}
