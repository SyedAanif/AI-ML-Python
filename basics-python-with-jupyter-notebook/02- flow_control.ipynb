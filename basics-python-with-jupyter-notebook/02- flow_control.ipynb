{
 "cells": [
  {
   "cell_type": "markdown",
   "id": "4b26ad11",
   "metadata": {},
   "source": [
    "# Flow Control\n",
    "1. Loops -- for, while\n",
    "2. Conditional statements -- if-elif-else"
   ]
  },
  {
   "cell_type": "markdown",
   "id": "8f10c3ca",
   "metadata": {},
   "source": [
    "# Loops\n",
    "Perform a command multiple times"
   ]
  },
  {
   "cell_type": "code",
   "execution_count": 1,
   "id": "b06bea76",
   "metadata": {},
   "outputs": [
    {
     "name": "stdout",
     "output_type": "stream",
     "text": [
      "0\n",
      "1\n",
      "2\n",
      "3\n",
      "4\n",
      "5\n",
      "6\n",
      "2143\n",
      "123\n",
      "7834\n",
      "outside loop\n",
      "The loop cycled 10 times\n"
     ]
    }
   ],
   "source": [
    "# for loops\n",
    "counter = 0\n",
    "simple_list = [0,1,2,3,4,5,6,2143,123,7834]\n",
    "for i in simple_list: # i takes value inside the aggregated variable\n",
    "    print(i)\n",
    "    counter += 1\n",
    "print('outside loop')\n",
    "print('The loop cycled',counter,'times')"
   ]
  },
  {
   "cell_type": "code",
   "execution_count": 2,
   "id": "7e2a3099",
   "metadata": {},
   "outputs": [
    {
     "name": "stdout",
     "output_type": "stream",
     "text": [
      "4\n",
      "5\n",
      "6\n",
      "Outside j loop\n",
      "8\n",
      "10\n",
      "12\n",
      "Outside j loop\n",
      "12\n",
      "15\n",
      "18\n",
      "Outside j loop\n",
      "outside i loop\n"
     ]
    }
   ],
   "source": [
    "# loop wthin a loop with sliced lists\n",
    "for i in simple_list[1:4]:\n",
    "    for j in simple_list[4:7]:\n",
    "        print(i*j)\n",
    "    print('Outside j loop')\n",
    "print('outside i loop')"
   ]
  },
  {
   "cell_type": "code",
   "execution_count": 3,
   "id": "09f55afe",
   "metadata": {},
   "outputs": [
    {
     "name": "stdout",
     "output_type": "stream",
     "text": [
      "range(0, 6)\n",
      "0\n",
      "1\n",
      "2\n",
      "3\n",
      "4\n",
      "5\n",
      "4\n",
      "5\n",
      "6\n",
      "7\n",
      "8\n",
      "9\n",
      "4\n",
      "6\n",
      "8\n",
      "10\n"
     ]
    }
   ],
   "source": [
    "# range of values -- range(inclusive, exclusive,increment)\n",
    "print(range(0,6))  # range(6) -- 0,1,2,3,4,5\n",
    "for i in range(6):\n",
    "    print(i)\n",
    "\n",
    "# can specify the range\n",
    "for i in range(4,10):\n",
    "    print(i)\n",
    "    \n",
    "# increment the values\n",
    "for i in range(4,12,2):\n",
    "    print(i)"
   ]
  },
  {
   "cell_type": "code",
   "execution_count": 4,
   "id": "7c28fc28",
   "metadata": {},
   "outputs": [
    {
     "data": {
      "text/plain": [
       "[1, 4, 7]"
      ]
     },
     "execution_count": 4,
     "metadata": {},
     "output_type": "execute_result"
    }
   ],
   "source": [
    "# form a list from range\n",
    "list(range(1,10,3))"
   ]
  },
  {
   "cell_type": "code",
   "execution_count": 5,
   "id": "2ef7c180",
   "metadata": {},
   "outputs": [
    {
     "name": "stdout",
     "output_type": "stream",
     "text": [
      "4\n",
      "5\n",
      "6\n",
      "7\n",
      "8\n",
      "9\n",
      "Outside of loop\n"
     ]
    }
   ],
   "source": [
    "# while loops\n",
    "i=4\n",
    "while i<10:\n",
    "    print(i)\n",
    "    i+=1\n",
    "print('Outside of loop')"
   ]
  },
  {
   "cell_type": "markdown",
   "id": "307a1486",
   "metadata": {},
   "source": [
    "# Conditionals\n",
    "\n",
    "1. if\n",
    "2. if-else\n",
    "3. if-elif\n",
    "4. if-elif-else"
   ]
  },
  {
   "cell_type": "code",
   "execution_count": 6,
   "id": "4086708c",
   "metadata": {},
   "outputs": [
    {
     "name": "stdout",
     "output_type": "stream",
     "text": [
      "i is greater than 10\n"
     ]
    }
   ],
   "source": [
    "i = 30\n",
    "if i>10:\n",
    "    print('i is greater than 10')"
   ]
  },
  {
   "cell_type": "code",
   "execution_count": 7,
   "id": "ddd28e2b",
   "metadata": {},
   "outputs": [
    {
     "name": "stdout",
     "output_type": "stream",
     "text": [
      "i less than or equal to 10\n"
     ]
    }
   ],
   "source": [
    "i=10\n",
    "if i>10:\n",
    "    print('i is greater than 10')\n",
    "else:\n",
    "    print('i less than or equal to 10')"
   ]
  },
  {
   "cell_type": "code",
   "execution_count": 8,
   "id": "dd96a54b",
   "metadata": {},
   "outputs": [
    {
     "name": "stdout",
     "output_type": "stream",
     "text": [
      "i is less than 10\n"
     ]
    }
   ],
   "source": [
    "i=9\n",
    "if i>10:\n",
    "    print('i is greater than 10')\n",
    "elif i<10:\n",
    "    print('i is less than 10')\n",
    "elif i==10:\n",
    "    print('i is equal to 10')"
   ]
  },
  {
   "cell_type": "code",
   "execution_count": 9,
   "id": "50ffe785",
   "metadata": {},
   "outputs": [
    {
     "name": "stdout",
     "output_type": "stream",
     "text": [
      "i equal to 10\n"
     ]
    }
   ],
   "source": [
    "i=10\n",
    "if i>10:\n",
    "    print('i is greater than 10')\n",
    "elif i<10:\n",
    "    print('i is less than 10')\n",
    "else:\n",
    "    print('i equal to 10')"
   ]
  }
 ],
 "metadata": {
  "kernelspec": {
   "display_name": "Python 3",
   "language": "python",
   "name": "python3"
  },
  "language_info": {
   "codemirror_mode": {
    "name": "ipython",
    "version": 3
   },
   "file_extension": ".py",
   "mimetype": "text/x-python",
   "name": "python",
   "nbconvert_exporter": "python",
   "pygments_lexer": "ipython3",
   "version": "3.8.8"
  }
 },
 "nbformat": 4,
 "nbformat_minor": 5
}
