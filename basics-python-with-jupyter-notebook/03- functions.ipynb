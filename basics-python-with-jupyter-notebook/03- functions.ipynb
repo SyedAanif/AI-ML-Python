{
 "cells": [
  {
   "cell_type": "markdown",
   "id": "46c76545",
   "metadata": {},
   "source": [
    "# User defined functions\n",
    "\n",
    "Function to put some computation which can be re-used in multiple scenarios.\n",
    "\n",
    "1. defined functions(def)\n",
    "2. lambda functions(inline)"
   ]
  },
  {
   "cell_type": "code",
   "execution_count": 1,
   "id": "c19385d9",
   "metadata": {},
   "outputs": [
    {
     "name": "stdout",
     "output_type": "stream",
     "text": [
      "32\n",
      "this is the documentation \n",
      "    of the function in triple double quotes,\n",
      "    whic squares the input and adds seven\n",
      "    x^2+7\n"
     ]
    }
   ],
   "source": [
    "# define a function that takes input, squares it, adds 7, then returns an answer\n",
    "def x2p7(x):\n",
    "    \"\"\"this is the documentation \n",
    "    of the function in triple double quotes,\n",
    "    whic squares the input and adds seven\n",
    "    x^2+7\"\"\"\n",
    "    y = x**2\n",
    "    z = y+7\n",
    "    return z\n",
    "print(x2p7(5))\n",
    "print(x2p7.__doc__)"
   ]
  },
  {
   "cell_type": "code",
   "execution_count": 2,
   "id": "4484a31e",
   "metadata": {},
   "outputs": [
    {
     "data": {
      "text/plain": [
       "<function __main__.x2p7(x)>"
      ]
     },
     "execution_count": 2,
     "metadata": {},
     "output_type": "execute_result"
    }
   ],
   "source": [
    "# if our function has documentation, can access by shift + tab\n",
    "x2p7"
   ]
  },
  {
   "cell_type": "code",
   "execution_count": 3,
   "id": "2dad3cb9",
   "metadata": {},
   "outputs": [
    {
     "name": "stdout",
     "output_type": "stream",
     "text": [
      "[4, 5, 6, 8, 10, 12, 12, 15, 18]\n"
     ]
    }
   ],
   "source": [
    "# complicated functions\n",
    "def complicated_function(x,y):\n",
    "    len_x = len(x)\n",
    "    len_y = len(y)\n",
    "    z = [0]*(len_x*len_y)\n",
    "    index=0\n",
    "    for i in x:\n",
    "        for j in y:\n",
    "            z[index]=i*j\n",
    "            index+=1\n",
    "    return z\n",
    "\n",
    "print(complicated_function([1,2,3],[4,5,6]))"
   ]
  },
  {
   "cell_type": "code",
   "execution_count": 4,
   "id": "90c5b9b4",
   "metadata": {},
   "outputs": [],
   "source": [
    "# scope\n",
    "# print(len_x) this will give error because the variable has local scope inside the function"
   ]
  },
  {
   "cell_type": "code",
   "execution_count": 5,
   "id": "23ade102",
   "metadata": {},
   "outputs": [
    {
     "name": "stdout",
     "output_type": "stream",
     "text": [
      "213\n"
     ]
    }
   ],
   "source": [
    "# variable defined inside a function has local scope i.e; cannot be accessed outside,\n",
    "# but we can use variables outside a function inside the function i.e; global scope\n",
    "outside_var =213\n",
    "def use_outside_var():\n",
    "    return outside_var\n",
    "\n",
    "print(use_outside_var())"
   ]
  },
  {
   "cell_type": "code",
   "execution_count": 6,
   "id": "a620063e",
   "metadata": {},
   "outputs": [
    {
     "name": "stdout",
     "output_type": "stream",
     "text": [
      "5\n"
     ]
    }
   ],
   "source": [
    "# we can change the scope by using global with a variable, then initialising it\n",
    "def test_global_var():\n",
    "    global x\n",
    "    x = 5\n",
    "\n",
    "test_global_var()  # run function first to initialise in global space\n",
    "print(x)"
   ]
  },
  {
   "cell_type": "code",
   "execution_count": 7,
   "id": "654748ba",
   "metadata": {},
   "outputs": [
    {
     "name": "stdout",
     "output_type": "stream",
     "text": [
      "32\n"
     ]
    }
   ],
   "source": [
    "# we can define simple functions inline using lambda functions\n",
    "x2p7v2 = lambda x: (x**2)+7\n",
    "print(x2p7v2(5))"
   ]
  },
  {
   "cell_type": "code",
   "execution_count": 8,
   "id": "90444a43",
   "metadata": {},
   "outputs": [
    {
     "name": "stdout",
     "output_type": "stream",
     "text": [
      "9.5\n"
     ]
    }
   ],
   "source": [
    "# multiple inputs in lambda\n",
    "another_lambda = lambda x,y,z: x*2+y*3+z/2\n",
    "print(another_lambda(1,2,3))"
   ]
  }
 ],
 "metadata": {
  "kernelspec": {
   "display_name": "Python 3",
   "language": "python",
   "name": "python3"
  },
  "language_info": {
   "codemirror_mode": {
    "name": "ipython",
    "version": 3
   },
   "file_extension": ".py",
   "mimetype": "text/x-python",
   "name": "python",
   "nbconvert_exporter": "python",
   "pygments_lexer": "ipython3",
   "version": "3.8.8"
  }
 },
 "nbformat": 4,
 "nbformat_minor": 5
}
