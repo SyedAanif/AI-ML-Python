{
 "cells": [
  {
   "cell_type": "markdown",
   "id": "a6d1473c",
   "metadata": {},
   "source": [
    "In this notebook we will try to understand few basics of **Q-Learning**.\n",
    "\n",
    "**Q-Learning** is a `model-free`, `off-policy` `reinforcement learning(RL)` technique."
   ]
  },
  {
   "cell_type": "code",
   "execution_count": 39,
   "id": "601098fa",
   "metadata": {},
   "outputs": [],
   "source": [
    "import warnings\n",
    "warnings.filterwarnings('ignore')"
   ]
  },
  {
   "cell_type": "code",
   "execution_count": 1,
   "id": "39e068ab",
   "metadata": {},
   "outputs": [
    {
     "name": "stdout",
     "output_type": "stream",
     "text": [
      "Collecting gym\n",
      "  Downloading gym-0.23.1.tar.gz (626 kB)\n",
      "  Installing build dependencies: started\n",
      "  Installing build dependencies: finished with status 'done'\n",
      "  Getting requirements to build wheel: started\n",
      "  Getting requirements to build wheel: finished with status 'done'\n",
      "    Preparing wheel metadata: started\n",
      "    Preparing wheel metadata: finished with status 'done'\n",
      "Collecting gym-notices>=0.0.4\n",
      "  Downloading gym_notices-0.0.6-py3-none-any.whl (2.7 kB)\n",
      "Requirement already satisfied: importlib-metadata>=4.10.0 in c:\\users\\syeda\\anaconda3\\lib\\site-packages (from gym) (4.10.0)\n",
      "Requirement already satisfied: numpy>=1.18.0 in c:\\users\\syeda\\anaconda3\\lib\\site-packages (from gym) (1.20.1)\n",
      "Requirement already satisfied: cloudpickle>=1.2.0 in c:\\users\\syeda\\anaconda3\\lib\\site-packages (from gym) (1.6.0)\n",
      "Requirement already satisfied: zipp>=0.5 in c:\\users\\syeda\\anaconda3\\lib\\site-packages (from importlib-metadata>=4.10.0->gym) (3.4.1)\n",
      "Building wheels for collected packages: gym\n",
      "  Building wheel for gym (PEP 517): started\n",
      "  Building wheel for gym (PEP 517): finished with status 'done'\n",
      "  Created wheel for gym: filename=gym-0.23.1-py3-none-any.whl size=701377 sha256=4277bb28a628bec136c06c1ce26f17b796f667ed190fbf69d78804fa4b473cbf\n",
      "  Stored in directory: c:\\users\\syeda\\appdata\\local\\pip\\cache\\wheels\\78\\28\\77\\b0c74e80a2a4faae0161d5c53bc4f8e436e77aedc79136ee13\n",
      "Successfully built gym\n",
      "Installing collected packages: gym-notices, gym\n",
      "Successfully installed gym-0.23.1 gym-notices-0.0.6\n"
     ]
    }
   ],
   "source": [
    "# install OpenGymAI module\n",
    "!pip install gym"
   ]
  },
  {
   "cell_type": "code",
   "execution_count": 4,
   "id": "081b9d0f",
   "metadata": {},
   "outputs": [
    {
     "name": "stdout",
     "output_type": "stream",
     "text": [
      "Collecting pygame\n",
      "  Downloading pygame-2.1.2-cp38-cp38-win_amd64.whl (8.4 MB)\n",
      "Installing collected packages: pygame\n",
      "Successfully installed pygame-2.1.2\n"
     ]
    }
   ],
   "source": [
    "!pip install pygame"
   ]
  },
  {
   "cell_type": "code",
   "execution_count": 15,
   "id": "baa2c784",
   "metadata": {},
   "outputs": [],
   "source": [
    "import gym # toolkit which provides environment to test RL algorithms "
   ]
  },
  {
   "cell_type": "code",
   "execution_count": 29,
   "id": "8649fde7",
   "metadata": {},
   "outputs": [],
   "source": [
    "env = gym.make('MountainCar-v0') # initialise the environment"
   ]
  },
  {
   "cell_type": "code",
   "execution_count": 17,
   "id": "da20e94e",
   "metadata": {},
   "outputs": [
    {
     "data": {
      "text/plain": [
       "array([-0.565038,  0.      ], dtype=float32)"
      ]
     },
     "execution_count": 17,
     "metadata": {},
     "output_type": "execute_result"
    }
   ],
   "source": [
    "env.reset() # reset the environment "
   ]
  },
  {
   "cell_type": "code",
   "execution_count": 12,
   "id": "967dee58",
   "metadata": {},
   "outputs": [],
   "source": [
    "# env.render() # render the environment\n",
    "# env.close() # close the environment"
   ]
  },
  {
   "cell_type": "code",
   "execution_count": 18,
   "id": "bd81e36c",
   "metadata": {},
   "outputs": [
    {
     "data": {
      "text/plain": [
       "Discrete(3)"
      ]
     },
     "execution_count": 18,
     "metadata": {},
     "output_type": "execute_result"
    }
   ],
   "source": [
    "# the actions that the agent in the environment can take\n",
    "env.action_space # total action space"
   ]
  },
  {
   "cell_type": "code",
   "execution_count": 19,
   "id": "f5b43f71",
   "metadata": {},
   "outputs": [
    {
     "data": {
      "text/plain": [
       "3"
      ]
     },
     "execution_count": 19,
     "metadata": {},
     "output_type": "execute_result"
    }
   ],
   "source": [
    "# as per the description the car(agent) can do following actions in step:\n",
    "# move left - 0\n",
    "# stand still - 1\n",
    "# move right - 2\n",
    "env.action_space.n"
   ]
  },
  {
   "cell_type": "code",
   "execution_count": 20,
   "id": "17e9d660",
   "metadata": {},
   "outputs": [
    {
     "data": {
      "text/plain": [
       "Box([-1.2  -0.07], [0.6  0.07], (2,), float32)"
      ]
     },
     "execution_count": 20,
     "metadata": {},
     "output_type": "execute_result"
    }
   ],
   "source": [
    "# the total observations' range of the agent fromlow to high\n",
    "# the observations are [position along x-axis, velocity]\n",
    "env.observation_space"
   ]
  },
  {
   "cell_type": "code",
   "execution_count": 21,
   "id": "fcb0e0a1",
   "metadata": {},
   "outputs": [
    {
     "data": {
      "text/plain": [
       "array([-1.2 , -0.07], dtype=float32)"
      ]
     },
     "execution_count": 21,
     "metadata": {},
     "output_type": "execute_result"
    }
   ],
   "source": [
    "# low observation space\n",
    "env.observation_space.low"
   ]
  },
  {
   "cell_type": "code",
   "execution_count": 22,
   "id": "415d46e8",
   "metadata": {},
   "outputs": [
    {
     "data": {
      "text/plain": [
       "array([0.6 , 0.07], dtype=float32)"
      ]
     },
     "execution_count": 22,
     "metadata": {},
     "output_type": "execute_result"
    }
   ],
   "source": [
    "# high observation space\n",
    "env.observation_space.high"
   ]
  },
  {
   "cell_type": "code",
   "execution_count": 30,
   "id": "0010ce85",
   "metadata": {},
   "outputs": [
    {
     "name": "stdout",
     "output_type": "stream",
     "text": [
      "-1.0 [-0.49461326  0.00078878] False\n",
      "-1.0 [-0.4930416   0.00157166] False\n",
      "-1.0 [-0.4906988  0.0023428] False\n",
      "-1.0 [-0.48760235  0.00309645] False\n",
      "-1.0 [-0.48377535  0.003827  ] False\n",
      "-1.0 [-0.47924632  0.00452904] False\n",
      "-1.0 [-0.47404894  0.00519737] False\n",
      "-1.0 [-0.4682218   0.00582712] False\n",
      "-1.0 [-0.46180812  0.0064137 ] False\n",
      "-1.0 [-0.4548552   0.00695292] False\n",
      "-1.0 [-0.44741422  0.00744099] False\n",
      "-1.0 [-0.43953964  0.00787457] False\n",
      "-1.0 [-0.43128887  0.00825078] False\n",
      "-1.0 [-0.4227216   0.00856727] False\n",
      "-1.0 [-0.4138994   0.00882219] False\n",
      "-1.0 [-0.40488517  0.00901422] False\n",
      "-1.0 [-0.39574262  0.00914257] False\n",
      "-1.0 [-0.3865356   0.00920699] False\n",
      "-1.0 [-0.3773279   0.00920774] False\n",
      "-1.0 [-0.36818233  0.00914558] False\n",
      "-1.0 [-0.3591606   0.00902173] False\n",
      "-1.0 [-0.35032272  0.00883786] False\n",
      "-1.0 [-0.3417267   0.00859603] False\n",
      "-1.0 [-0.33342803  0.00829867] False\n",
      "-1.0 [-0.32547954  0.00794851] False\n",
      "-1.0 [-0.31793097  0.00754857] False\n",
      "-1.0 [-0.31082886  0.00710208] False\n",
      "-1.0 [-0.30421638  0.00661249] False\n",
      "-1.0 [-0.29813302  0.00608336] False\n",
      "-1.0 [-0.29261464  0.00551839] False\n",
      "-1.0 [-0.2876933   0.00492136] False\n",
      "-1.0 [-0.28339717  0.00429611] False\n",
      "-1.0 [-0.27975067  0.00364651] False\n",
      "-1.0 [-0.2767742   0.00297646] False\n",
      "-1.0 [-0.27448434  0.00228987] False\n",
      "-1.0 [-0.2728937   0.00159064] False\n",
      "-1.0 [-0.272011    0.00088267] False\n",
      "-1.0 [-2.7184114e-01  1.6988267e-04] False\n",
      "-1.0 [-0.27238497 -0.00054384] False\n",
      "-1.0 [-0.27363956 -0.00125458] False\n",
      "-1.0 [-0.27559802 -0.00195846] False\n",
      "-1.0 [-0.27824956 -0.00265155] False\n",
      "-1.0 [-0.28157952 -0.00332996] False\n",
      "-1.0 [-0.2855693  -0.00398978] False\n",
      "-1.0 [-0.29019642 -0.0046271 ] False\n",
      "-1.0 [-0.29543445 -0.00523804] False\n",
      "-1.0 [-0.30125317 -0.00581874] False\n",
      "-1.0 [-0.3076186  -0.00636539] False\n",
      "-1.0 [-0.31449282 -0.00687426] False\n",
      "-1.0 [-0.32183453 -0.00734169] False\n",
      "-1.0 [-0.32959872 -0.0077642 ] False\n",
      "-1.0 [-0.33773717 -0.00813844] False\n",
      "-1.0 [-0.34619847 -0.00846129] False\n",
      "-1.0 [-0.3549283  -0.00872986] False\n",
      "-1.0 [-0.3638699 -0.0089416] False\n",
      "-1.0 [-0.37296414 -0.00909424] False\n",
      "-1.0 [-0.38215008 -0.00918594] False\n",
      "-1.0 [-0.39136535 -0.00921525] False\n",
      "-1.0 [-0.40054655 -0.00918119] False\n",
      "-1.0 [-0.4096298  -0.00908326] False\n",
      "-1.0 [-0.41855127 -0.00892148] False\n",
      "-1.0 [-0.42724764 -0.00869635] False\n",
      "-1.0 [-0.4356566  -0.00840897] False\n",
      "-1.0 [-0.4437175  -0.00806091] False\n",
      "-1.0 [-0.45137182 -0.0076543 ] False\n",
      "-1.0 [-0.4585636  -0.00719177] False\n",
      "-1.0 [-0.46524003 -0.00667645] False\n",
      "-1.0 [-0.47135195 -0.00611191] False\n",
      "-1.0 [-0.4768541  -0.00550216] False\n",
      "-1.0 [-0.4817057  -0.00485159] False\n",
      "-1.0 [-0.48587066 -0.00416496] False\n",
      "-1.0 [-0.48931798 -0.00344732] False\n",
      "-1.0 [-0.49202195 -0.00270398] False\n",
      "-1.0 [-0.4939624  -0.00194045] False\n",
      "-1.0 [-0.49512482 -0.00116243] False\n",
      "-1.0 [-4.9550053e-01 -3.7572236e-04] False\n",
      "-1.0 [-4.9508676e-01  4.1379040e-04] False\n",
      "-1.0 [-0.49388656  0.00120021] False\n",
      "-1.0 [-0.49190888  0.00197766] False\n",
      "-1.0 [-0.48916852  0.00274035] False\n",
      "-1.0 [-0.48568594  0.00348258] False\n",
      "-1.0 [-0.4814871   0.00419885] False\n",
      "-1.0 [-0.47660327  0.00488385] False\n",
      "-1.0 [-0.4710707   0.00553255] False\n",
      "-1.0 [-0.4649305   0.00614022] False\n",
      "-1.0 [-0.45822802  0.00670247] False\n",
      "-1.0 [-0.4510127   0.00721533] False\n",
      "-1.0 [-0.44333747  0.00767523] False\n",
      "-1.0 [-0.4352584   0.00807907] False\n",
      "-1.0 [-0.42683417  0.00842424] False\n",
      "-1.0 [-0.4181255   0.00870866] False\n",
      "-1.0 [-0.40919477  0.00893074] False\n",
      "-1.0 [-0.4001053   0.00908946] False\n",
      "-1.0 [-0.390921   0.0091843] False\n",
      "-1.0 [-0.38170573  0.00921528] False\n",
      "-1.0 [-0.37252277  0.00918294] False\n",
      "-1.0 [-0.36343452  0.00908826] False\n",
      "-1.0 [-0.3545018   0.00893272] False\n",
      "-1.0 [-0.34578362  0.00871819] False\n",
      "-1.0 [-0.3373367   0.00844693] False\n",
      "-1.0 [-0.32921514  0.00812154] False\n",
      "-1.0 [-0.32147023  0.0077449 ] False\n",
      "-1.0 [-0.3141501   0.00732015] False\n",
      "-1.0 [-0.30729946  0.00685063] False\n",
      "-1.0 [-0.30095962  0.00633986] False\n",
      "-1.0 [-0.29516813  0.00579147] False\n",
      "-1.0 [-0.2899589   0.00520923] False\n",
      "-1.0 [-0.28536198  0.00459692] False\n",
      "-1.0 [-0.28140354  0.00395843] False\n",
      "-1.0 [-0.2781059   0.00329762] False\n",
      "-1.0 [-0.2754875   0.00261842] False\n",
      "-1.0 [-0.2735628   0.00192471] False\n",
      "-1.0 [-0.27234238  0.00122042] False\n",
      "-1.0 [-0.27183294  0.00050944] False\n",
      "-1.0 [-2.7203727e-01 -2.0432535e-04] False\n",
      "-1.0 [-0.27295426 -0.00091697] False\n",
      "-1.0 [-0.27457884 -0.0016246 ] False\n",
      "-1.0 [-0.27690217 -0.00232331] False\n",
      "-1.0 [-0.27991137 -0.0030092 ] False\n",
      "-1.0 [-0.28358972 -0.00367835] False\n",
      "-1.0 [-0.28791657 -0.00432687] False\n",
      "-1.0 [-0.29286742 -0.00495084] False\n",
      "-1.0 [-0.29841384 -0.00554641] False\n",
      "-1.0 [-0.30452356 -0.00610974] False\n",
      "-1.0 [-0.31116062 -0.00663705] False\n",
      "-1.0 [-0.31828526 -0.00712464] False\n",
      "-1.0 [-0.3258542  -0.00756896] False\n",
      "-1.0 [-0.3338208  -0.00796657] False\n",
      "-1.0 [-0.34213504 -0.00831425] False\n",
      "-1.0 [-0.35074404 -0.00860899] False\n",
      "-1.0 [-0.3595921  -0.00884808] False\n",
      "-1.0 [-0.3686212 -0.0090291] False\n",
      "-1.0 [-0.3777712 -0.00915  ] False\n",
      "-1.0 [-0.38698035 -0.00920915] False\n",
      "-1.0 [-0.39618573 -0.00920535] False\n",
      "-1.0 [-0.40532357 -0.00913784] False\n",
      "-1.0 [-0.41432998 -0.00900641] False\n",
      "-1.0 [-0.4231413  -0.00881133] False\n",
      "-1.0 [-0.4316947  -0.00855341] False\n",
      "-1.0 [-0.43992868 -0.00823399] False\n",
      "-1.0 [-0.44778362 -0.00785494] False\n",
      "-1.0 [-0.45520228 -0.00741867] False\n",
      "-1.0 [-0.46213034 -0.00692805] False\n",
      "-1.0 [-0.4685168  -0.00638645] False\n",
      "-1.0 [-0.47431448 -0.00579769] False\n",
      "-1.0 [-0.47948048 -0.00516598] False\n",
      "-1.0 [-0.48397636 -0.0044959 ] False\n",
      "-1.0 [-0.48776874 -0.00379237] False\n",
      "-1.0 [-0.49082932 -0.00306058] False\n",
      "-1.0 [-0.49313524 -0.00230595] False\n",
      "-1.0 [-0.49466938 -0.00153411] False\n",
      "-1.0 [-0.4954202  -0.00075081] False\n",
      "-1.0 [-4.9538207e-01  3.8103564e-05] False\n",
      "-1.0 [-0.49455535  0.00082673] False\n",
      "-1.0 [-0.49294615  0.00160918] False\n",
      "-1.0 [-0.49056655  0.00237961] False\n",
      "-1.0 [-0.48743427  0.00313227] False\n",
      "-1.0 [-0.48357272  0.00386157] False\n",
      "-1.0 [-0.4790106  0.0045621] False\n",
      "-1.0 [-0.4737819   0.00522868] False\n",
      "-1.0 [-0.4679255   0.00585645] False\n",
      "-1.0 [-0.46148464  0.00644083] False\n",
      "-1.0 [-0.454507    0.00697767] False\n",
      "-1.0 [-0.4470438   0.00746318] False\n",
      "-1.0 [-0.43914974  0.00789405] False\n",
      "-1.0 [-0.4308823   0.00826744] False\n",
      "-1.0 [-0.4223013  0.008581 ] False\n",
      "-1.0 [-0.4134684   0.00883291] False\n",
      "-1.0 [-0.4044465   0.00902188] False\n",
      "-1.0 [-0.39529938  0.00914714] False\n",
      "-1.0 [-0.3860909   0.00920848] False\n",
      "-1.0 [-0.37688473  0.00920617] False\n",
      "-1.0 [-0.3677437  0.009141 ] False\n",
      "-1.0 [-0.35872948  0.00901422] False\n",
      "-1.0 [-0.349902   0.0088275] False\n",
      "-1.0 [-0.34131905  0.00858294] False\n",
      "-1.0 [-0.3330361   0.00828296] False\n",
      "-1.0 [-0.32510576  0.00793033] False\n",
      "-1.0 [-0.3175777   0.00752807] False\n",
      "-1.0 [-0.31049827  0.00707942] False\n",
      "-1.0 [-0.30391043  0.00658784] False\n",
      "-1.0 [-0.29785353  0.00605689] False\n",
      "-1.0 [-0.29236326  0.00549029] False\n",
      "-1.0 [-0.28747144  0.00489181] False\n",
      "-1.0 [-0.28320614  0.00426529] False\n",
      "-1.0 [-0.27959153  0.00361462] False\n",
      "-1.0 [-0.27664784  0.00294368] False\n",
      "-1.0 [-0.27439144  0.00225639] False\n",
      "-1.0 [-0.2728348   0.00155665] False\n",
      "-1.0 [-0.27198645  0.00084836] False\n",
      "-1.0 [-2.7185100e-01  1.3543782e-04] False\n",
      "-1.0 [-0.27242923 -0.00057823] False\n",
      "-1.0 [-0.27371797 -0.00128873] False\n",
      "-1.0 [-0.27571014 -0.00199217] False\n",
      "-1.0 [-0.2783948  -0.00268465] False\n",
      "-1.0 [-0.28175703 -0.00336225] False\n",
      "-1.0 [-0.2857781  -0.00402107] False\n",
      "-1.0 [-0.2904353  -0.00465721] False\n",
      "-1.0 [-0.2957021  -0.00526678] False\n",
      "-1.0 [-0.30154803 -0.00584593] True\n"
     ]
    }
   ],
   "source": [
    "env.reset()\n",
    "\n",
    "done = False\n",
    "while not done:\n",
    "    action = 2 # always go right\n",
    "    # every step for an action gives us:\n",
    "    # the new state of the agent\n",
    "    # the reard for taking the step\n",
    "    # whether the job is done or not, even if episodes/iterations exhaust\n",
    "    # miscellaneous pther attributes\n",
    "    new_state, reward, done, _ = env.step(action)\n",
    "    env.render()\n",
    "    print(reward, new_state, done)\n",
    "\n",
    "env.close()"
   ]
  },
  {
   "cell_type": "markdown",
   "id": "46d2104f",
   "metadata": {},
   "source": [
    "**Q-Learning** is based on updating `Q-values`in a `Q-table` which are the values per possible action per step for each combination of observation space."
   ]
  },
  {
   "cell_type": "markdown",
   "id": "acd8bee7",
   "metadata": {},
   "source": [
    "If we see from above `reward` is always **-1**. Once we accomplish the task we will get reward **0**.\n",
    "\n",
    "\n",
    "Also, the **state** of the agent is granular to 8 decimals. So if we take all the possible values for the combination of observation space samples the Q-table is going to be huge and less meaningful. So for this we take window size for a range of observation values."
   ]
  },
  {
   "cell_type": "code",
   "execution_count": 41,
   "id": "a4f61690",
   "metadata": {},
   "outputs": [
    {
     "data": {
      "text/plain": [
       "[20, 20]"
      ]
     },
     "execution_count": 41,
     "metadata": {},
     "output_type": "execute_result"
    }
   ],
   "source": [
    "# converting hranular observation samples to discrete values\n",
    "DISCRETE_OS_SIZE = [20] * len(env.observation_space.low)\n",
    "DISCRETE_OS_SIZE"
   ]
  },
  {
   "cell_type": "code",
   "execution_count": 43,
   "id": "321e6be5",
   "metadata": {},
   "outputs": [
    {
     "data": {
      "text/plain": [
       "array([0.09 , 0.007])"
      ]
     },
     "execution_count": 43,
     "metadata": {},
     "output_type": "execute_result"
    }
   ],
   "source": [
    "# the window size of each observation\n",
    "discrete_os_win_size = (env.observation_space.high - env.observation_space.low)/DISCRETE_OS_SIZE\n",
    "discrete_os_win_size"
   ]
  },
  {
   "cell_type": "markdown",
   "id": "d30bb090",
   "metadata": {},
   "source": [
    "The `position` space is 0.09 bin size and `velocity` is 0.007"
   ]
  },
  {
   "cell_type": "code",
   "execution_count": null,
   "id": "c7fbcfed",
   "metadata": {},
   "outputs": [],
   "source": []
  }
 ],
 "metadata": {
  "kernelspec": {
   "display_name": "Python 3",
   "language": "python",
   "name": "python3"
  },
  "language_info": {
   "codemirror_mode": {
    "name": "ipython",
    "version": 3
   },
   "file_extension": ".py",
   "mimetype": "text/x-python",
   "name": "python",
   "nbconvert_exporter": "python",
   "pygments_lexer": "ipython3",
   "version": "3.8.8"
  }
 },
 "nbformat": 4,
 "nbformat_minor": 5
}
