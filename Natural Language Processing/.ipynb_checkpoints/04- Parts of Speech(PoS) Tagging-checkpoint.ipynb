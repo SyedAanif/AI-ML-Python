{
 "cells": [
  {
   "cell_type": "markdown",
   "id": "76073bc6",
   "metadata": {},
   "source": [
    "In this notebook we will learn basics of **Parts of Speech(PoS)** tagging using *nltk* (Natural Language Tool Kit)"
   ]
  },
  {
   "cell_type": "code",
   "execution_count": 1,
   "id": "5c2e50f8",
   "metadata": {},
   "outputs": [
    {
     "name": "stderr",
     "output_type": "stream",
     "text": [
      "[nltk_data] Downloading package brown to\n",
      "[nltk_data]     C:\\Users\\syeda\\AppData\\Roaming\\nltk_data...\n",
      "[nltk_data]   Package brown is already up-to-date!\n",
      "[nltk_data] Downloading package averaged_perceptron_tagger to\n",
      "[nltk_data]     C:\\Users\\syeda\\AppData\\Roaming\\nltk_data...\n",
      "[nltk_data]   Package averaged_perceptron_tagger is already up-to-\n",
      "[nltk_data]       date!\n",
      "[nltk_data] Downloading package punkt to\n",
      "[nltk_data]     C:\\Users\\syeda\\AppData\\Roaming\\nltk_data...\n",
      "[nltk_data]   Package punkt is already up-to-date!\n"
     ]
    },
    {
     "data": {
      "text/plain": [
       "True"
      ]
     },
     "execution_count": 1,
     "metadata": {},
     "output_type": "execute_result"
    }
   ],
   "source": [
    "import nltk\n",
    "\n",
    "nltk.download('brown') # download the corpous\n",
    "nltk.download('averaged_perceptron_tagger') # Download the tagger\n",
    "nltk.download('punkt') # download the tokenizer"
   ]
  },
  {
   "cell_type": "code",
   "execution_count": 2,
   "id": "657419d9",
   "metadata": {},
   "outputs": [],
   "source": [
    "# Let us tokenize a sentence\n",
    "text = nltk.word_tokenize(\"Walking is good for health.\")"
   ]
  },
  {
   "cell_type": "code",
   "execution_count": 3,
   "id": "9db856cb",
   "metadata": {},
   "outputs": [
    {
     "data": {
      "text/plain": [
       "[('Walking', 'NN'),\n",
       " ('is', 'VBZ'),\n",
       " ('good', 'JJ'),\n",
       " ('for', 'IN'),\n",
       " ('health', 'NN'),\n",
       " ('.', '.')]"
      ]
     },
     "execution_count": 3,
     "metadata": {},
     "output_type": "execute_result"
    }
   ],
   "source": [
    "# Let us see its PoS\n",
    "nltk.pos_tag(text)\n",
    "\n",
    "# NN -> Noun\n",
    "# VBZ -> Verb\n",
    "# JJ -> Adjective"
   ]
  },
  {
   "cell_type": "code",
   "execution_count": 4,
   "id": "1026d7ca",
   "metadata": {},
   "outputs": [],
   "source": [
    "# Make all words lower case\n",
    "text = nltk.Text(word.lower() for word in nltk.corpus.brown.words())"
   ]
  },
  {
   "cell_type": "code",
   "execution_count": 5,
   "id": "691a898d",
   "metadata": {},
   "outputs": [
    {
     "name": "stdout",
     "output_type": "stream",
     "text": [
      "man other time house trial way place doctor world car city state one\n",
      "past children case family government south situation\n"
     ]
    }
   ],
   "source": [
    "# using similar utility\n",
    "\n",
    "text.similar('kid') # Should be nouns like people"
   ]
  },
  {
   "cell_type": "code",
   "execution_count": 6,
   "id": "04ff067f",
   "metadata": {},
   "outputs": [
    {
     "name": "stdout",
     "output_type": "stream",
     "text": [
      "get be do in see work go have take make put and find time look day say\n",
      "use come show\n"
     ]
    }
   ],
   "source": [
    "text.similar('run') # Should be verbs like 'walk'"
   ]
  },
  {
   "cell_type": "code",
   "execution_count": 7,
   "id": "3d857703",
   "metadata": {},
   "outputs": [
    {
     "name": "stdout",
     "output_type": "stream",
     "text": [
      "in of to and for at with from by as that is into but when was over\n",
      "about all through\n"
     ]
    }
   ],
   "source": [
    "text.similar('on') # Should be prepositions"
   ]
  },
  {
   "cell_type": "code",
   "execution_count": 8,
   "id": "078c28ad",
   "metadata": {},
   "outputs": [
    {
     "name": "stdout",
     "output_type": "stream",
     "text": [
      "and available second wonderful glass moment window formidable wicked\n"
     ]
    }
   ],
   "source": [
    "text.similar('cricket') # Should be either games or insects"
   ]
  },
  {
   "cell_type": "code",
   "execution_count": 9,
   "id": "7d4520d3",
   "metadata": {},
   "outputs": [
    {
     "data": {
      "text/plain": [
       "[('cricket', 'NN')]"
      ]
     },
     "execution_count": 9,
     "metadata": {},
     "output_type": "execute_result"
    }
   ],
   "source": [
    "nltk.pos_tag(nltk.word_tokenize('cricket')) # Should be noun"
   ]
  },
  {
   "cell_type": "code",
   "execution_count": 10,
   "id": "67bbc57e",
   "metadata": {},
   "outputs": [
    {
     "data": {
      "text/plain": [
       "[('Do', 'VBP'), ('you', 'PRP'), ('want', 'VB'), ('to', 'TO'), ('jump', 'VB')]"
      ]
     },
     "execution_count": 10,
     "metadata": {},
     "output_type": "execute_result"
    }
   ],
   "source": [
    "# Let us see if 'jump' is verb\n",
    "nltk.pos_tag(nltk.word_tokenize(\"Do you want to jump\"))"
   ]
  },
  {
   "cell_type": "code",
   "execution_count": 11,
   "id": "106b078c",
   "metadata": {},
   "outputs": [
    {
     "data": {
      "text/plain": [
       "[('That', 'DT'), ('was', 'VBD'), ('a', 'DT'), ('nice', 'JJ'), ('jump', 'NN')]"
      ]
     },
     "execution_count": 11,
     "metadata": {},
     "output_type": "execute_result"
    }
   ],
   "source": [
    " # Let us see if 'jump' is now noun\n",
    "nltk.pos_tag(nltk.word_tokenize(\"That was a nice jump\"))"
   ]
  },
  {
   "cell_type": "code",
   "execution_count": null,
   "id": "fcad1d85",
   "metadata": {},
   "outputs": [],
   "source": []
  }
 ],
 "metadata": {
  "kernelspec": {
   "display_name": "Python 3",
   "language": "python",
   "name": "python3"
  },
  "language_info": {
   "codemirror_mode": {
    "name": "ipython",
    "version": 3
   },
   "file_extension": ".py",
   "mimetype": "text/x-python",
   "name": "python",
   "nbconvert_exporter": "python",
   "pygments_lexer": "ipython3",
   "version": "3.8.8"
  }
 },
 "nbformat": 4,
 "nbformat_minor": 5
}
