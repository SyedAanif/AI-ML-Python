{
 "cells": [
  {
   "cell_type": "markdown",
   "id": "1b7b3cc2",
   "metadata": {},
   "source": [
    "In this we wll understand basics of *word-embeddings* using **word2Vec** and **GloVe** models using **gensim** module."
   ]
  },
  {
   "cell_type": "code",
   "execution_count": 2,
   "id": "a225532f",
   "metadata": {},
   "outputs": [],
   "source": [
    "#!pip install gensim"
   ]
  },
  {
   "cell_type": "code",
   "execution_count": 3,
   "id": "00872072",
   "metadata": {},
   "outputs": [],
   "source": [
    "from gensim.test.utils import datapath, get_tmpfile\n",
    "from gensim.models import KeyedVectors # Gensim contains word2vec models and processing tools"
   ]
  },
  {
   "cell_type": "code",
   "execution_count": 12,
   "id": "40387a6d",
   "metadata": {},
   "outputs": [],
   "source": [
    "# this is 6 billion wikipedia dataset with 50 dimensions\n",
    "glove_file = datapath(r'glove.6B.50d.txt') # This is a GloVe model\n",
    "tmp_file = get_tmpfile(r'word2vec.glove.6B.50d.txt')"
   ]
  },
  {
   "cell_type": "code",
   "execution_count": 13,
   "id": "25af9e63",
   "metadata": {},
   "outputs": [
    {
     "data": {
      "text/plain": [
       "'C:\\\\Users\\\\syeda\\\\anaconda3\\\\lib\\\\site-packages\\\\gensim\\\\test\\\\test_data\\\\glove.6B.50d.txt'"
      ]
     },
     "execution_count": 13,
     "metadata": {},
     "output_type": "execute_result"
    }
   ],
   "source": [
    "glove_file"
   ]
  },
  {
   "cell_type": "code",
   "execution_count": 14,
   "id": "f682d5df",
   "metadata": {},
   "outputs": [
    {
     "data": {
      "text/plain": [
       "'C:\\\\Users\\\\syeda\\\\AppData\\\\Local\\\\Temp\\\\tmph3wji6g9\\\\word2vec.glove.6B.50d.txt'"
      ]
     },
     "execution_count": 14,
     "metadata": {},
     "output_type": "execute_result"
    }
   ],
   "source": [
    "tmp_file"
   ]
  },
  {
   "cell_type": "code",
   "execution_count": 15,
   "id": "e7db1370",
   "metadata": {
    "scrolled": false
   },
   "outputs": [
    {
     "name": "stderr",
     "output_type": "stream",
     "text": [
      "<ipython-input-15-a8f0360e4764>:3: DeprecationWarning: Call to deprecated `glove2word2vec` (KeyedVectors.load_word2vec_format(.., binary=False, no_header=True) loads GLoVE text vectors.).\n",
      "  glove2word2vec(glove_file, tmp_file)  # Converting the GloVe file into a Word2Vec file\n"
     ]
    }
   ],
   "source": [
    "from gensim.scripts.glove2word2vec import glove2word2vec # convert GloVe to word2Vec\n",
    "\n",
    "glove2word2vec(glove_file, tmp_file)  # Converting the GloVe file into a Word2Vec file\n",
    "model = KeyedVectors.load_word2vec_format(tmp_file) # load word2vec model"
   ]
  },
  {
   "cell_type": "code",
   "execution_count": 16,
   "id": "0f040111",
   "metadata": {},
   "outputs": [
    {
     "data": {
      "text/plain": [
       "<gensim.models.keyedvectors.KeyedVectors at 0x2d582917310>"
      ]
     },
     "execution_count": 16,
     "metadata": {},
     "output_type": "execute_result"
    }
   ],
   "source": [
    "model"
   ]
  },
  {
   "cell_type": "code",
   "execution_count": 17,
   "id": "3ed02535",
   "metadata": {},
   "outputs": [
    {
     "name": "stdout",
     "output_type": "stream",
     "text": [
      "(50,)\n",
      "[ 0.45281  -0.50108  -0.53714  -0.015697  0.22191   0.54602  -0.67301\n",
      " -0.6891    0.63493  -0.19726   0.33685   0.7735    0.90094   0.38488\n",
      "  0.38367   0.2657   -0.08057   0.61089  -1.2894   -0.22313  -0.61578\n",
      "  0.21697   0.35614   0.44499   0.60885  -1.1633   -1.1579    0.36118\n",
      "  0.10466  -0.78325   1.4352    0.18629  -0.26112   0.83275  -0.23123\n",
      "  0.32481   0.14485  -0.44552   0.33497  -0.95946  -0.097479  0.48138\n",
      " -0.43352   0.69455   0.91043  -0.28173   0.41637  -1.2609    0.71278\n",
      "  0.23782 ]\n"
     ]
    }
   ],
   "source": [
    "# Check out what the embedding looks like\n",
    "wordEmbed = model['cat']\n",
    "print(wordEmbed.shape)\n",
    "print(wordEmbed)"
   ]
  },
  {
   "cell_type": "code",
   "execution_count": 18,
   "id": "ebd3fc46",
   "metadata": {},
   "outputs": [
    {
     "name": "stdout",
     "output_type": "stream",
     "text": [
      "Aanif is NOT in the model\n"
     ]
    }
   ],
   "source": [
    "# What happens if a word it out of the dictionary?\n",
    "\n",
    "word = 'Aanif' # I am not that famous yet\n",
    "if word in model:\n",
    "    print(f'{word} is in the model')\n",
    "else:\n",
    "    print(f'{word} is NOT in the model')"
   ]
  },
  {
   "cell_type": "code",
   "execution_count": 19,
   "id": "277e929b",
   "metadata": {},
   "outputs": [
    {
     "data": {
      "text/plain": [
       "[('girl', 0.932719886302948),\n",
       " ('woman', 0.859611988067627),\n",
       " ('man', 0.8564430475234985),\n",
       " ('kid', 0.819257915019989),\n",
       " ('mother', 0.8179756999015808),\n",
       " ('teenage', 0.8029857277870178),\n",
       " ('baby', 0.8001460433006287),\n",
       " ('dad', 0.7850530743598938),\n",
       " ('her', 0.7836802005767822),\n",
       " ('old', 0.7815377712249756)]"
      ]
     },
     "execution_count": 19,
     "metadata": {},
     "output_type": "execute_result"
    }
   ],
   "source": [
    "# Most like/similar(positive)\n",
    "\n",
    "model.most_similar(positive=['boy'])"
   ]
  },
  {
   "cell_type": "code",
   "execution_count": 20,
   "id": "09adb274",
   "metadata": {},
   "outputs": [
    {
     "data": {
      "text/plain": [
       "[('toddler', 0.7926537990570068),\n",
       " ('teenage', 0.7791370749473572),\n",
       " ('girls', 0.7590368986129761),\n",
       " ('12-year-old', 0.7517068386077881),\n",
       " ('girlfriend', 0.7495954632759094),\n",
       " ('baby', 0.7431076765060425),\n",
       " ('teen', 0.7420293688774109),\n",
       " ('9-year', 0.7407599687576294),\n",
       " ('14-year-old', 0.7330296039581299),\n",
       " ('orphan', 0.726045548915863)]"
      ]
     },
     "execution_count": 20,
     "metadata": {},
     "output_type": "execute_result"
    }
   ],
   "source": [
    "# Most like X(positive) but unlike Y(negative)\n",
    "\n",
    "model.most_similar(positive=['boy', 'girl'], negative=['man'])"
   ]
  },
  {
   "cell_type": "code",
   "execution_count": 21,
   "id": "18f1df25",
   "metadata": {},
   "outputs": [
    {
     "data": {
      "text/plain": [
       "'car'"
      ]
     },
     "execution_count": 21,
     "metadata": {},
     "output_type": "execute_result"
    }
   ],
   "source": [
    "# a word that is not similar to other words(od-one-out)\n",
    "model.doesnt_match(\"boy girl car man\".split())"
   ]
  },
  {
   "cell_type": "code",
   "execution_count": 22,
   "id": "36ab0981",
   "metadata": {},
   "outputs": [
    {
     "data": {
      "text/plain": [
       "0.8860338"
      ]
     },
     "execution_count": 22,
     "metadata": {},
     "output_type": "execute_result"
    }
   ],
   "source": [
    "# check similarity score between words\n",
    "model.similarity('woman', 'man')"
   ]
  },
  {
   "cell_type": "code",
   "execution_count": 23,
   "id": "61cead42",
   "metadata": {},
   "outputs": [
    {
     "data": {
      "text/plain": [
       "[('man', 0.8706067204475403),\n",
       " ('father', 0.8266595602035522),\n",
       " ('who', 0.8227341771125793),\n",
       " ('woman', 0.8118484020233154),\n",
       " ('death', 0.7955310344696045),\n",
       " ('another', 0.7886118292808533),\n",
       " ('whose', 0.7844258546829224),\n",
       " ('old', 0.7815861105918884),\n",
       " ('victim', 0.7748768329620361),\n",
       " ('him', 0.7725713849067688)]"
      ]
     },
     "execution_count": 23,
     "metadata": {},
     "output_type": "execute_result"
    }
   ],
   "source": [
    "# check X:y::A:b\n",
    "# king is to queen, what is 'A' to woman\n",
    "model.similar_by_vector(model['king'] - model['queen'] + model['woman'])"
   ]
  },
  {
   "cell_type": "code",
   "execution_count": null,
   "id": "5a3e1115",
   "metadata": {},
   "outputs": [],
   "source": []
  }
 ],
 "metadata": {
  "kernelspec": {
   "display_name": "Python 3",
   "language": "python",
   "name": "python3"
  },
  "language_info": {
   "codemirror_mode": {
    "name": "ipython",
    "version": 3
   },
   "file_extension": ".py",
   "mimetype": "text/x-python",
   "name": "python",
   "nbconvert_exporter": "python",
   "pygments_lexer": "ipython3",
   "version": "3.8.8"
  }
 },
 "nbformat": 4,
 "nbformat_minor": 5
}
