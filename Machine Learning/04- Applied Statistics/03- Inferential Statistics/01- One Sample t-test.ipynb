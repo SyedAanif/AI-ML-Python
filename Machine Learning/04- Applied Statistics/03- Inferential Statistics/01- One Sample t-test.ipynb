{
 "cells": [
  {
   "cell_type": "code",
   "execution_count": 1,
   "id": "4349c70d",
   "metadata": {},
   "outputs": [],
   "source": [
    "import numpy as np\n",
    "from scipy.stats import ttest_1samp"
   ]
  },
  {
   "cell_type": "code",
   "execution_count": 2,
   "id": "cf8276a2",
   "metadata": {},
   "outputs": [],
   "source": [
    "# daily intake of energy in kJ for 11 women\n",
    "daily_intake = np.array([5260,5470,5640,6180,6390,6515,\n",
    "                        6805,7515,7515,8230,8770])"
   ]
  },
  {
   "cell_type": "code",
   "execution_count": 3,
   "id": "d3b3d893",
   "metadata": {},
   "outputs": [],
   "source": [
    "# one sample t-test\n",
    "# null hypothesis: H0 : expected value=7725\n",
    "t_statistic, p_value = ttest_1samp(daily_intake,7725)"
   ]
  },
  {
   "cell_type": "code",
   "execution_count": 4,
   "id": "88be40d7",
   "metadata": {},
   "outputs": [
    {
     "data": {
      "text/plain": [
       "-2.8207540608310198"
      ]
     },
     "execution_count": 4,
     "metadata": {},
     "output_type": "execute_result"
    }
   ],
   "source": [
    "t_statistic\n",
    "# mean of daily_intake is 2.8 std below expected mean"
   ]
  },
  {
   "cell_type": "code",
   "execution_count": 5,
   "id": "12151bef",
   "metadata": {},
   "outputs": [
    {
     "data": {
      "text/plain": [
       "0.018137235176105812"
      ]
     },
     "execution_count": 5,
     "metadata": {},
     "output_type": "execute_result"
    }
   ],
   "source": [
    "p_value"
   ]
  },
  {
   "cell_type": "code",
   "execution_count": 6,
   "id": "26b49014",
   "metadata": {},
   "outputs": [],
   "source": [
    "# p_value < alpha(0.05)\n",
    "# OR t_statistic < -1.960(cutoff value), thus lies in the rejection region\n",
    "# thus null hypothesis is rejected and alternative hypothesis is established\n",
    "# thus data deviates significantly from expected value of 7725"
   ]
  },
  {
   "cell_type": "code",
   "execution_count": 7,
   "id": "b6c718f3",
   "metadata": {},
   "outputs": [],
   "source": [
    "# if we choose another alpha for decision making, this might come in 'fail to reject'"
   ]
  }
 ],
 "metadata": {
  "kernelspec": {
   "display_name": "Python 3",
   "language": "python",
   "name": "python3"
  },
  "language_info": {
   "codemirror_mode": {
    "name": "ipython",
    "version": 3
   },
   "file_extension": ".py",
   "mimetype": "text/x-python",
   "name": "python",
   "nbconvert_exporter": "python",
   "pygments_lexer": "ipython3",
   "version": "3.8.8"
  }
 },
 "nbformat": 4,
 "nbformat_minor": 5
}
