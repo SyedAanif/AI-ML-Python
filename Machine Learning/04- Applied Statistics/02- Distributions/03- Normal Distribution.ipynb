{
 "cells": [
  {
   "cell_type": "markdown",
   "id": "684bac54",
   "metadata": {},
   "source": [
    "# Normal Distribution\n",
    "## Problem Statement\n",
    "The mean weight of a morning breakfast cereal pack is 0.295 kg with a standard deviation of 0.025 kg. The random variable weight of the pack follows a normal distribution.\n",
    "\n",
    "a)What is the probability that the pack weighs less than 0.280 kg?\n",
    "\n",
    "b)What is the probability that the pack weighs more than 0.350 kg?\n",
    "\n",
    "c)What is the probability that the pack weighs between 0.260 kg to 0.340 kg?"
   ]
  },
  {
   "cell_type": "markdown",
   "id": "ab544602",
   "metadata": {},
   "source": [
    "we can do the calculations in two ways:\n",
    "- using `Z-score` or `standardisation`\n",
    "- using original values supplied, with `mean in loc` and `standard deviation in scale`\n",
    "\n",
    "*NOTE*: the function calculates integral to the left"
   ]
  },
  {
   "cell_type": "code",
   "execution_count": 1,
   "id": "59e49a9a",
   "metadata": {},
   "outputs": [],
   "source": [
    "import scipy.stats as stats"
   ]
  },
  {
   "cell_type": "code",
   "execution_count": 2,
   "id": "58cd6336",
   "metadata": {},
   "outputs": [
    {
     "data": {
      "text/plain": [
       "-0.5999999999999983"
      ]
     },
     "execution_count": 2,
     "metadata": {},
     "output_type": "execute_result"
    }
   ],
   "source": [
    "# using z-score or standardisation\n",
    "z = (0.280 - 0.295) / 0.025\n",
    "z"
   ]
  },
  {
   "cell_type": "code",
   "execution_count": 3,
   "id": "a1401a1b",
   "metadata": {},
   "outputs": [
    {
     "data": {
      "text/plain": [
       "0.2742531177500741"
      ]
     },
     "execution_count": 3,
     "metadata": {},
     "output_type": "execute_result"
    }
   ],
   "source": [
    "# normal distribution using z-score\n",
    "stats.norm.cdf(z)"
   ]
  },
  {
   "cell_type": "code",
   "execution_count": 4,
   "id": "eb4f31c6",
   "metadata": {},
   "outputs": [
    {
     "data": {
      "text/plain": [
       "0.2742531177500741"
      ]
     },
     "execution_count": 4,
     "metadata": {},
     "output_type": "execute_result"
    }
   ],
   "source": [
    "# using original values\n",
    "stats.norm.cdf(x=0.280,loc=0.295,scale=0.025)"
   ]
  },
  {
   "cell_type": "code",
   "execution_count": 5,
   "id": "70a1f46c",
   "metadata": {},
   "outputs": [
    {
     "data": {
      "text/plain": [
       "0.01390344751349859"
      ]
     },
     "execution_count": 5,
     "metadata": {},
     "output_type": "execute_result"
    }
   ],
   "source": [
    "# the probability(area) to the right = (1 - probability to the left)\n",
    "1 - stats.norm.cdf(x=0.350,loc=0.295,scale=0.025)"
   ]
  },
  {
   "cell_type": "code",
   "execution_count": 6,
   "id": "749dff3f",
   "metadata": {},
   "outputs": [
    {
     "data": {
      "text/plain": [
       "0.8833130216533032"
      ]
     },
     "execution_count": 6,
     "metadata": {},
     "output_type": "execute_result"
    }
   ],
   "source": [
    "# the probability between can be taken as difference of two left probabilities\n",
    "stats.norm.cdf(0.340,loc=0.295,scale=0.025)-stats.norm.cdf(0.260,loc=0.295,scale=0.025)"
   ]
  },
  {
   "cell_type": "code",
   "execution_count": 7,
   "id": "8e30a20a",
   "metadata": {},
   "outputs": [
    {
     "data": {
      "text/plain": [
       "0.6826894921370859"
      ]
     },
     "execution_count": 7,
     "metadata": {},
     "output_type": "execute_result"
    }
   ],
   "source": [
    "# we can verify empirical rule also\n",
    "stats.norm.cdf(1) - stats.norm.cdf(-1) # 68% between 1 standard deviations"
   ]
  }
 ],
 "metadata": {
  "kernelspec": {
   "display_name": "Python 3",
   "language": "python",
   "name": "python3"
  },
  "language_info": {
   "codemirror_mode": {
    "name": "ipython",
    "version": 3
   },
   "file_extension": ".py",
   "mimetype": "text/x-python",
   "name": "python",
   "nbconvert_exporter": "python",
   "pygments_lexer": "ipython3",
   "version": "3.8.8"
  }
 },
 "nbformat": 4,
 "nbformat_minor": 5
}
